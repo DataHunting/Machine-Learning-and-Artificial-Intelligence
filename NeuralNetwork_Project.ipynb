{
 "cells": [
  {
   "cell_type": "code",
   "execution_count": 1,
   "metadata": {
    "colab": {
     "base_uri": "https://localhost:8080/",
     "height": 34
    },
    "id": "1ZE0dMm9rpNN",
    "outputId": "180bb4fe-f304-48c5-8a74-72d17aa431bd"
   },
   "outputs": [
    {
     "name": "stdout",
     "output_type": "stream",
     "text": [
      "Mounted at /content/drive\n"
     ]
    }
   ],
   "source": [
    "# Mounting Google Drive\n",
    "from google.colab import drive\n",
    "drive.mount('/content/drive')"
   ]
  },
  {
   "cell_type": "code",
   "execution_count": 2,
   "metadata": {
    "colab": {
     "base_uri": "https://localhost:8080/",
     "height": 34
    },
    "id": "SIY-G0eOr6Fk",
    "outputId": "b56da6ba-b732-46d5-8bb3-bbb3da6ab73c"
   },
   "outputs": [
    {
     "name": "stdout",
     "output_type": "stream",
     "text": [
      "/content\n"
     ]
    }
   ],
   "source": [
    "!pwd"
   ]
  },
  {
   "cell_type": "code",
   "execution_count": 3,
   "metadata": {
    "id": "MbAo5xhXsQij"
   },
   "outputs": [],
   "source": [
    "# Setting the current working directory\n",
    "import os; os.chdir('drive/My Drive')"
   ]
  },
  {
   "cell_type": "code",
   "execution_count": 4,
   "metadata": {
    "colab": {
     "base_uri": "https://localhost:8080/",
     "height": 34
    },
    "id": "gpsfozBqsa_q",
    "outputId": "a1de723e-8ee5-4a55-839c-89ed72697199"
   },
   "outputs": [
    {
     "name": "stdout",
     "output_type": "stream",
     "text": [
      "/content/drive/My Drive\n"
     ]
    }
   ],
   "source": [
    "!pwd"
   ]
  },
  {
   "cell_type": "code",
   "execution_count": 5,
   "metadata": {
    "colab": {
     "base_uri": "https://localhost:8080/",
     "height": 34
    },
    "id": "b4leETIkse1d",
    "outputId": "25ad887e-5ee9-4f6d-b07f-f0e31acb773f"
   },
   "outputs": [
    {
     "name": "stdout",
     "output_type": "stream",
     "text": [
      "TensorFlow 1.x selected.\n"
     ]
    }
   ],
   "source": [
    "%tensorflow_version 1.x"
   ]
  },
  {
   "cell_type": "code",
   "execution_count": 6,
   "metadata": {
    "colab": {
     "base_uri": "https://localhost:8080/",
     "height": 34
    },
    "id": "zY07E_xosljR",
    "outputId": "7ecbc2ae-74c7-464e-eaa5-4b5e8e007e1b"
   },
   "outputs": [
    {
     "name": "stdout",
     "output_type": "stream",
     "text": [
      "Found GPU at: /device:GPU:0\n"
     ]
    }
   ],
   "source": [
    "# Imports\n",
    "import pandas as pd, numpy as np, matplotlib.pyplot as plt, seaborn as sns, h5py\n",
    "import matplotlib.style as style; style.use('fivethirtyeight')\n",
    "%matplotlib inline\n",
    "\n",
    "# Metrics and preprocessing\n",
    "from sklearn.metrics import classification_report, accuracy_score, confusion_matrix, precision_score, recall_score, f1_score, precision_recall_curve, auc\n",
    "from sklearn.model_selection import train_test_split\n",
    "from sklearn import preprocessing\n",
    "\n",
    "# TF and Keras\n",
    "from tensorflow.keras.layers import Dense, Dropout, BatchNormalization\n",
    "from tensorflow.keras.layers import Activation, Dense\n",
    "from tensorflow.keras.utils import to_categorical\n",
    "from tensorflow.keras.models import Sequential\n",
    "from tensorflow.keras import optimizers\n",
    "\n",
    "# Checking if GPU is found\n",
    "import tensorflow as tf\n",
    "device_name = tf.test.gpu_device_name()\n",
    "if device_name != '/device:GPU:0':\n",
    "  raise SystemError('GPU device not found')\n",
    "print('Found GPU at: {}'.format(device_name))\n",
    "\n",
    "tf.reset_default_graph()\n",
    "tf.set_random_seed(42)"
   ]
  },
  {
   "cell_type": "code",
   "execution_count": 9,
   "metadata": {
    "id": "OOWzmQZLss3Z"
   },
   "outputs": [],
   "source": [
    "# Read the h5 file\n",
    "h5_SVH = h5py.File('SVHN_single_grey1.h5', 'r')"
   ]
  },
  {
   "cell_type": "code",
   "execution_count": 10,
   "metadata": {
    "colab": {
     "base_uri": "https://localhost:8080/",
     "height": 151
    },
    "id": "m9zcgYQVs2Ab",
    "outputId": "0ff14a09-12b2-42f3-c225-c885a20d4dfb"
   },
   "outputs": [
    {
     "name": "stdout",
     "output_type": "stream",
     "text": [
      "Training set (42000, 32, 32) (42000,)\n",
      "Validation set (60000, 32, 32) (60000,)\n",
      "Test set (18000, 32, 32) (18000,)\n",
      "\n",
      "\n",
      "Unique labels in y_train: [0 1 2 3 4 5 6 7 8 9]\n",
      "Unique labels in y_val: [0 1 2 3 4 5 6 7 8 9]\n",
      "Unique labels in y_test: [0 1 2 3 4 5 6 7 8 9]\n"
     ]
    }
   ],
   "source": [
    "# Load the training, validation and test sets\n",
    "X_train = h5_SVH['X_train'][:]\n",
    "y_train_o = h5_SVH['y_train'][:]\n",
    "X_val = h5_SVH['X_val'][:]\n",
    "y_val_o = h5_SVH['y_val'][:]\n",
    "X_test = h5_SVH['X_test'][:]\n",
    "y_test_o = h5_SVH['y_test'][:]\n",
    "\n",
    "# Close this file\n",
    "\n",
    "h5_SVH.close()\n",
    "\n",
    "print('Training set', X_train.shape, y_train_o.shape)\n",
    "print('Validation set', X_val.shape, y_val_o.shape)\n",
    "print('Test set', X_test.shape, y_test_o.shape)\n",
    "\n",
    "print('\\n')\n",
    "print('Unique labels in y_train:', np.unique(y_train_o))\n",
    "print('Unique labels in y_val:', np.unique(y_val_o))\n",
    "print('Unique labels in y_test:', np.unique(y_test_o))"
   ]
  },
  {
   "cell_type": "markdown",
   "metadata": {
    "id": "YwpSF2PLxQot"
   },
   "source": [
    "Length of training sets: 42k, validation sets: 60k, test sets: 18k\n",
    "\n",
    "Size of the images: 32*32\n",
    "\n",
    "Number of class: 10"
   ]
  },
  {
   "cell_type": "code",
   "execution_count": 11,
   "metadata": {
    "colab": {
     "base_uri": "https://localhost:8080/",
     "height": 151
    },
    "id": "3LOGhTTsxkSC",
    "outputId": "64a023df-4c2e-4015-ecdf-78d473579dd4"
   },
   "outputs": [
    {
     "data": {
      "image/png": "[encoded data removed]",
      "text/plain": [
       "<Figure size 1080x324 with 10 Axes>"
      ]
     },
     "metadata": {
      "needs_background": "light",
      "tags": []
     },
     "output_type": "display_data"
    },
    {
     "name": "stdout",
     "output_type": "stream",
     "text": [
      "Label for each of the above image: [2 6 7 4 4 0 3 0 7 3]\n"
     ]
    }
   ],
   "source": [
    "# Visualizing first 10 images in the dataset and their labels\n",
    "plt.figure(figsize = (15, 4.5))\n",
    "for i in range(10):  \n",
    "    plt.subplot(1, 10, i+1)\n",
    "    plt.imshow(X_train[i].reshape((32, 32)),cmap = plt.cm.binary)\n",
    "    plt.axis('off')\n",
    "plt.subplots_adjust(wspace = -0.1, hspace = -0.1)\n",
    "plt.show()\n",
    "\n",
    "print('Label for each of the above image: %s' % (y_train_o[0 : 10]))"
   ]
  },
  {
   "cell_type": "code",
   "execution_count": 12,
   "metadata": {
    "colab": {
     "base_uri": "https://localhost:8080/",
     "height": 313
    },
    "id": "Pb3gYps5xxNu",
    "outputId": "b01d47c6-b68d-47ad-fcec-140530e57c05"
   },
   "outputs": [
    {
     "name": "stdout",
     "output_type": "stream",
     "text": [
      "Checking first image and label in training set\n",
      "--------------------------------------------------------------------------------\n"
     ]
    },
    {
     "data": {
      "image/png": "[encoded data removed]",
      "text/plain": [
       "<Figure size 432x288 with 1 Axes>"
      ]
     },
     "metadata": {
      "needs_background": "light",
      "tags": []
     },
     "output_type": "display_data"
    },
    {
     "name": "stdout",
     "output_type": "stream",
     "text": [
      "Label: 2\n"
     ]
    }
   ],
   "source": [
    "print('Checking first image and label in training set'); print('--'*40)\n",
    "plt.imshow(X_train[0], cmap = plt.cm.binary)    \n",
    "plt.show()\n",
    "print('Label:', y_train_o[0])"
   ]
  },
  {
   "cell_type": "code",
   "execution_count": 13,
   "metadata": {
    "colab": {
     "base_uri": "https://localhost:8080/",
     "height": 313
    },
    "id": "pfklNaHxyK_W",
    "outputId": "264e16b1-2e27-43b2-ffba-8236a0d79c82"
   },
   "outputs": [
    {
     "name": "stdout",
     "output_type": "stream",
     "text": [
      "Checking first image and label in validation set\n",
      "--------------------------------------------------------------------------------\n"
     ]
    },
    {
     "data": {
      "image/png": "[encoded data removed]",
      "text/plain": [
       "<Figure size 432x288 with 1 Axes>"
      ]
     },
     "metadata": {
      "needs_background": "light",
      "tags": []
     },
     "output_type": "display_data"
    },
    {
     "name": "stdout",
     "output_type": "stream",
     "text": [
      "Label: 0\n"
     ]
    }
   ],
   "source": [
    "\n",
    "print('Checking first image and label in validation set'); print('--'*40)\n",
    "plt.imshow(X_val[0], cmap = plt.cm.binary)    \n",
    "plt.show()\n",
    "print('Label:', y_val_o[0])"
   ]
  },
  {
   "cell_type": "code",
   "execution_count": 14,
   "metadata": {
    "colab": {
     "base_uri": "https://localhost:8080/",
     "height": 313
    },
    "id": "eAuyoVH_yQe5",
    "outputId": "ceffbb9e-0635-4715-841d-75eb2e96647e"
   },
   "outputs": [
    {
     "name": "stdout",
     "output_type": "stream",
     "text": [
      "Checking first image and label in test set\n",
      "--------------------------------------------------------------------------------\n"
     ]
    },
    {
     "data": {
      "image/png": "[encoded data removed]",
      "text/plain": [
       "<Figure size 432x288 with 1 Axes>"
      ]
     },
     "metadata": {
      "needs_background": "light",
      "tags": []
     },
     "output_type": "display_data"
    },
    {
     "name": "stdout",
     "output_type": "stream",
     "text": [
      "Label: 1\n"
     ]
    }
   ],
   "source": [
    "print('Checking first image and label in test set'); print('--'*40)\n",
    "plt.imshow(X_test[0], cmap = plt.cm.binary)    \n",
    "plt.show()\n",
    "print('Label:', y_test_o[0])"
   ]
  },
  {
   "cell_type": "code",
   "execution_count": 15,
   "metadata": {
    "colab": {
     "base_uri": "https://localhost:8080/",
     "height": 151
    },
    "id": "PDWMEtLLyVh7",
    "outputId": "9c28a28a-41d9-4a4c-fd97-945ddc2a7b62"
   },
   "outputs": [
    {
     "name": "stdout",
     "output_type": "stream",
     "text": [
      "Reshaping X data: (n, 32, 32) => (n, 1024)\n",
      "--------------------------------------------------------------------------------\n",
      "Making sure that the values are float so that we can get decimal points after division\n",
      "--------------------------------------------------------------------------------\n",
      "Normalizing the RGB codes by dividing it to the max RGB value\n",
      "--------------------------------------------------------------------------------\n",
      "Converting y data into categorical (one-hot encoding)\n",
      "--------------------------------------------------------------------------------\n"
     ]
    }
   ],
   "source": [
    "print('Reshaping X data: (n, 32, 32) => (n, 1024)'); print('--'*40)\n",
    "X_train = X_train.reshape((X_train.shape[0], -1))\n",
    "X_val = X_val.reshape((X_val.shape[0], -1))\n",
    "X_test = X_test.reshape((X_test.shape[0], -1))\n",
    "\n",
    "print('Making sure that the values are float so that we can get decimal points after division'); print('--'*40)\n",
    "X_train = X_train.astype('float32')\n",
    "X_val = X_val.astype('float32')\n",
    "X_test = X_test.astype('float32')\n",
    "\n",
    "print('Normalizing the RGB codes by dividing it to the max RGB value'); print('--'*40)\n",
    "X_train /= 255\n",
    "X_val /= 255\n",
    "X_test /= 255\n",
    "\n",
    "print('Converting y data into categorical (one-hot encoding)'); print('--'*40)\n",
    "y_train = to_categorical(y_train_o)\n",
    "y_val = to_categorical(y_val_o)\n",
    "y_test = to_categorical(y_test_o)"
   ]
  },
  {
   "cell_type": "code",
   "execution_count": 16,
   "metadata": {
    "colab": {
     "base_uri": "https://localhost:8080/",
     "height": 235
    },
    "id": "xc952XtQy16Y",
    "outputId": "fb4e2234-faa4-4e74-ea96-037631f4bda3"
   },
   "outputs": [
    {
     "name": "stdout",
     "output_type": "stream",
     "text": [
      "X_train shape: (42000, 1024)\n",
      "X_val shape: (60000, 1024)\n",
      "X_test shape: (18000, 1024)\n",
      "\n",
      "\n",
      "y_train shape: (42000, 10)\n",
      "y_val shape: (60000, 10)\n",
      "y_test shape: (18000, 10)\n",
      "\n",
      "\n",
      "Number of images in X_train 42000\n",
      "Number of images in X_val 60000\n",
      "Number of images in X_test 18000\n"
     ]
    }
   ],
   "source": [
    "\n",
    "print('X_train shape:', X_train.shape)\n",
    "print('X_val shape:', X_val.shape)\n",
    "print('X_test shape:', X_test.shape)\n",
    "\n",
    "print('\\n')\n",
    "print('y_train shape:', y_train.shape)\n",
    "print('y_val shape:', y_val.shape)\n",
    "print('y_test shape:', y_test.shape)\n",
    "\n",
    "print('\\n')\n",
    "print('Number of images in X_train', X_train.shape[0])\n",
    "print('Number of images in X_val', X_val.shape[0])\n",
    "print('Number of images in X_test', X_test.shape[0])"
   ]
  },
  {
   "cell_type": "markdown",
   "metadata": {
    "id": "Upq1JL60zS00"
   },
   "source": [
    "**Modelling - Baby sitting the learning process**\n",
    "\n",
    "Fully connected linear layer"
   ]
  },
  {
   "cell_type": "code",
   "execution_count": 17,
   "metadata": {
    "id": "pxH4cAy1zmG6"
   },
   "outputs": [],
   "source": [
    "class Linear():\n",
    "    def __init__(self, in_size, out_size):\n",
    "        self.W = np.random.randn(in_size, out_size) * 0.01\n",
    "        self.b = np.zeros((1, out_size))\n",
    "        self.params = [self.W, self.b]\n",
    "        self.gradW = None\n",
    "        self.gradB = None\n",
    "        self.gradInput = None        \n",
    "\n",
    "    def forward(self, X):\n",
    "        self.X = X\n",
    "        self.output = np.dot(X, self.W) + self.b\n",
    "        return self.output\n",
    "\n",
    "    def backward(self, nextgrad):\n",
    "        self.gradW = np.dot(self.X.T, nextgrad)\n",
    "        self.gradB = np.sum(nextgrad, axis=0)\n",
    "        self.gradInput = np.dot(nextgrad, self.W.T)\n",
    "        return self.gradInput, [self.gradW, self.gradB]"
   ]
  },
  {
   "cell_type": "markdown",
   "metadata": {
    "id": "F_TSZb_ozsuG"
   },
   "source": [
    "ReLu"
   ]
  },
  {
   "cell_type": "code",
   "execution_count": 18,
   "metadata": {
    "id": "559M3fkrzvmX"
   },
   "outputs": [],
   "source": [
    "class ReLU():\n",
    "    def __init__(self):\n",
    "        self.params = []\n",
    "        self.gradInput = None\n",
    "\n",
    "    def forward(self, X):\n",
    "        self.output = np.maximum(X, 0)\n",
    "        return self.output\n",
    "\n",
    "    def backward(self, nextgrad):\n",
    "        self.gradInput = nextgrad.copy()\n",
    "        self.gradInput[self.output <=0] = 0\n",
    "        return self.gradInput, []"
   ]
  },
  {
   "cell_type": "markdown",
   "metadata": {
    "id": "ie-b_fC40tiY"
   },
   "source": [
    "Softmax function"
   ]
  },
  {
   "cell_type": "code",
   "execution_count": 19,
   "metadata": {
    "id": "CYs9x4GS03N7"
   },
   "outputs": [],
   "source": [
    "\n",
    "def softmax(x):\n",
    "    exp_x = np.exp(x - np.max(x, axis=1, keepdims=True))\n",
    "    return exp_x / np.sum(exp_x, axis=1, keepdims=True)"
   ]
  },
  {
   "cell_type": "markdown",
   "metadata": {
    "id": "P57dsXtA07V_"
   },
   "source": [
    "Cross entropy loss"
   ]
  },
  {
   "cell_type": "code",
   "execution_count": 20,
   "metadata": {
    "id": "gPhcgYQN0_D0"
   },
   "outputs": [],
   "source": [
    "class CrossEntropy:\n",
    "    def forward(self, X, y):\n",
    "        self.m = y.shape[0]\n",
    "        self.p = softmax(X)\n",
    "        cross_entropy = -np.log(self.p[range(self.m), y]+1e-16)\n",
    "        loss = np.sum(cross_entropy) / self.m\n",
    "        return loss\n",
    "    \n",
    "    def backward(self, X, y):\n",
    "        y_idx = y.argmax()        \n",
    "        grad = softmax(X)\n",
    "        grad[range(self.m), y] -= 1\n",
    "        grad /= self.m\n",
    "        return grad"
   ]
  },
  {
   "cell_type": "markdown",
   "metadata": {
    "id": "I33rUMxq1DrB"
   },
   "source": [
    "NN class that enables the forward prop and backward propagation of the entire network"
   ]
  },
  {
   "cell_type": "code",
   "execution_count": 21,
   "metadata": {
    "id": "ZBpMssWW1IU8"
   },
   "outputs": [],
   "source": [
    "class NN():\n",
    "    def __init__(self, lossfunc = CrossEntropy(), mode = 'train'):\n",
    "        self.params = []\n",
    "        self.layers = []\n",
    "        self.loss_func = lossfunc\n",
    "        self.grads = []\n",
    "        self.mode = mode\n",
    "        \n",
    "    def add_layer(self, layer):\n",
    "        self.layers.append(layer)\n",
    "        self.params.append(layer.params)\n",
    "\n",
    "    def forward(self, X):\n",
    "        for layer in self.layers:\n",
    "            X = layer.forward(X)\n",
    "        return X\n",
    "    \n",
    "    def backward(self, nextgrad):\n",
    "        self.clear_grad_param()\n",
    "        for layer in reversed(self.layers):\n",
    "            nextgrad, grad = layer.backward(nextgrad)\n",
    "            self.grads.append(grad)\n",
    "        return self.grads\n",
    "    \n",
    "    def train_step(self, X, y):\n",
    "        out = self.forward(X)\n",
    "        loss = self.loss_func.forward(out,y)\n",
    "        nextgrad = self.loss_func.backward(out,y)\n",
    "        grads = self.backward(nextgrad)\n",
    "        return loss, grads\n",
    "    \n",
    "    def predict(self, X):\n",
    "        X = self.forward(X)\n",
    "        p = softmax(X)\n",
    "        return np.argmax(p, axis=1)\n",
    "    \n",
    "    def predict_scores(self, X):\n",
    "        X = self.forward(X)\n",
    "        p = softmax(X)\n",
    "        return p\n",
    "    \n",
    "    def clear_grad_param(self):\n",
    "        self.grads = []"
   ]
  },
  {
   "cell_type": "markdown",
   "metadata": {
    "id": "eSaLD7YV1lI7"
   },
   "source": [
    "Update function SGD with momentum"
   ]
  },
  {
   "cell_type": "code",
   "execution_count": 22,
   "metadata": {
    "id": "u-maZ1Q11ny3"
   },
   "outputs": [],
   "source": [
    "def update(velocity, params, grads, learning_rate=0.01, mu=0.9):\n",
    "    for v, p, g, in zip(velocity, params, reversed(grads)):\n",
    "        for i in range(len(g)):\n",
    "            v[i] = (mu * v[i]) - (learning_rate * g[i])\n",
    "            p[i] += v[i]"
   ]
  },
  {
   "cell_type": "markdown",
   "metadata": {
    "id": "3DVC4FCx1yaB"
   },
   "source": [
    "Get minibatches"
   ]
  },
  {
   "cell_type": "code",
   "execution_count": 23,
   "metadata": {
    "id": "dK87lyqH16r5"
   },
   "outputs": [],
   "source": [
    "\n",
    "def minibatch(X, y, minibatch_size):\n",
    "    n = X.shape[0]\n",
    "    minibatches = []\n",
    "    permutation = np.random.permutation(X.shape[0])\n",
    "    X = X[permutation]\n",
    "    y = y[permutation]\n",
    "    \n",
    "    for i in range(0, n , minibatch_size):\n",
    "        X_batch = X[i:i + minibatch_size, :]\n",
    "        y_batch = y[i:i + minibatch_size, ]\n",
    "        minibatches.append((X_batch, y_batch))\n",
    "        \n",
    "    return minibatches"
   ]
  },
  {
   "cell_type": "markdown",
   "metadata": {
    "id": "1QADCzce1-6j"
   },
   "source": [
    "The training loop"
   ]
  },
  {
   "cell_type": "code",
   "execution_count": 24,
   "metadata": {
    "id": "7h70zQdi2B5W"
   },
   "outputs": [],
   "source": [
    "def train(net, X_train, y_train, minibatch_size, epoch, learning_rate, mu = 0.9, X_val = None, y_val = None, Lambda = 0, verb = True):\n",
    "    val_loss_epoch = []\n",
    "    minibatches = minibatch(X_train, y_train, minibatch_size)\n",
    "    minibatches_val = minibatch(X_val, y_val, minibatch_size)\n",
    "    \n",
    "    for i in range(epoch):\n",
    "        loss_batch = []\n",
    "        val_loss_batch = []\n",
    "        velocity = []\n",
    "        for param_layer in net.params:\n",
    "            p = [np.zeros_like(param) for param in list(param_layer)]\n",
    "            velocity.append(p)\n",
    "            \n",
    "        # iterate over mini batches\n",
    "        for X_mini, y_mini in minibatches:\n",
    "            loss, grads = net.train_step(X_mini, y_mini)\n",
    "            loss_batch.append(loss)\n",
    "            update(velocity, net.params, grads, learning_rate=learning_rate, mu=mu)\n",
    "\n",
    "        for X_mini_val, y_mini_val in minibatches_val:\n",
    "            val_loss, _ = net.train_step(X_mini, y_mini)\n",
    "            val_loss_batch.append(val_loss)\n",
    "        \n",
    "        # accuracy of model at end of epoch after all mini batch updates\n",
    "        m_train = X_train.shape[0]\n",
    "        m_val = X_val.shape[0]\n",
    "        y_train_pred = []\n",
    "        y_val_pred = []\n",
    "        y_train1 = []\n",
    "        y_vall = []\n",
    "        for ii in range(0, m_train, minibatch_size):\n",
    "            X_tr = X_train[ii:ii + minibatch_size, : ]\n",
    "            y_tr = y_train[ii:ii + minibatch_size,]\n",
    "            y_train1 = np.append(y_train1, y_tr)\n",
    "            y_train_pred = np.append(y_train_pred, net.predict(X_tr))\n",
    "\n",
    "        for ii in range(0, m_val, minibatch_size):\n",
    "            X_va = X_val[ii:ii + minibatch_size, : ]\n",
    "            y_va = y_val[ii:ii + minibatch_size,]\n",
    "            y_vall = np.append(y_vall, y_va)\n",
    "            y_val_pred = np.append(y_val_pred, net.predict(X_va))\n",
    "            \n",
    "        train_acc = check_accuracy(y_train1, y_train_pred)\n",
    "        val_acc = check_accuracy(y_vall, y_val_pred)\n",
    "        \n",
    "        ## weights\n",
    "        w = np.array(net.params[0][0])\n",
    "        \n",
    "        ## adding regularization to cost\n",
    "        mean_train_loss = (sum(loss_batch) / float(len(loss_batch)))\n",
    "        mean_val_loss = sum(val_loss_batch) / float(len(val_loss_batch))\n",
    "        \n",
    "        val_loss_epoch.append(mean_val_loss)\n",
    "        if verb:\n",
    "            if i%50==0:\n",
    "                print(\"Epoch {3}/{4}: Loss = {0} | Training Accuracy = {1}\".format(mean_train_loss, train_acc, val_acc, i, epoch))\n",
    "    return net, val_acc"
   ]
  },
  {
   "cell_type": "markdown",
   "metadata": {
    "id": "P4pmsI-w2LjW"
   },
   "source": [
    "Checking the accuracy of the model"
   ]
  },
  {
   "cell_type": "code",
   "execution_count": 27,
   "metadata": {
    "id": "f0--kGfh2QXY"
   },
   "outputs": [],
   "source": [
    "def check_accuracy(y_true, y_pred):\n",
    "    return np.mean(y_pred == y_true)"
   ]
  },
  {
   "cell_type": "markdown",
   "metadata": {
    "id": "Xi3gXiLT2UE8"
   },
   "source": [
    "Invoking all that we have created until now"
   ]
  },
  {
   "cell_type": "code",
   "execution_count": 28,
   "metadata": {
    "id": "BRDP1iSB2W2V"
   },
   "outputs": [],
   "source": [
    "# Invoking the model\n",
    "## input size\n",
    "input_dim = X_train.shape[1]\n",
    "\n",
    "def train_and_test_loop(iterations, lr, Lambda, verb = True):\n",
    "    ## hyperparameters\n",
    "    iterations = iterations\n",
    "    learning_rate = lr\n",
    "    hidden_nodes1 = 10\n",
    "    output_nodes = 10\n",
    "\n",
    "    ## define neural net\n",
    "    nn = NN()\n",
    "    nn.add_layer(Linear(input_dim, hidden_nodes1))\n",
    "\n",
    "    nn, val_acc = train(nn, X_train, y_train_o, minibatch_size = 200, epoch = iterations, learning_rate = learning_rate,\\\n",
    "                      X_val = X_test, y_val = y_test_o, Lambda = Lambda, verb = verb)\n",
    "    return val_acc"
   ]
  },
  {
   "cell_type": "markdown",
   "metadata": {
    "id": "c788S3RV2l2-"
   },
   "source": [
    "Double Check that the loss is reasonable : Disable the regularization"
   ]
  },
  {
   "cell_type": "code",
   "execution_count": 29,
   "metadata": {
    "colab": {
     "base_uri": "https://localhost:8080/",
     "height": 50
    },
    "id": "Ww5RT2lZ2mlj",
    "outputId": "bfea148f-52c5-47ed-ffd3-af63374ac811"
   },
   "outputs": [
    {
     "name": "stdout",
     "output_type": "stream",
     "text": [
      "Epoch 0/1: Loss = 2.308100997350299 | Training Accuracy = 0.10204761904761905\n"
     ]
    },
    {
     "data": {
      "text/plain": [
       "0.10211111111111111"
      ]
     },
     "execution_count": 29,
     "metadata": {
      "tags": []
     },
     "output_type": "execute_result"
    }
   ],
   "source": [
    "lr = 0.00001\n",
    "Lambda = 0\n",
    "train_and_test_loop(1, lr, Lambda)"
   ]
  },
  {
   "cell_type": "code",
   "execution_count": 30,
   "metadata": {
    "colab": {
     "base_uri": "https://localhost:8080/",
     "height": 50
    },
    "id": "SxV9nhQr2oqh",
    "outputId": "f50b91d6-de54-43a5-dfce-d48501e9a117"
   },
   "outputs": [
    {
     "name": "stdout",
     "output_type": "stream",
     "text": [
      "Epoch 0/1: Loss = 2.3075877941653418 | Training Accuracy = 0.08861904761904763\n"
     ]
    },
    {
     "data": {
      "text/plain": [
       "0.088"
      ]
     },
     "execution_count": 30,
     "metadata": {
      "tags": []
     },
     "output_type": "execute_result"
    }
   ],
   "source": [
    "#Now, lets crank up the Lambda(Regularization) and check what it does to our loss function\n",
    "lr = 0.00001\n",
    "Lambda = 1e3\n",
    "train_and_test_loop(1, lr, Lambda)"
   ]
  },
  {
   "cell_type": "code",
   "execution_count": 31,
   "metadata": {
    "colab": {
     "base_uri": "https://localhost:8080/",
     "height": 34
    },
    "id": "OjZUfhza24x9",
    "outputId": "1fc7e275-3be1-47ec-d185-e3067331ed7f"
   },
   "outputs": [
    {
     "data": {
      "text/plain": [
       "((20, 1024), (20,))"
      ]
     },
     "execution_count": 31,
     "metadata": {
      "tags": []
     },
     "output_type": "execute_result"
    }
   ],
   "source": [
    "#Now, lets overfit to a small subset of our dataset, in this case 20 images\n",
    "X_train_subset = X_train[0:20]\n",
    "y_train_subset = y_train_o[0:20]\n",
    "\n",
    "X_train = X_train_subset\n",
    "y_train_o = y_train_subset\n",
    "\n",
    "X_train.shape, y_train_o.shape"
   ]
  },
  {
   "cell_type": "markdown",
   "metadata": {
    "id": "NxEFCYFm3CPz"
   },
   "source": [
    "**Make sure that you can overfit very small portion of the training data**\n",
    "\n",
    "So, set a small learning rate and turn regularization off In the code below:\n",
    "\n",
    "Take the first 20 examples\n",
    "\n",
    "turn off regularization(reg=0.0)\n",
    "\n",
    "use simple vanilla 'sgd'\n"
   ]
  },
  {
   "cell_type": "code",
   "execution_count": 32,
   "metadata": {
    "colab": {
     "base_uri": "https://localhost:8080/",
     "height": 1000
    },
    "id": "q_LwGCOK3LGR",
    "outputId": "04fae542-1266-41dc-ac91-1d731f7dbfd6"
   },
   "outputs": [
    {
     "name": "stdout",
     "output_type": "stream",
     "text": [
      "CPU times: user 10 µs, sys: 3 µs, total: 13 µs\n",
      "Wall time: 16.5 µs\n",
      "Epoch 0/5000: Loss = 2.2491220477822242 | Training Accuracy = 0.15\n",
      "Epoch 50/5000: Loss = 1.9277344219372892 | Training Accuracy = 0.3\n",
      "Epoch 100/5000: Loss = 1.8486931782576068 | Training Accuracy = 0.45\n",
      "Epoch 150/5000: Loss = 1.7964648373112488 | Training Accuracy = 0.45\n",
      "Epoch 200/5000: Loss = 1.7525596845358264 | Training Accuracy = 0.5\n",
      "Epoch 250/5000: Loss = 1.7128033896444967 | Training Accuracy = 0.5\n",
      "Epoch 300/5000: Loss = 1.6757047123659192 | Training Accuracy = 0.5\n",
      "Epoch 350/5000: Loss = 1.6405821520239208 | Training Accuracy = 0.5\n",
      "Epoch 400/5000: Loss = 1.6070708285799742 | Training Accuracy = 0.5\n",
      "Epoch 450/5000: Loss = 1.5749500302705703 | Training Accuracy = 0.55\n",
      "Epoch 500/5000: Loss = 1.5440718124932777 | Training Accuracy = 0.55\n",
      "Epoch 550/5000: Loss = 1.51432817913074 | Training Accuracy = 0.55\n",
      "Epoch 600/5000: Loss = 1.4856348027691766 | Training Accuracy = 0.55\n",
      "Epoch 650/5000: Loss = 1.4579224112512952 | Training Accuracy = 0.6\n",
      "Epoch 700/5000: Loss = 1.4311319533941627 | Training Accuracy = 0.6\n",
      "Epoch 750/5000: Loss = 1.4052117306006204 | Training Accuracy = 0.6\n",
      "Epoch 800/5000: Loss = 1.380115603271241 | Training Accuracy = 0.6\n",
      "Epoch 850/5000: Loss = 1.3558018131925307 | Training Accuracy = 0.6\n",
      "Epoch 900/5000: Loss = 1.3322321750928603 | Training Accuracy = 0.65\n",
      "Epoch 950/5000: Loss = 1.3093714989243996 | Training Accuracy = 0.65\n",
      "Epoch 1000/5000: Loss = 1.2871871620282247 | Training Accuracy = 0.65\n",
      "Epoch 1050/5000: Loss = 1.2656487821378324 | Training Accuracy = 0.65\n",
      "Epoch 1100/5000: Loss = 1.2447279603904287 | Training Accuracy = 0.65\n",
      "Epoch 1150/5000: Loss = 1.2243980743259588 | Training Accuracy = 0.65\n",
      "Epoch 1200/5000: Loss = 1.2046341074897087 | Training Accuracy = 0.7\n",
      "Epoch 1250/5000: Loss = 1.1854125064566465 | Training Accuracy = 0.7\n",
      "Epoch 1300/5000: Loss = 1.1667110588336411 | Training Accuracy = 0.75\n",
      "Epoch 1350/5000: Loss = 1.1485087876254185 | Training Accuracy = 0.75\n",
      "Epoch 1400/5000: Loss = 1.1307858586007278 | Training Accuracy = 0.75\n",
      "Epoch 1450/5000: Loss = 1.1135234981669269 | Training Accuracy = 0.75\n",
      "Epoch 1500/5000: Loss = 1.096703919879293 | Training Accuracy = 0.75\n",
      "Epoch 1550/5000: Loss = 1.080310258156223 | Training Accuracy = 0.8\n",
      "Epoch 1600/5000: Loss = 1.0643265080957502 | Training Accuracy = 0.8\n",
      "Epoch 1650/5000: Loss = 1.048737470527949 | Training Accuracy = 0.8\n",
      "Epoch 1700/5000: Loss = 1.0335287016158563 | Training Accuracy = 0.8\n",
      "Epoch 1750/5000: Loss = 1.0186864664514936 | Training Accuracy = 0.8\n",
      "Epoch 1800/5000: Loss = 1.0041976961951136 | Training Accuracy = 0.85\n",
      "Epoch 1850/5000: Loss = 0.9900499483836066 | Training Accuracy = 0.85\n",
      "Epoch 1900/5000: Loss = 0.976231370094031 | Training Accuracy = 0.85\n",
      "Epoch 1950/5000: Loss = 0.9627306636951607 | Training Accuracy = 0.85\n",
      "Epoch 2000/5000: Loss = 0.9495370549569067 | Training Accuracy = 0.85\n",
      "Epoch 2050/5000: Loss = 0.9366402633169928 | Training Accuracy = 0.85\n",
      "Epoch 2100/5000: Loss = 0.9240304741281878 | Training Accuracy = 0.85\n",
      "Epoch 2150/5000: Loss = 0.9116983127289373 | Training Accuracy = 0.85\n",
      "Epoch 2200/5000: Loss = 0.8996348201965801 | Training Accuracy = 0.85\n",
      "Epoch 2250/5000: Loss = 0.887831430656066 | Training Accuracy = 0.9\n",
      "Epoch 2300/5000: Loss = 0.8762799500288896 | Training Accuracy = 0.95\n",
      "Epoch 2350/5000: Loss = 0.864972536117177 | Training Accuracy = 0.95\n",
      "Epoch 2400/5000: Loss = 0.8539016799268488 | Training Accuracy = 0.95\n",
      "Epoch 2450/5000: Loss = 0.843060188141744 | Training Accuracy = 0.95\n",
      "Epoch 2500/5000: Loss = 0.8324411666677536 | Training Accuracy = 0.95\n",
      "Epoch 2550/5000: Loss = 0.8220380051724352 | Training Accuracy = 0.95\n",
      "Epoch 2600/5000: Loss = 0.8118443625514379 | Training Accuracy = 0.95\n",
      "Epoch 2650/5000: Loss = 0.8018541532583988 | Training Accuracy = 0.95\n",
      "Epoch 2700/5000: Loss = 0.7920615344398315 | Training Accuracy = 0.95\n",
      "Epoch 2750/5000: Loss = 0.7824608938210027 | Training Accuracy = 0.95\n",
      "Epoch 2800/5000: Loss = 0.7730468382928841 | Training Accuracy = 1.0\n",
      "Epoch 2850/5000: Loss = 0.7638141831540253 | Training Accuracy = 1.0\n",
      "Epoch 2900/5000: Loss = 0.7547579419646512 | Training Accuracy = 1.0\n",
      "Epoch 2950/5000: Loss = 0.7458733169734604 | Training Accuracy = 1.0\n",
      "Epoch 3000/5000: Loss = 0.7371556900805221 | Training Accuracy = 1.0\n",
      "Epoch 3050/5000: Loss = 0.7286006143023451 | Training Accuracy = 1.0\n",
      "Epoch 3100/5000: Loss = 0.7202038057076566 | Training Accuracy = 1.0\n",
      "Epoch 3150/5000: Loss = 0.7119611357946848 | Training Accuracy = 1.0\n",
      "Epoch 3200/5000: Loss = 0.7038686242828323 | Training Accuracy = 1.0\n",
      "Epoch 3250/5000: Loss = 0.6959224322935109 | Training Accuracy = 1.0\n",
      "Epoch 3300/5000: Loss = 0.6881188558966899 | Training Accuracy = 1.0\n",
      "Epoch 3350/5000: Loss = 0.6804543200013029 | Training Accuracy = 1.0\n",
      "Epoch 3400/5000: Loss = 0.6729253725691453 | Training Accuracy = 1.0\n",
      "Epoch 3450/5000: Loss = 0.6655286791332711 | Training Accuracy = 1.0\n",
      "Epoch 3500/5000: Loss = 0.6582610176031376 | Training Accuracy = 1.0\n",
      "Epoch 3550/5000: Loss = 0.6511192733399183 | Training Accuracy = 1.0\n",
      "Epoch 3600/5000: Loss = 0.6441004344864767 | Training Accuracy = 1.0\n",
      "Epoch 3650/5000: Loss = 0.6372015875374688 | Training Accuracy = 1.0\n",
      "Epoch 3700/5000: Loss = 0.6304199131359707 | Training Accuracy = 1.0\n",
      "Epoch 3750/5000: Loss = 0.6237526820838682 | Training Accuracy = 1.0\n",
      "Epoch 3800/5000: Loss = 0.6171972515540386 | Training Accuracy = 1.0\n",
      "Epoch 3850/5000: Loss = 0.6107510614930691 | Training Accuracy = 1.0\n",
      "Epoch 3900/5000: Loss = 0.6044116312039571 | Training Accuracy = 1.0\n",
      "Epoch 3950/5000: Loss = 0.5981765560988495 | Training Accuracy = 1.0\n",
      "Epoch 4000/5000: Loss = 0.5920435046124781 | Training Accuracy = 1.0\n",
      "Epoch 4050/5000: Loss = 0.5860102152674995 | Training Accuracy = 1.0\n",
      "Epoch 4100/5000: Loss = 0.580074493883449 | Training Accuracy = 1.0\n",
      "Epoch 4150/5000: Loss = 0.5742342109215148 | Training Accuracy = 1.0\n",
      "Epoch 4200/5000: Loss = 0.568487298957779 | Training Accuracy = 1.0\n",
      "Epoch 4250/5000: Loss = 0.562831750277992 | Training Accuracy = 1.0\n",
      "Epoch 4300/5000: Loss = 0.5572656145873498 | Training Accuracy = 1.0\n",
      "Epoch 4350/5000: Loss = 0.5517869968291087 | Training Accuracy = 1.0\n",
      "Epoch 4400/5000: Loss = 0.5463940551062275 | Training Accuracy = 1.0\n",
      "Epoch 4450/5000: Loss = 0.5410849987005428 | Training Accuracy = 1.0\n",
      "Epoch 4500/5000: Loss = 0.5358580861843082 | Training Accuracy = 1.0\n",
      "Epoch 4550/5000: Loss = 0.5307116236192031 | Training Accuracy = 1.0\n",
      "Epoch 4600/5000: Loss = 0.5256439628382032 | Training Accuracy = 1.0\n",
      "Epoch 4650/5000: Loss = 0.52065349980595 | Training Accuracy = 1.0\n",
      "Epoch 4700/5000: Loss = 0.5157386730535091 | Training Accuracy = 1.0\n",
      "Epoch 4750/5000: Loss = 0.5108979621836311 | Training Accuracy = 1.0\n",
      "Epoch 4800/5000: Loss = 0.5061298864428448 | Training Accuracy = 1.0\n",
      "Epoch 4850/5000: Loss = 0.5014330033569195 | Training Accuracy = 1.0\n",
      "Epoch 4900/5000: Loss = 0.49680590742641406 | Training Accuracy = 1.0\n",
      "Epoch 4950/5000: Loss = 0.49224722887923045 | Training Accuracy = 1.0\n"
     ]
    },
    {
     "data": {
      "text/plain": [
       "0.13727777777777778"
      ]
     },
     "execution_count": 32,
     "metadata": {
      "tags": []
     },
     "output_type": "execute_result"
    }
   ],
   "source": [
    "\n",
    "%time\n",
    "lr = 0.001\n",
    "Lambda = 0\n",
    "train_and_test_loop(5000, lr, Lambda)"
   ]
  },
  {
   "cell_type": "code",
   "execution_count": 33,
   "metadata": {
    "colab": {
     "base_uri": "https://localhost:8080/",
     "height": 151
    },
    "id": "prv1ikzt3GBo",
    "outputId": "41d73941-1984-44bb-eaf3-4b34bc3871d8"
   },
   "outputs": [
    {
     "name": "stdout",
     "output_type": "stream",
     "text": [
      "Reshaping X data: (n, 32, 32) => (n, 1024)\n",
      "--------------------------------------------------------------------------------\n",
      "Making sure that the values are float so that we can get decimal points after division\n",
      "--------------------------------------------------------------------------------\n",
      "Normalizing the RGB codes by dividing it to the max RGB value\n",
      "--------------------------------------------------------------------------------\n",
      "Converting y data into categorical (one-hot encoding)\n",
      "--------------------------------------------------------------------------------\n"
     ]
    }
   ],
   "source": [
    "#Loading the original dataset again\n",
    "h5_SVH = h5py.File('SVHN_single_grey1.h5', 'r')\n",
    "# Load the training, validation and test sets\n",
    "X_train = h5_SVH['X_train'][:]\n",
    "y_train_o = h5_SVH['y_train'][:]\n",
    "X_val = h5_SVH['X_val'][:]\n",
    "y_val_o = h5_SVH['y_val'][:]\n",
    "X_test = h5_SVH['X_test'][:]\n",
    "y_test_o = h5_SVH['y_test'][:]\n",
    "\n",
    "print('Reshaping X data: (n, 32, 32) => (n, 1024)'); print('--'*40)\n",
    "X_train = X_train.reshape((X_train.shape[0], -1))\n",
    "X_val = X_val.reshape((X_val.shape[0], -1))\n",
    "X_test = X_test.reshape((X_test.shape[0], -1))\n",
    "\n",
    "print('Making sure that the values are float so that we can get decimal points after division'); print('--'*40)\n",
    "X_train = X_train.astype('float32')\n",
    "X_val = X_val.astype('float32')\n",
    "X_test = X_test.astype('float32')\n",
    "\n",
    "print('Normalizing the RGB codes by dividing it to the max RGB value'); print('--'*40)\n",
    "X_train /= 255\n",
    "X_val /= 255\n",
    "X_test /= 255\n",
    "\n",
    "print('Converting y data into categorical (one-hot encoding)'); print('--'*40)\n",
    "y_train = to_categorical(y_train_o)\n",
    "y_val = to_categorical(y_val_o)\n",
    "y_test = to_categorical(y_test_o)"
   ]
  },
  {
   "cell_type": "markdown",
   "metadata": {
    "id": "8S8iGCue6x8b"
   },
   "source": [
    "**Start with small regularization and find learning rate that makes the loss go down.**\n",
    "\n",
    "we start with Lambda(small regularization) = 1e-7\n",
    "\n",
    "we start with a small learning rate = 1e-7"
   ]
  },
  {
   "cell_type": "code",
   "execution_count": 34,
   "metadata": {
    "colab": {
     "base_uri": "https://localhost:8080/",
     "height": 202
    },
    "id": "LSVqhwLh64mH",
    "outputId": "c741ee6d-54ac-433e-9b79-f64631bce356"
   },
   "outputs": [
    {
     "name": "stdout",
     "output_type": "stream",
     "text": [
      "Epoch 0/500: Loss = 2.3181051126974146 | Training Accuracy = 0.09907142857142857\n",
      "Epoch 50/500: Loss = 2.3127125997827465 | Training Accuracy = 0.09971428571428571\n",
      "Epoch 100/500: Loss = 2.309285909940037 | Training Accuracy = 0.10042857142857142\n",
      "Epoch 150/500: Loss = 2.307092680058417 | Training Accuracy = 0.1005952380952381\n",
      "Epoch 200/500: Loss = 2.3056812738828394 | Training Accuracy = 0.09988095238095238\n",
      "Epoch 250/500: Loss = 2.304768511881174 | Training Accuracy = 0.10002380952380953\n",
      "Epoch 300/500: Loss = 2.304174970415249 | Training Accuracy = 0.10042857142857142\n",
      "Epoch 350/500: Loss = 2.303786237292737 | Training Accuracy = 0.10057142857142858\n",
      "Epoch 400/500: Loss = 2.3035290794478227 | Training Accuracy = 0.10121428571428571\n",
      "Epoch 450/500: Loss = 2.3033565199716186 | Training Accuracy = 0.09964285714285714\n"
     ]
    },
    {
     "data": {
      "text/plain": [
       "0.09694444444444444"
      ]
     },
     "execution_count": 34,
     "metadata": {
      "tags": []
     },
     "output_type": "execute_result"
    }
   ],
   "source": [
    "lr = 1e-7\n",
    "Lambda = 1e-7\n",
    "train_and_test_loop(500, lr, Lambda)"
   ]
  },
  {
   "cell_type": "code",
   "execution_count": 35,
   "metadata": {
    "colab": {
     "base_uri": "https://localhost:8080/",
     "height": 202
    },
    "id": "x5A8O9G766zD",
    "outputId": "f9ee8042-a641-4977-d192-56f29d694806"
   },
   "outputs": [
    {
     "name": "stdout",
     "output_type": "stream",
     "text": [
      "Epoch 0/500: Loss = 2.3038100947086106 | Training Accuracy = 0.1153095238095238\n",
      "Epoch 50/500: Loss = 2.259406173835449 | Training Accuracy = 0.21007142857142858\n",
      "Epoch 100/500: Loss = 2.2508995120932145 | Training Accuracy = 0.2200952380952381\n",
      "Epoch 150/500: Loss = 2.2465671740634754 | Training Accuracy = 0.22492857142857142\n",
      "Epoch 200/500: Loss = 2.243668694501525 | Training Accuracy = 0.22814285714285715\n",
      "Epoch 250/500: Loss = 2.2414897320526572 | Training Accuracy = 0.22997619047619047\n",
      "Epoch 300/500: Loss = 2.2397439602973037 | Training Accuracy = 0.23202380952380952\n",
      "Epoch 350/500: Loss = 2.2382871909748627 | Training Accuracy = 0.23347619047619048\n",
      "Epoch 400/500: Loss = 2.23703639958682 | Training Accuracy = 0.2344047619047619\n",
      "Epoch 450/500: Loss = 2.235939445644749 | Training Accuracy = 0.2349047619047619\n"
     ]
    },
    {
     "data": {
      "text/plain": [
       "0.21761111111111112"
      ]
     },
     "execution_count": 35,
     "metadata": {
      "tags": []
     },
     "output_type": "execute_result"
    }
   ],
   "source": [
    "#Lets try to train now with a value of learning rate 0.001\n",
    "lr = 0.001\n",
    "Lambda = 1e-7\n",
    "train_and_test_loop(500, lr, Lambda)"
   ]
  },
  {
   "cell_type": "code",
   "execution_count": 36,
   "metadata": {
    "colab": {
     "base_uri": "https://localhost:8080/",
     "height": 319
    },
    "id": "RHWj5fuX9SmK",
    "outputId": "200ee513-2e7f-468a-bd37-1e96819d1cd5"
   },
   "outputs": [
    {
     "name": "stdout",
     "output_type": "stream",
     "text": [
      "Try 1/10: Best_val_acc: 0.20583333333333334, lr: 0.0014332136596590015, Lambda: 44.836407072910625\n",
      "\n",
      "Try 2/10: Best_val_acc: 0.21072222222222223, lr: 0.0030645369744048798, Lambda: 0.0038038543177265145\n",
      "\n",
      "Try 3/10: Best_val_acc: 0.201, lr: 0.005376211909501392, Lambda: 0.02027346854920309\n",
      "\n",
      "Try 4/10: Best_val_acc: 0.19727777777777777, lr: 0.00209363338437974, Lambda: 1.2552896839937797e-05\n",
      "\n",
      "Try 5/10: Best_val_acc: 0.20544444444444446, lr: 0.003571592523572499, Lambda: 2.546926938149572\n",
      "\n",
      "Try 6/10: Best_val_acc: 0.2117777777777778, lr: 0.004606049015880646, Lambda: 7.517921432676577\n",
      "\n",
      "Try 7/10: Best_val_acc: 0.1768888888888889, lr: 0.006781639317306768, Lambda: 0.990019122986644\n",
      "\n",
      "Try 8/10: Best_val_acc: 0.20972222222222223, lr: 0.0033636109526767838, Lambda: 3.6534048637752225e-05\n",
      "\n",
      "Try 9/10: Best_val_acc: 0.19927777777777778, lr: 0.0013247707565504797, Lambda: 0.001608111253858637\n",
      "\n"
     ]
    }
   ],
   "source": [
    "#Hyperparameter Optimization\n",
    "#Running a finer search\n",
    "\n",
    "import math\n",
    "for k in range(1, 10):\n",
    "    lr = math.pow(10, np.random.uniform(-3.0, -2.0))\n",
    "    Lambda = math.pow(10, np.random.uniform(-5, 2))\n",
    "    best_acc = train_and_test_loop(100, lr, Lambda, False)\n",
    "    print(\"Try {0}/{1}: Best_val_acc: {2}, lr: {3}, Lambda: {4}\\n\".format(k, 10, best_acc, lr, Lambda))"
   ]
  },
  {
   "cell_type": "markdown",
   "metadata": {
    "id": "YYpkBYlxEM2e"
   },
   "source": [
    "**NN model, sigmoid activations, SGD optimizer**"
   ]
  },
  {
   "cell_type": "code",
   "execution_count": 37,
   "metadata": {
    "colab": {
     "base_uri": "https://localhost:8080/",
     "height": 121
    },
    "id": "KqeYveTNEP6U",
    "outputId": "23beea99-b016-4e4b-e9aa-8fd7f38c0a23"
   },
   "outputs": [
    {
     "name": "stdout",
     "output_type": "stream",
     "text": [
      "NN model with sigmoid activations\n",
      "--------------------------------------------------------------------------------\n",
      "WARNING:tensorflow:From /tensorflow-1.15.2/python3.6/tensorflow_core/python/ops/resource_variable_ops.py:1630: calling BaseResourceVariable.__init__ (from tensorflow.python.ops.resource_variable_ops) with constraint is deprecated and will be removed in a future version.\n",
      "Instructions for updating:\n",
      "If using Keras pass *_constraint arguments to layers.\n"
     ]
    }
   ],
   "source": [
    "\n",
    "print('NN model with sigmoid activations'); print('--'*40)\n",
    "# Initialize the neural network classifier\n",
    "model1 = Sequential()\n",
    "\n",
    "# Input Layer - adding input layer and activation functions sigmoid\n",
    "model1.add(Dense(128, input_shape = (1024, )))\n",
    "# Adding activation function\n",
    "model1.add(Activation('sigmoid'))\n",
    "\n",
    "#Hidden Layer 1 - adding first hidden layer\n",
    "model1.add(Dense(64))\n",
    "# Adding activation function\n",
    "model1.add(Activation('sigmoid'))\n",
    "\n",
    "# Output Layer - adding output layer which is of 10 nodes (digits)\n",
    "model1.add(Dense(10))\n",
    "# Adding activation function - softmax for multiclass classification\n",
    "model1.add(Activation('softmax'))"
   ]
  },
  {
   "cell_type": "code",
   "execution_count": 38,
   "metadata": {
    "colab": {
     "base_uri": "https://localhost:8080/",
     "height": 353
    },
    "id": "m_qR2In4ESZu",
    "outputId": "0f05da83-b36e-4cac-e62e-bbfd8b1f2d1b"
   },
   "outputs": [
    {
     "name": "stdout",
     "output_type": "stream",
     "text": [
      "Model: \"sequential\"\n",
      "_________________________________________________________________\n",
      "Layer (type)                 Output Shape              Param #   \n",
      "=================================================================\n",
      "dense (Dense)                (None, 128)               131200    \n",
      "_________________________________________________________________\n",
      "activation (Activation)      (None, 128)               0         \n",
      "_________________________________________________________________\n",
      "dense_1 (Dense)              (None, 64)                8256      \n",
      "_________________________________________________________________\n",
      "activation_1 (Activation)    (None, 64)                0         \n",
      "_________________________________________________________________\n",
      "dense_2 (Dense)              (None, 10)                650       \n",
      "_________________________________________________________________\n",
      "activation_2 (Activation)    (None, 10)                0         \n",
      "=================================================================\n",
      "Total params: 140,106\n",
      "Trainable params: 140,106\n",
      "Non-trainable params: 0\n",
      "_________________________________________________________________\n"
     ]
    }
   ],
   "source": [
    "model1.summary()"
   ]
  },
  {
   "cell_type": "code",
   "execution_count": 39,
   "metadata": {
    "colab": {
     "base_uri": "https://localhost:8080/",
     "height": 1000
    },
    "id": "RluHQaLhEaX2",
    "outputId": "4a8e2eb3-834f-4a40-bbbc-93e8cc8eb696"
   },
   "outputs": [
    {
     "name": "stdout",
     "output_type": "stream",
     "text": [
      "Train on 42000 samples, validate on 60000 samples\n",
      "Epoch 1/100\n",
      "42000/42000 [==============================] - 3s 70us/sample - loss: 2.3173 - acc: 0.1009 - val_loss: 2.3030 - val_acc: 0.1002\n",
      "Epoch 2/100\n",
      "42000/42000 [==============================] - 1s 30us/sample - loss: 2.3031 - acc: 0.0986 - val_loss: 2.3028 - val_acc: 0.0959\n",
      "Epoch 3/100\n",
      "42000/42000 [==============================] - 1s 30us/sample - loss: 2.3030 - acc: 0.1001 - val_loss: 2.3028 - val_acc: 0.1031\n",
      "Epoch 4/100\n",
      "42000/42000 [==============================] - 1s 30us/sample - loss: 2.3029 - acc: 0.1012 - val_loss: 2.3028 - val_acc: 0.0992\n",
      "Epoch 5/100\n",
      "42000/42000 [==============================] - 1s 30us/sample - loss: 2.3029 - acc: 0.1006 - val_loss: 2.3027 - val_acc: 0.1048\n",
      "Epoch 6/100\n",
      "42000/42000 [==============================] - 1s 30us/sample - loss: 2.3029 - acc: 0.0997 - val_loss: 2.3027 - val_acc: 0.0992\n",
      "Epoch 7/100\n",
      "42000/42000 [==============================] - 1s 30us/sample - loss: 2.3028 - acc: 0.1000 - val_loss: 2.3027 - val_acc: 0.1060\n",
      "Epoch 8/100\n",
      "42000/42000 [==============================] - 1s 30us/sample - loss: 2.3027 - acc: 0.1035 - val_loss: 2.3026 - val_acc: 0.1024\n",
      "Epoch 9/100\n",
      "42000/42000 [==============================] - 1s 30us/sample - loss: 2.3027 - acc: 0.1033 - val_loss: 2.3025 - val_acc: 0.1025\n",
      "Epoch 10/100\n",
      "42000/42000 [==============================] - 1s 30us/sample - loss: 2.3026 - acc: 0.1029 - val_loss: 2.3027 - val_acc: 0.1054\n",
      "Epoch 11/100\n",
      "42000/42000 [==============================] - 1s 30us/sample - loss: 2.3026 - acc: 0.1025 - val_loss: 2.3024 - val_acc: 0.1046\n",
      "Epoch 12/100\n",
      "42000/42000 [==============================] - 1s 30us/sample - loss: 2.3026 - acc: 0.1033 - val_loss: 2.3025 - val_acc: 0.1000\n",
      "Epoch 13/100\n",
      "42000/42000 [==============================] - 1s 30us/sample - loss: 2.3025 - acc: 0.1027 - val_loss: 2.3024 - val_acc: 0.1024\n",
      "Epoch 14/100\n",
      "42000/42000 [==============================] - 1s 31us/sample - loss: 2.3025 - acc: 0.1026 - val_loss: 2.3023 - val_acc: 0.1019\n",
      "Epoch 15/100\n",
      "42000/42000 [==============================] - 1s 30us/sample - loss: 2.3025 - acc: 0.1010 - val_loss: 2.3023 - val_acc: 0.1063\n",
      "Epoch 16/100\n",
      "42000/42000 [==============================] - 1s 31us/sample - loss: 2.3024 - acc: 0.1054 - val_loss: 2.3023 - val_acc: 0.0991\n",
      "Epoch 17/100\n",
      "42000/42000 [==============================] - 1s 30us/sample - loss: 2.3024 - acc: 0.1020 - val_loss: 2.3022 - val_acc: 0.1053\n",
      "Epoch 18/100\n",
      "42000/42000 [==============================] - 1s 30us/sample - loss: 2.3023 - acc: 0.1014 - val_loss: 2.3022 - val_acc: 0.0981\n",
      "Epoch 19/100\n",
      "42000/42000 [==============================] - 1s 31us/sample - loss: 2.3023 - acc: 0.1018 - val_loss: 2.3021 - val_acc: 0.1066\n",
      "Epoch 20/100\n",
      "42000/42000 [==============================] - 1s 30us/sample - loss: 2.3023 - acc: 0.1017 - val_loss: 2.3021 - val_acc: 0.1027\n",
      "Epoch 21/100\n",
      "42000/42000 [==============================] - 1s 31us/sample - loss: 2.3022 - acc: 0.1044 - val_loss: 2.3021 - val_acc: 0.1015\n",
      "Epoch 22/100\n",
      "42000/42000 [==============================] - 1s 31us/sample - loss: 2.3021 - acc: 0.1034 - val_loss: 2.3020 - val_acc: 0.1037\n",
      "Epoch 23/100\n",
      "42000/42000 [==============================] - 1s 31us/sample - loss: 2.3022 - acc: 0.1015 - val_loss: 2.3019 - val_acc: 0.1031\n",
      "Epoch 24/100\n",
      "42000/42000 [==============================] - 1s 31us/sample - loss: 2.3020 - acc: 0.1032 - val_loss: 2.3020 - val_acc: 0.1033\n",
      "Epoch 25/100\n",
      "42000/42000 [==============================] - 1s 30us/sample - loss: 2.3020 - acc: 0.1053 - val_loss: 2.3019 - val_acc: 0.1063\n",
      "Epoch 26/100\n",
      "42000/42000 [==============================] - 1s 30us/sample - loss: 2.3020 - acc: 0.1038 - val_loss: 2.3018 - val_acc: 0.1034\n",
      "Epoch 27/100\n",
      "42000/42000 [==============================] - 1s 30us/sample - loss: 2.3020 - acc: 0.1048 - val_loss: 2.3019 - val_acc: 0.1041\n",
      "Epoch 28/100\n",
      "42000/42000 [==============================] - 1s 30us/sample - loss: 2.3018 - acc: 0.1049 - val_loss: 2.3020 - val_acc: 0.1056\n",
      "Epoch 29/100\n",
      "42000/42000 [==============================] - 1s 30us/sample - loss: 2.3019 - acc: 0.1047 - val_loss: 2.3018 - val_acc: 0.1067\n",
      "Epoch 30/100\n",
      "42000/42000 [==============================] - 1s 30us/sample - loss: 2.3019 - acc: 0.1055 - val_loss: 2.3018 - val_acc: 0.0989\n",
      "Epoch 31/100\n",
      "42000/42000 [==============================] - 1s 30us/sample - loss: 2.3018 - acc: 0.1071 - val_loss: 2.3017 - val_acc: 0.1000\n",
      "Epoch 32/100\n",
      "42000/42000 [==============================] - 1s 30us/sample - loss: 2.3018 - acc: 0.1038 - val_loss: 2.3017 - val_acc: 0.1082\n",
      "Epoch 33/100\n",
      "42000/42000 [==============================] - 1s 30us/sample - loss: 2.3017 - acc: 0.1057 - val_loss: 2.3017 - val_acc: 0.1021\n",
      "Epoch 34/100\n",
      "42000/42000 [==============================] - 1s 30us/sample - loss: 2.3016 - acc: 0.1058 - val_loss: 2.3018 - val_acc: 0.1009\n",
      "Epoch 35/100\n",
      "42000/42000 [==============================] - 1s 30us/sample - loss: 2.3017 - acc: 0.1044 - val_loss: 2.3015 - val_acc: 0.1011\n",
      "Epoch 36/100\n",
      "42000/42000 [==============================] - 1s 30us/sample - loss: 2.3016 - acc: 0.1043 - val_loss: 2.3015 - val_acc: 0.1105\n",
      "Epoch 37/100\n",
      "42000/42000 [==============================] - 1s 30us/sample - loss: 2.3016 - acc: 0.1055 - val_loss: 2.3014 - val_acc: 0.1125\n",
      "Epoch 38/100\n",
      "42000/42000 [==============================] - 1s 32us/sample - loss: 2.3015 - acc: 0.1069 - val_loss: 2.3015 - val_acc: 0.1049\n",
      "Epoch 39/100\n",
      "42000/42000 [==============================] - 1s 32us/sample - loss: 2.3015 - acc: 0.1061 - val_loss: 2.3015 - val_acc: 0.1046\n",
      "Epoch 40/100\n",
      "42000/42000 [==============================] - 1s 32us/sample - loss: 2.3016 - acc: 0.1045 - val_loss: 2.3014 - val_acc: 0.1134\n",
      "Epoch 41/100\n",
      "42000/42000 [==============================] - 1s 31us/sample - loss: 2.3015 - acc: 0.1051 - val_loss: 2.3013 - val_acc: 0.1111\n",
      "Epoch 42/100\n",
      "42000/42000 [==============================] - 1s 32us/sample - loss: 2.3014 - acc: 0.1066 - val_loss: 2.3014 - val_acc: 0.1044\n",
      "Epoch 43/100\n",
      "42000/42000 [==============================] - 1s 32us/sample - loss: 2.3014 - acc: 0.1058 - val_loss: 2.3012 - val_acc: 0.1138\n",
      "Epoch 44/100\n",
      "42000/42000 [==============================] - 1s 32us/sample - loss: 2.3013 - acc: 0.1084 - val_loss: 2.3013 - val_acc: 0.1067\n",
      "Epoch 45/100\n",
      "42000/42000 [==============================] - 1s 32us/sample - loss: 2.3013 - acc: 0.1081 - val_loss: 2.3013 - val_acc: 0.1081\n",
      "Epoch 46/100\n",
      "42000/42000 [==============================] - 1s 31us/sample - loss: 2.3013 - acc: 0.1099 - val_loss: 2.3012 - val_acc: 0.1013\n",
      "Epoch 47/100\n",
      "42000/42000 [==============================] - 1s 31us/sample - loss: 2.3013 - acc: 0.1071 - val_loss: 2.3012 - val_acc: 0.1155\n",
      "Epoch 48/100\n",
      "42000/42000 [==============================] - 1s 31us/sample - loss: 2.3012 - acc: 0.1082 - val_loss: 2.3011 - val_acc: 0.1104\n",
      "Epoch 49/100\n",
      "42000/42000 [==============================] - 1s 31us/sample - loss: 2.3012 - acc: 0.1097 - val_loss: 2.3011 - val_acc: 0.1038\n",
      "Epoch 50/100\n",
      "42000/42000 [==============================] - 1s 30us/sample - loss: 2.3012 - acc: 0.1091 - val_loss: 2.3011 - val_acc: 0.1089\n",
      "Epoch 51/100\n",
      "42000/42000 [==============================] - 1s 30us/sample - loss: 2.3011 - acc: 0.1107 - val_loss: 2.3010 - val_acc: 0.1152\n",
      "Epoch 52/100\n",
      "42000/42000 [==============================] - 1s 31us/sample - loss: 2.3011 - acc: 0.1102 - val_loss: 2.3011 - val_acc: 0.1057\n",
      "Epoch 53/100\n",
      "42000/42000 [==============================] - 1s 31us/sample - loss: 2.3011 - acc: 0.1098 - val_loss: 2.3010 - val_acc: 0.1094\n",
      "Epoch 54/100\n",
      "42000/42000 [==============================] - 1s 31us/sample - loss: 2.3010 - acc: 0.1099 - val_loss: 2.3009 - val_acc: 0.1100\n",
      "Epoch 55/100\n",
      "42000/42000 [==============================] - 1s 30us/sample - loss: 2.3010 - acc: 0.1125 - val_loss: 2.3009 - val_acc: 0.1099\n",
      "Epoch 56/100\n",
      "42000/42000 [==============================] - 1s 31us/sample - loss: 2.3009 - acc: 0.1095 - val_loss: 2.3008 - val_acc: 0.1174\n",
      "Epoch 57/100\n",
      "42000/42000 [==============================] - 1s 30us/sample - loss: 2.3009 - acc: 0.1126 - val_loss: 2.3009 - val_acc: 0.1111\n",
      "Epoch 58/100\n",
      "42000/42000 [==============================] - 1s 31us/sample - loss: 2.3008 - acc: 0.1124 - val_loss: 2.3008 - val_acc: 0.1186\n",
      "Epoch 59/100\n",
      "42000/42000 [==============================] - 1s 30us/sample - loss: 2.3007 - acc: 0.1131 - val_loss: 2.3011 - val_acc: 0.1185\n",
      "Epoch 60/100\n",
      "42000/42000 [==============================] - 1s 30us/sample - loss: 2.3008 - acc: 0.1112 - val_loss: 2.3007 - val_acc: 0.1153\n",
      "Epoch 61/100\n",
      "42000/42000 [==============================] - 1s 30us/sample - loss: 2.3007 - acc: 0.1121 - val_loss: 2.3008 - val_acc: 0.1031\n",
      "Epoch 62/100\n",
      "42000/42000 [==============================] - 1s 30us/sample - loss: 2.3007 - acc: 0.1112 - val_loss: 2.3006 - val_acc: 0.1159\n",
      "Epoch 63/100\n",
      "42000/42000 [==============================] - 1s 30us/sample - loss: 2.3007 - acc: 0.1148 - val_loss: 2.3006 - val_acc: 0.1139\n",
      "Epoch 64/100\n",
      "42000/42000 [==============================] - 1s 30us/sample - loss: 2.3007 - acc: 0.1128 - val_loss: 2.3005 - val_acc: 0.1230\n",
      "Epoch 65/100\n",
      "42000/42000 [==============================] - 1s 30us/sample - loss: 2.3005 - acc: 0.1156 - val_loss: 2.3007 - val_acc: 0.1235\n",
      "Epoch 66/100\n",
      "42000/42000 [==============================] - 1s 30us/sample - loss: 2.3006 - acc: 0.1146 - val_loss: 2.3005 - val_acc: 0.1200\n",
      "Epoch 67/100\n",
      "42000/42000 [==============================] - 1s 31us/sample - loss: 2.3005 - acc: 0.1152 - val_loss: 2.3005 - val_acc: 0.1213\n",
      "Epoch 68/100\n",
      "42000/42000 [==============================] - 1s 31us/sample - loss: 2.3004 - acc: 0.1136 - val_loss: 2.3006 - val_acc: 0.1159\n",
      "Epoch 69/100\n",
      "42000/42000 [==============================] - 1s 31us/sample - loss: 2.3005 - acc: 0.1136 - val_loss: 2.3006 - val_acc: 0.1072\n",
      "Epoch 70/100\n",
      "42000/42000 [==============================] - 1s 30us/sample - loss: 2.3004 - acc: 0.1108 - val_loss: 2.3004 - val_acc: 0.1206\n",
      "Epoch 71/100\n",
      "42000/42000 [==============================] - 1s 31us/sample - loss: 2.3004 - acc: 0.1190 - val_loss: 2.3003 - val_acc: 0.1167\n",
      "Epoch 72/100\n",
      "42000/42000 [==============================] - 1s 30us/sample - loss: 2.3004 - acc: 0.1148 - val_loss: 2.3003 - val_acc: 0.1082\n",
      "Epoch 73/100\n",
      "42000/42000 [==============================] - 1s 31us/sample - loss: 2.3004 - acc: 0.1139 - val_loss: 2.3003 - val_acc: 0.1074\n",
      "Epoch 74/100\n",
      "42000/42000 [==============================] - 1s 30us/sample - loss: 2.3002 - acc: 0.1154 - val_loss: 2.3004 - val_acc: 0.1134\n",
      "Epoch 75/100\n",
      "42000/42000 [==============================] - 1s 31us/sample - loss: 2.3003 - acc: 0.1177 - val_loss: 2.3002 - val_acc: 0.1159\n",
      "Epoch 76/100\n",
      "42000/42000 [==============================] - 1s 30us/sample - loss: 2.3002 - acc: 0.1161 - val_loss: 2.3001 - val_acc: 0.1118\n",
      "Epoch 77/100\n",
      "42000/42000 [==============================] - 1s 30us/sample - loss: 2.3002 - acc: 0.1137 - val_loss: 2.3003 - val_acc: 0.1118\n",
      "Epoch 78/100\n",
      "42000/42000 [==============================] - 1s 31us/sample - loss: 2.3001 - acc: 0.1136 - val_loss: 2.3001 - val_acc: 0.1153\n",
      "Epoch 79/100\n",
      "42000/42000 [==============================] - 1s 31us/sample - loss: 2.3001 - acc: 0.1156 - val_loss: 2.3002 - val_acc: 0.1232\n",
      "Epoch 80/100\n",
      "42000/42000 [==============================] - 1s 31us/sample - loss: 2.3001 - acc: 0.1184 - val_loss: 2.2999 - val_acc: 0.1219\n",
      "Epoch 81/100\n",
      "42000/42000 [==============================] - 1s 30us/sample - loss: 2.3000 - acc: 0.1159 - val_loss: 2.3000 - val_acc: 0.1148\n",
      "Epoch 82/100\n",
      "42000/42000 [==============================] - 1s 30us/sample - loss: 2.2999 - acc: 0.1156 - val_loss: 2.3001 - val_acc: 0.1263\n",
      "Epoch 83/100\n",
      "42000/42000 [==============================] - 1s 31us/sample - loss: 2.3001 - acc: 0.1207 - val_loss: 2.2999 - val_acc: 0.1243\n",
      "Epoch 84/100\n",
      "42000/42000 [==============================] - 1s 30us/sample - loss: 2.2999 - acc: 0.1193 - val_loss: 2.2999 - val_acc: 0.1255\n",
      "Epoch 85/100\n",
      "42000/42000 [==============================] - 1s 30us/sample - loss: 2.2999 - acc: 0.1211 - val_loss: 2.3000 - val_acc: 0.1044\n",
      "Epoch 86/100\n",
      "42000/42000 [==============================] - 1s 30us/sample - loss: 2.2997 - acc: 0.1145 - val_loss: 2.3000 - val_acc: 0.1059\n",
      "Epoch 87/100\n",
      "42000/42000 [==============================] - 1s 31us/sample - loss: 2.2999 - acc: 0.1160 - val_loss: 2.2998 - val_acc: 0.1227\n",
      "Epoch 88/100\n",
      "42000/42000 [==============================] - 1s 30us/sample - loss: 2.2997 - acc: 0.1211 - val_loss: 2.2999 - val_acc: 0.1085\n",
      "Epoch 89/100\n",
      "42000/42000 [==============================] - 1s 30us/sample - loss: 2.2997 - acc: 0.1205 - val_loss: 2.2997 - val_acc: 0.1254\n",
      "Epoch 90/100\n",
      "42000/42000 [==============================] - 1s 30us/sample - loss: 2.2997 - acc: 0.1186 - val_loss: 2.2998 - val_acc: 0.1150\n",
      "Epoch 91/100\n",
      "42000/42000 [==============================] - 1s 31us/sample - loss: 2.2996 - acc: 0.1208 - val_loss: 2.2996 - val_acc: 0.1196\n",
      "Epoch 92/100\n",
      "42000/42000 [==============================] - 1s 30us/sample - loss: 2.2996 - acc: 0.1198 - val_loss: 2.2996 - val_acc: 0.1246\n",
      "Epoch 93/100\n",
      "42000/42000 [==============================] - 1s 30us/sample - loss: 2.2996 - acc: 0.1194 - val_loss: 2.2996 - val_acc: 0.1130\n",
      "Epoch 94/100\n",
      "42000/42000 [==============================] - 1s 30us/sample - loss: 2.2996 - acc: 0.1196 - val_loss: 2.2995 - val_acc: 0.1192\n",
      "Epoch 95/100\n",
      "42000/42000 [==============================] - 1s 31us/sample - loss: 2.2995 - acc: 0.1211 - val_loss: 2.2995 - val_acc: 0.1181\n",
      "Epoch 96/100\n",
      "42000/42000 [==============================] - 1s 30us/sample - loss: 2.2994 - acc: 0.1194 - val_loss: 2.2994 - val_acc: 0.1199\n",
      "Epoch 97/100\n",
      "42000/42000 [==============================] - 1s 30us/sample - loss: 2.2994 - acc: 0.1199 - val_loss: 2.2994 - val_acc: 0.1264\n",
      "Epoch 98/100\n",
      "42000/42000 [==============================] - 1s 30us/sample - loss: 2.2994 - acc: 0.1250 - val_loss: 2.2994 - val_acc: 0.1123\n",
      "Epoch 99/100\n",
      "42000/42000 [==============================] - 1s 31us/sample - loss: 2.2993 - acc: 0.1194 - val_loss: 2.2994 - val_acc: 0.1185\n",
      "Epoch 100/100\n",
      "42000/42000 [==============================] - 1s 30us/sample - loss: 2.2994 - acc: 0.1222 - val_loss: 2.2992 - val_acc: 0.1300\n"
     ]
    }
   ],
   "source": [
    "# compiling the neural network classifier, sgd optimizer\n",
    "sgd = optimizers.SGD(lr = 0.01)\n",
    "model1.compile(optimizer = sgd, loss = 'categorical_crossentropy', metrics = ['accuracy'])\n",
    "\n",
    "# Fitting the neural network for training\n",
    "history = model1.fit(X_train, y_train, validation_data = (X_val, y_val), batch_size = 200, epochs = 100, verbose = 1)"
   ]
  },
  {
   "cell_type": "code",
   "execution_count": 40,
   "metadata": {
    "colab": {
     "base_uri": "https://localhost:8080/",
     "height": 84
    },
    "id": "3AeKf52SEexo",
    "outputId": "24687ff7-d4f3-434a-9022-455feee725be"
   },
   "outputs": [
    {
     "name": "stdout",
     "output_type": "stream",
     "text": [
      "Evaluate NN model with sigmoid activations\n",
      "--------------------------------------------------------------------------------\n",
      "60000/60000 [==============================] - 3s 53us/sample - loss: 2.2992 - acc: 0.1300\n",
      "Validation accuracy: 13.0\n"
     ]
    }
   ],
   "source": [
    "print('Evaluate NN model with sigmoid activations'); print('--'*40)\n",
    "results1 = model1.evaluate(X_val, y_val)\n",
    "print('Validation accuracy: {}'.format(round(results1[1]*100, 2), '%'))"
   ]
  },
  {
   "cell_type": "code",
   "execution_count": 41,
   "metadata": {
    "colab": {
     "base_uri": "https://localhost:8080/",
     "height": 1000
    },
    "id": "rWdR8CPBFSd0",
    "outputId": "3da53e00-6bf2-445c-dab8-f91cb283d74e"
   },
   "outputs": [
    {
     "name": "stdout",
     "output_type": "stream",
     "text": [
      "NN model with sigmoid activations - changing learning rate\n",
      "--------------------------------------------------------------------------------\n",
      "Train on 42000 samples, validate on 60000 samples\n",
      "Epoch 1/100\n",
      "42000/42000 [==============================] - 1s 32us/sample - loss: 2.2990 - acc: 0.1326 - val_loss: 2.2992 - val_acc: 0.1298\n",
      "Epoch 2/100\n",
      "42000/42000 [==============================] - 1s 30us/sample - loss: 2.2990 - acc: 0.1302 - val_loss: 2.2992 - val_acc: 0.1291\n",
      "Epoch 3/100\n",
      "42000/42000 [==============================] - 1s 30us/sample - loss: 2.2990 - acc: 0.1314 - val_loss: 2.2992 - val_acc: 0.1290\n",
      "Epoch 4/100\n",
      "42000/42000 [==============================] - 1s 30us/sample - loss: 2.2990 - acc: 0.1275 - val_loss: 2.2991 - val_acc: 0.1290\n",
      "Epoch 5/100\n",
      "42000/42000 [==============================] - 1s 31us/sample - loss: 2.2990 - acc: 0.1299 - val_loss: 2.2991 - val_acc: 0.1297\n",
      "Epoch 6/100\n",
      "42000/42000 [==============================] - 1s 30us/sample - loss: 2.2990 - acc: 0.1312 - val_loss: 2.2991 - val_acc: 0.1294\n",
      "Epoch 7/100\n",
      "42000/42000 [==============================] - 1s 30us/sample - loss: 2.2990 - acc: 0.1305 - val_loss: 2.2991 - val_acc: 0.1287\n",
      "Epoch 8/100\n",
      "42000/42000 [==============================] - 1s 30us/sample - loss: 2.2990 - acc: 0.1305 - val_loss: 2.2991 - val_acc: 0.1281\n",
      "Epoch 9/100\n",
      "42000/42000 [==============================] - 1s 30us/sample - loss: 2.2990 - acc: 0.1297 - val_loss: 2.2991 - val_acc: 0.1284\n",
      "Epoch 10/100\n",
      "42000/42000 [==============================] - 1s 30us/sample - loss: 2.2990 - acc: 0.1298 - val_loss: 2.2991 - val_acc: 0.1286\n",
      "Epoch 11/100\n",
      "42000/42000 [==============================] - 1s 30us/sample - loss: 2.2990 - acc: 0.1279 - val_loss: 2.2991 - val_acc: 0.1286\n",
      "Epoch 12/100\n",
      "42000/42000 [==============================] - 1s 30us/sample - loss: 2.2990 - acc: 0.1313 - val_loss: 2.2991 - val_acc: 0.1275\n",
      "Epoch 13/100\n",
      "42000/42000 [==============================] - 1s 30us/sample - loss: 2.2989 - acc: 0.1296 - val_loss: 2.2991 - val_acc: 0.1274\n",
      "Epoch 14/100\n",
      "42000/42000 [==============================] - 1s 31us/sample - loss: 2.2989 - acc: 0.1287 - val_loss: 2.2991 - val_acc: 0.1271\n",
      "Epoch 15/100\n",
      "42000/42000 [==============================] - 1s 30us/sample - loss: 2.2989 - acc: 0.1279 - val_loss: 2.2991 - val_acc: 0.1286\n",
      "Epoch 16/100\n",
      "42000/42000 [==============================] - 1s 30us/sample - loss: 2.2989 - acc: 0.1290 - val_loss: 2.2991 - val_acc: 0.1283\n",
      "Epoch 17/100\n",
      "42000/42000 [==============================] - 1s 30us/sample - loss: 2.2989 - acc: 0.1289 - val_loss: 2.2991 - val_acc: 0.1284\n",
      "Epoch 18/100\n",
      "42000/42000 [==============================] - 1s 30us/sample - loss: 2.2989 - acc: 0.1298 - val_loss: 2.2991 - val_acc: 0.1276\n",
      "Epoch 19/100\n",
      "42000/42000 [==============================] - 1s 30us/sample - loss: 2.2989 - acc: 0.1311 - val_loss: 2.2991 - val_acc: 0.1269\n",
      "Epoch 20/100\n",
      "42000/42000 [==============================] - 1s 30us/sample - loss: 2.2989 - acc: 0.1271 - val_loss: 2.2991 - val_acc: 0.1282\n",
      "Epoch 21/100\n",
      "42000/42000 [==============================] - 1s 30us/sample - loss: 2.2989 - acc: 0.1304 - val_loss: 2.2991 - val_acc: 0.1284\n",
      "Epoch 22/100\n",
      "42000/42000 [==============================] - 1s 30us/sample - loss: 2.2989 - acc: 0.1277 - val_loss: 2.2991 - val_acc: 0.1294\n",
      "Epoch 23/100\n",
      "42000/42000 [==============================] - 1s 30us/sample - loss: 2.2989 - acc: 0.1290 - val_loss: 2.2991 - val_acc: 0.1292\n",
      "Epoch 24/100\n",
      "42000/42000 [==============================] - 1s 30us/sample - loss: 2.2989 - acc: 0.1289 - val_loss: 2.2991 - val_acc: 0.1295\n",
      "Epoch 25/100\n",
      "42000/42000 [==============================] - 1s 30us/sample - loss: 2.2989 - acc: 0.1297 - val_loss: 2.2991 - val_acc: 0.1288\n",
      "Epoch 26/100\n",
      "42000/42000 [==============================] - 1s 30us/sample - loss: 2.2989 - acc: 0.1294 - val_loss: 2.2991 - val_acc: 0.1295\n",
      "Epoch 27/100\n",
      "42000/42000 [==============================] - 1s 30us/sample - loss: 2.2989 - acc: 0.1288 - val_loss: 2.2991 - val_acc: 0.1296\n",
      "Epoch 28/100\n",
      "42000/42000 [==============================] - 1s 31us/sample - loss: 2.2989 - acc: 0.1281 - val_loss: 2.2991 - val_acc: 0.1299\n",
      "Epoch 29/100\n",
      "42000/42000 [==============================] - 1s 31us/sample - loss: 2.2989 - acc: 0.1308 - val_loss: 2.2990 - val_acc: 0.1298\n",
      "Epoch 30/100\n",
      "42000/42000 [==============================] - 1s 30us/sample - loss: 2.2989 - acc: 0.1294 - val_loss: 2.2990 - val_acc: 0.1298\n",
      "Epoch 31/100\n",
      "42000/42000 [==============================] - 1s 30us/sample - loss: 2.2989 - acc: 0.1305 - val_loss: 2.2990 - val_acc: 0.1294\n",
      "Epoch 32/100\n",
      "42000/42000 [==============================] - 1s 31us/sample - loss: 2.2989 - acc: 0.1282 - val_loss: 2.2990 - val_acc: 0.1293\n",
      "Epoch 33/100\n",
      "42000/42000 [==============================] - 1s 31us/sample - loss: 2.2989 - acc: 0.1311 - val_loss: 2.2990 - val_acc: 0.1288\n",
      "Epoch 34/100\n",
      "42000/42000 [==============================] - 1s 30us/sample - loss: 2.2989 - acc: 0.1309 - val_loss: 2.2990 - val_acc: 0.1285\n",
      "Epoch 35/100\n",
      "42000/42000 [==============================] - 1s 30us/sample - loss: 2.2989 - acc: 0.1298 - val_loss: 2.2990 - val_acc: 0.1287\n",
      "Epoch 36/100\n",
      "42000/42000 [==============================] - 1s 30us/sample - loss: 2.2989 - acc: 0.1291 - val_loss: 2.2990 - val_acc: 0.1290\n",
      "Epoch 37/100\n",
      "42000/42000 [==============================] - 1s 30us/sample - loss: 2.2988 - acc: 0.1288 - val_loss: 2.2990 - val_acc: 0.1292\n",
      "Epoch 38/100\n",
      "42000/42000 [==============================] - 1s 30us/sample - loss: 2.2988 - acc: 0.1289 - val_loss: 2.2990 - val_acc: 0.1296\n",
      "Epoch 39/100\n",
      "42000/42000 [==============================] - 1s 30us/sample - loss: 2.2988 - acc: 0.1321 - val_loss: 2.2990 - val_acc: 0.1291\n",
      "Epoch 40/100\n",
      "42000/42000 [==============================] - 1s 30us/sample - loss: 2.2988 - acc: 0.1313 - val_loss: 2.2990 - val_acc: 0.1285\n",
      "Epoch 41/100\n",
      "42000/42000 [==============================] - 1s 31us/sample - loss: 2.2988 - acc: 0.1288 - val_loss: 2.2990 - val_acc: 0.1290\n",
      "Epoch 42/100\n",
      "42000/42000 [==============================] - 1s 30us/sample - loss: 2.2988 - acc: 0.1313 - val_loss: 2.2990 - val_acc: 0.1283\n",
      "Epoch 43/100\n",
      "42000/42000 [==============================] - 1s 30us/sample - loss: 2.2988 - acc: 0.1308 - val_loss: 2.2990 - val_acc: 0.1277\n",
      "Epoch 44/100\n",
      "42000/42000 [==============================] - 1s 30us/sample - loss: 2.2988 - acc: 0.1300 - val_loss: 2.2990 - val_acc: 0.1285\n",
      "Epoch 45/100\n",
      "42000/42000 [==============================] - 1s 30us/sample - loss: 2.2988 - acc: 0.1295 - val_loss: 2.2990 - val_acc: 0.1287\n",
      "Epoch 46/100\n",
      "42000/42000 [==============================] - 1s 31us/sample - loss: 2.2988 - acc: 0.1304 - val_loss: 2.2990 - val_acc: 0.1283\n",
      "Epoch 47/100\n",
      "42000/42000 [==============================] - 1s 30us/sample - loss: 2.2988 - acc: 0.1307 - val_loss: 2.2990 - val_acc: 0.1285\n",
      "Epoch 48/100\n",
      "42000/42000 [==============================] - 1s 30us/sample - loss: 2.2988 - acc: 0.1296 - val_loss: 2.2990 - val_acc: 0.1282\n",
      "Epoch 49/100\n",
      "42000/42000 [==============================] - 1s 30us/sample - loss: 2.2988 - acc: 0.1324 - val_loss: 2.2990 - val_acc: 0.1278\n",
      "Epoch 50/100\n",
      "42000/42000 [==============================] - 1s 30us/sample - loss: 2.2988 - acc: 0.1313 - val_loss: 2.2990 - val_acc: 0.1275\n",
      "Epoch 51/100\n",
      "42000/42000 [==============================] - 1s 30us/sample - loss: 2.2988 - acc: 0.1299 - val_loss: 2.2990 - val_acc: 0.1283\n",
      "Epoch 52/100\n",
      "42000/42000 [==============================] - 1s 31us/sample - loss: 2.2988 - acc: 0.1312 - val_loss: 2.2990 - val_acc: 0.1279\n",
      "Epoch 53/100\n",
      "42000/42000 [==============================] - 1s 30us/sample - loss: 2.2988 - acc: 0.1285 - val_loss: 2.2990 - val_acc: 0.1287\n",
      "Epoch 54/100\n",
      "42000/42000 [==============================] - 1s 31us/sample - loss: 2.2988 - acc: 0.1303 - val_loss: 2.2990 - val_acc: 0.1294\n",
      "Epoch 55/100\n",
      "42000/42000 [==============================] - 1s 30us/sample - loss: 2.2988 - acc: 0.1306 - val_loss: 2.2989 - val_acc: 0.1289\n",
      "Epoch 56/100\n",
      "42000/42000 [==============================] - 1s 30us/sample - loss: 2.2988 - acc: 0.1295 - val_loss: 2.2989 - val_acc: 0.1292\n",
      "Epoch 57/100\n",
      "39000/42000 [==========================>...] - ETA: 0s - loss: 2.2987 - acc: 0.1295Epoch 58/100\n",
      "42000/42000 [==============================] - 1s 30us/sample - loss: 2.2988 - acc: 0.1290 - val_loss: 2.2989 - val_acc: 0.1302\n",
      "Epoch 59/100\n",
      "42000/42000 [==============================] - 1s 30us/sample - loss: 2.2988 - acc: 0.1316 - val_loss: 2.2989 - val_acc: 0.1299\n",
      "Epoch 60/100\n",
      "42000/42000 [==============================] - 1s 30us/sample - loss: 2.2988 - acc: 0.1314 - val_loss: 2.2989 - val_acc: 0.1294\n",
      "Epoch 61/100\n",
      "42000/42000 [==============================] - 1s 30us/sample - loss: 2.2987 - acc: 0.1311 - val_loss: 2.2989 - val_acc: 0.1294\n",
      "Epoch 62/100\n",
      "42000/42000 [==============================] - 1s 30us/sample - loss: 2.2987 - acc: 0.1303 - val_loss: 2.2989 - val_acc: 0.1294\n",
      "Epoch 63/100\n",
      "42000/42000 [==============================] - 1s 30us/sample - loss: 2.2987 - acc: 0.1306 - val_loss: 2.2989 - val_acc: 0.1295\n",
      "Epoch 64/100\n",
      "42000/42000 [==============================] - 1s 30us/sample - loss: 2.2987 - acc: 0.1296 - val_loss: 2.2989 - val_acc: 0.1300\n",
      "Epoch 65/100\n",
      "42000/42000 [==============================] - 1s 30us/sample - loss: 2.2987 - acc: 0.1317 - val_loss: 2.2989 - val_acc: 0.1299\n",
      "Epoch 66/100\n",
      "42000/42000 [==============================] - 1s 29us/sample - loss: 2.2987 - acc: 0.1300 - val_loss: 2.2989 - val_acc: 0.1300\n",
      "Epoch 67/100\n",
      "42000/42000 [==============================] - 1s 30us/sample - loss: 2.2987 - acc: 0.1321 - val_loss: 2.2989 - val_acc: 0.1289\n",
      "Epoch 68/100\n",
      "42000/42000 [==============================] - 1s 30us/sample - loss: 2.2987 - acc: 0.1319 - val_loss: 2.2989 - val_acc: 0.1276\n",
      "Epoch 69/100\n",
      "42000/42000 [==============================] - 1s 30us/sample - loss: 2.2987 - acc: 0.1301 - val_loss: 2.2989 - val_acc: 0.1285\n",
      "Epoch 70/100\n",
      "42000/42000 [==============================] - 1s 29us/sample - loss: 2.2987 - acc: 0.1300 - val_loss: 2.2989 - val_acc: 0.1291\n",
      "Epoch 71/100\n",
      "42000/42000 [==============================] - 1s 30us/sample - loss: 2.2987 - acc: 0.1290 - val_loss: 2.2989 - val_acc: 0.1295\n",
      "Epoch 72/100\n",
      "42000/42000 [==============================] - 1s 30us/sample - loss: 2.2987 - acc: 0.1300 - val_loss: 2.2989 - val_acc: 0.1301\n",
      "Epoch 73/100\n",
      "42000/42000 [==============================] - 1s 30us/sample - loss: 2.2987 - acc: 0.1307 - val_loss: 2.2989 - val_acc: 0.1300\n",
      "Epoch 74/100\n",
      "42000/42000 [==============================] - 1s 31us/sample - loss: 2.2987 - acc: 0.1294 - val_loss: 2.2989 - val_acc: 0.1303\n",
      "Epoch 75/100\n",
      "42000/42000 [==============================] - 1s 30us/sample - loss: 2.2987 - acc: 0.1327 - val_loss: 2.2989 - val_acc: 0.1302\n",
      "Epoch 76/100\n",
      "42000/42000 [==============================] - 1s 30us/sample - loss: 2.2987 - acc: 0.1289 - val_loss: 2.2989 - val_acc: 0.1307\n",
      "Epoch 77/100\n",
      "42000/42000 [==============================] - 1s 30us/sample - loss: 2.2987 - acc: 0.1329 - val_loss: 2.2989 - val_acc: 0.1302\n",
      "Epoch 78/100\n",
      "42000/42000 [==============================] - 1s 30us/sample - loss: 2.2987 - acc: 0.1309 - val_loss: 2.2989 - val_acc: 0.1300\n",
      "Epoch 79/100\n",
      "42000/42000 [==============================] - 1s 30us/sample - loss: 2.2987 - acc: 0.1317 - val_loss: 2.2988 - val_acc: 0.1297\n",
      "Epoch 80/100\n",
      "42000/42000 [==============================] - 1s 30us/sample - loss: 2.2987 - acc: 0.1314 - val_loss: 2.2988 - val_acc: 0.1301\n",
      "Epoch 81/100\n",
      "42000/42000 [==============================] - 1s 30us/sample - loss: 2.2987 - acc: 0.1313 - val_loss: 2.2988 - val_acc: 0.1299\n",
      "Epoch 82/100\n",
      "42000/42000 [==============================] - 1s 30us/sample - loss: 2.2987 - acc: 0.1313 - val_loss: 2.2988 - val_acc: 0.1297\n",
      "Epoch 83/100\n",
      "42000/42000 [==============================] - 1s 30us/sample - loss: 2.2987 - acc: 0.1324 - val_loss: 2.2988 - val_acc: 0.1293\n",
      "Epoch 84/100\n",
      "42000/42000 [==============================] - 1s 30us/sample - loss: 2.2987 - acc: 0.1299 - val_loss: 2.2988 - val_acc: 0.1306\n",
      "Epoch 85/100\n",
      "42000/42000 [==============================] - 1s 31us/sample - loss: 2.2987 - acc: 0.1321 - val_loss: 2.2988 - val_acc: 0.1303\n",
      "Epoch 86/100\n",
      "42000/42000 [==============================] - 1s 30us/sample - loss: 2.2986 - acc: 0.1300 - val_loss: 2.2988 - val_acc: 0.1307\n",
      "Epoch 87/100\n",
      "42000/42000 [==============================] - 1s 30us/sample - loss: 2.2986 - acc: 0.1321 - val_loss: 2.2988 - val_acc: 0.1303\n",
      "Epoch 88/100\n",
      "42000/42000 [==============================] - 1s 30us/sample - loss: 2.2986 - acc: 0.1327 - val_loss: 2.2988 - val_acc: 0.1303\n",
      "Epoch 89/100\n",
      "42000/42000 [==============================] - 1s 30us/sample - loss: 2.2986 - acc: 0.1318 - val_loss: 2.2988 - val_acc: 0.1302\n",
      "Epoch 90/100\n",
      "42000/42000 [==============================] - 1s 30us/sample - loss: 2.2986 - acc: 0.1296 - val_loss: 2.2988 - val_acc: 0.1305\n",
      "Epoch 91/100\n",
      "42000/42000 [==============================] - 1s 30us/sample - loss: 2.2986 - acc: 0.1322 - val_loss: 2.2988 - val_acc: 0.1301\n",
      "Epoch 92/100\n",
      "42000/42000 [==============================] - 1s 31us/sample - loss: 2.2986 - acc: 0.1318 - val_loss: 2.2988 - val_acc: 0.1301\n",
      "Epoch 93/100\n",
      "42000/42000 [==============================] - 1s 31us/sample - loss: 2.2986 - acc: 0.1283 - val_loss: 2.2988 - val_acc: 0.1313\n",
      "Epoch 94/100\n",
      "42000/42000 [==============================] - 1s 31us/sample - loss: 2.2986 - acc: 0.1333 - val_loss: 2.2988 - val_acc: 0.1307\n",
      "Epoch 95/100\n",
      "42000/42000 [==============================] - 1s 32us/sample - loss: 2.2986 - acc: 0.1297 - val_loss: 2.2988 - val_acc: 0.1315\n",
      "Epoch 96/100\n",
      "42000/42000 [==============================] - 1s 32us/sample - loss: 2.2986 - acc: 0.1310 - val_loss: 2.2988 - val_acc: 0.1313\n",
      "Epoch 97/100\n",
      "42000/42000 [==============================] - 1s 32us/sample - loss: 2.2986 - acc: 0.1316 - val_loss: 2.2988 - val_acc: 0.1310\n",
      "Epoch 98/100\n",
      "42000/42000 [==============================] - 1s 32us/sample - loss: 2.2986 - acc: 0.1324 - val_loss: 2.2988 - val_acc: 0.1316\n",
      "Epoch 99/100\n",
      "42000/42000 [==============================] - 1s 32us/sample - loss: 2.2986 - acc: 0.1331 - val_loss: 2.2988 - val_acc: 0.1311\n",
      "Epoch 100/100\n",
      "42000/42000 [==============================] - 1s 32us/sample - loss: 2.2986 - acc: 0.1339 - val_loss: 2.2988 - val_acc: 0.1306\n"
     ]
    }
   ],
   "source": [
    "\n",
    "print('NN model with sigmoid activations - changing learning rate'); print('--'*40)\n",
    "# compiling the neural network classifier, sgd optimizer\n",
    "sgd = optimizers.SGD(lr = 0.001)\n",
    "model1.compile(optimizer = sgd, loss = 'categorical_crossentropy', metrics = ['accuracy'])\n",
    "\n",
    "# Fitting the neural network for training\n",
    "history = model1.fit(X_train, y_train, validation_data = (X_val, y_val), batch_size = 200, epochs = 100, verbose = 1)"
   ]
  },
  {
   "cell_type": "code",
   "execution_count": 42,
   "metadata": {
    "colab": {
     "base_uri": "https://localhost:8080/",
     "height": 84
    },
    "id": "oAyr54cYFbyq",
    "outputId": "a848e5fc-daac-4c64-a995-2eb01ab29229"
   },
   "outputs": [
    {
     "name": "stdout",
     "output_type": "stream",
     "text": [
      "Evaluate NN model with sigmoid activations - changing learning rate\n",
      "--------------------------------------------------------------------------------\n",
      "60000/60000 [==============================] - 3s 53us/sample - loss: 2.2988 - acc: 0.1306\n",
      "Validation accuracy: 13.06\n"
     ]
    }
   ],
   "source": [
    "print('Evaluate NN model with sigmoid activations - changing learning rate'); print('--'*40)\n",
    "results1 = model1.evaluate(X_val, y_val)\n",
    "print('Validation accuracy: {}'.format(round(results1[1]*100, 2), '%'))"
   ]
  },
  {
   "cell_type": "markdown",
   "metadata": {
    "id": "ksQUNqCQG4nN"
   },
   "source": [
    "**NN model, relu activations**"
   ]
  },
  {
   "cell_type": "code",
   "execution_count": 43,
   "metadata": {
    "colab": {
     "base_uri": "https://localhost:8080/",
     "height": 84
    },
    "id": "5BXBYHGlHAR_",
    "outputId": "baa537a3-6e30-4c5c-e3fe-6005e60824af"
   },
   "outputs": [
    {
     "name": "stdout",
     "output_type": "stream",
     "text": [
      "CPU times: user 2 µs, sys: 1e+03 ns, total: 3 µs\n",
      "Wall time: 5.01 µs\n",
      "NN model with relu activations and sgd optimizers\n",
      "--------------------------------------------------------------------------------\n"
     ]
    }
   ],
   "source": [
    "%time\n",
    "print('NN model with relu activations and sgd optimizers'); print('--'*40)\n",
    "# Initialize the neural network classifier\n",
    "model2 = Sequential()\n",
    "\n",
    "# Input Layer - adding input layer and activation functions relu\n",
    "model2.add(Dense(128, input_shape = (1024, )))\n",
    "# Adding activation function\n",
    "model2.add(Activation('relu'))\n",
    "\n",
    "#Hidden Layer 1 - adding first hidden layer\n",
    "model2.add(Dense(64))\n",
    "# Adding activation function\n",
    "model2.add(Activation('relu'))\n",
    "\n",
    "# Output Layer - adding output layer which is of 10 nodes (digits)\n",
    "model2.add(Dense(10))\n",
    "# Adding activation function - softmax for multiclass classification\n",
    "model2.add(Activation('softmax'))"
   ]
  },
  {
   "cell_type": "code",
   "execution_count": 44,
   "metadata": {
    "colab": {
     "base_uri": "https://localhost:8080/",
     "height": 353
    },
    "id": "xsf_v_ywHBLy",
    "outputId": "6d2a6647-9817-48cd-c9f0-b376a0bd659e"
   },
   "outputs": [
    {
     "name": "stdout",
     "output_type": "stream",
     "text": [
      "Model: \"sequential_1\"\n",
      "_________________________________________________________________\n",
      "Layer (type)                 Output Shape              Param #   \n",
      "=================================================================\n",
      "dense_3 (Dense)              (None, 128)               131200    \n",
      "_________________________________________________________________\n",
      "activation_3 (Activation)    (None, 128)               0         \n",
      "_________________________________________________________________\n",
      "dense_4 (Dense)              (None, 64)                8256      \n",
      "_________________________________________________________________\n",
      "activation_4 (Activation)    (None, 64)                0         \n",
      "_________________________________________________________________\n",
      "dense_5 (Dense)              (None, 10)                650       \n",
      "_________________________________________________________________\n",
      "activation_5 (Activation)    (None, 10)                0         \n",
      "=================================================================\n",
      "Total params: 140,106\n",
      "Trainable params: 140,106\n",
      "Non-trainable params: 0\n",
      "_________________________________________________________________\n"
     ]
    }
   ],
   "source": [
    "model2.summary()"
   ]
  },
  {
   "cell_type": "code",
   "execution_count": 45,
   "metadata": {
    "colab": {
     "base_uri": "https://localhost:8080/",
     "height": 1000
    },
    "id": "q4XQECTSHEG-",
    "outputId": "359857b0-589a-43a7-94f7-4beb36126f08"
   },
   "outputs": [
    {
     "name": "stdout",
     "output_type": "stream",
     "text": [
      "Train on 42000 samples, validate on 60000 samples\n",
      "Epoch 1/100\n",
      "42000/42000 [==============================] - 1s 32us/sample - loss: 2.3000 - acc: 0.1174 - val_loss: 2.2903 - val_acc: 0.1333\n",
      "Epoch 2/100\n",
      "42000/42000 [==============================] - 1s 30us/sample - loss: 2.2851 - acc: 0.1473 - val_loss: 2.2800 - val_acc: 0.1515\n",
      "Epoch 3/100\n",
      "42000/42000 [==============================] - 1s 30us/sample - loss: 2.2715 - acc: 0.1764 - val_loss: 2.2644 - val_acc: 0.1867\n",
      "Epoch 4/100\n",
      "42000/42000 [==============================] - 1s 30us/sample - loss: 2.2562 - acc: 0.2118 - val_loss: 2.2469 - val_acc: 0.2315\n",
      "Epoch 5/100\n",
      "42000/42000 [==============================] - 1s 29us/sample - loss: 2.2374 - acc: 0.2501 - val_loss: 2.2261 - val_acc: 0.2683\n",
      "Epoch 6/100\n",
      "42000/42000 [==============================] - 1s 30us/sample - loss: 2.2141 - acc: 0.2830 - val_loss: 2.1991 - val_acc: 0.3007\n",
      "Epoch 7/100\n",
      "42000/42000 [==============================] - 1s 30us/sample - loss: 2.1848 - acc: 0.3144 - val_loss: 2.1669 - val_acc: 0.3424\n",
      "Epoch 8/100\n",
      "42000/42000 [==============================] - 1s 29us/sample - loss: 2.1491 - acc: 0.3473 - val_loss: 2.1286 - val_acc: 0.3566\n",
      "Epoch 9/100\n",
      "42000/42000 [==============================] - 1s 30us/sample - loss: 2.1060 - acc: 0.3702 - val_loss: 2.0814 - val_acc: 0.3845\n",
      "Epoch 10/100\n",
      "42000/42000 [==============================] - 1s 30us/sample - loss: 2.0544 - acc: 0.3955 - val_loss: 2.0249 - val_acc: 0.3995\n",
      "Epoch 11/100\n",
      "42000/42000 [==============================] - 1s 30us/sample - loss: 1.9944 - acc: 0.4156 - val_loss: 1.9601 - val_acc: 0.4309\n",
      "Epoch 12/100\n",
      "42000/42000 [==============================] - 1s 30us/sample - loss: 1.9278 - acc: 0.4425 - val_loss: 1.8901 - val_acc: 0.4582\n",
      "Epoch 13/100\n",
      "42000/42000 [==============================] - 1s 30us/sample - loss: 1.8560 - acc: 0.4658 - val_loss: 1.8190 - val_acc: 0.4897\n",
      "Epoch 14/100\n",
      "42000/42000 [==============================] - 1s 30us/sample - loss: 1.7844 - acc: 0.4869 - val_loss: 1.7453 - val_acc: 0.4988\n",
      "Epoch 15/100\n",
      "42000/42000 [==============================] - 1s 30us/sample - loss: 1.7148 - acc: 0.5056 - val_loss: 1.6821 - val_acc: 0.5080\n",
      "Epoch 16/100\n",
      "42000/42000 [==============================] - 1s 30us/sample - loss: 1.6514 - acc: 0.5230 - val_loss: 1.6172 - val_acc: 0.5431\n",
      "Epoch 17/100\n",
      "42000/42000 [==============================] - 1s 30us/sample - loss: 1.5926 - acc: 0.5397 - val_loss: 1.5616 - val_acc: 0.5468\n",
      "Epoch 18/100\n",
      "42000/42000 [==============================] - 1s 30us/sample - loss: 1.5400 - acc: 0.5529 - val_loss: 1.5119 - val_acc: 0.5600\n",
      "Epoch 19/100\n",
      "42000/42000 [==============================] - 1s 30us/sample - loss: 1.4922 - acc: 0.5654 - val_loss: 1.4677 - val_acc: 0.5654\n",
      "Epoch 20/100\n",
      "42000/42000 [==============================] - 1s 30us/sample - loss: 1.4512 - acc: 0.5750 - val_loss: 1.4326 - val_acc: 0.5798\n",
      "Epoch 21/100\n",
      "42000/42000 [==============================] - 1s 29us/sample - loss: 1.4119 - acc: 0.5847 - val_loss: 1.3851 - val_acc: 0.5957\n",
      "Epoch 22/100\n",
      "42000/42000 [==============================] - 1s 30us/sample - loss: 1.3789 - acc: 0.5898 - val_loss: 1.3581 - val_acc: 0.5974\n",
      "Epoch 23/100\n",
      "42000/42000 [==============================] - 1s 30us/sample - loss: 1.3462 - acc: 0.5989 - val_loss: 1.3271 - val_acc: 0.6087\n",
      "Epoch 24/100\n",
      "42000/42000 [==============================] - 1s 29us/sample - loss: 1.3228 - acc: 0.6041 - val_loss: 1.3090 - val_acc: 0.6097\n",
      "Epoch 25/100\n",
      "42000/42000 [==============================] - 1s 30us/sample - loss: 1.2969 - acc: 0.6120 - val_loss: 1.2681 - val_acc: 0.6264\n",
      "Epoch 26/100\n",
      "42000/42000 [==============================] - 1s 29us/sample - loss: 1.2708 - acc: 0.6180 - val_loss: 1.2736 - val_acc: 0.6168\n",
      "Epoch 27/100\n",
      "42000/42000 [==============================] - 1s 30us/sample - loss: 1.2557 - acc: 0.6230 - val_loss: 1.2336 - val_acc: 0.6360\n",
      "Epoch 28/100\n",
      "42000/42000 [==============================] - 1s 30us/sample - loss: 1.2339 - acc: 0.6294 - val_loss: 1.2127 - val_acc: 0.6353\n",
      "Epoch 29/100\n",
      "42000/42000 [==============================] - 1s 30us/sample - loss: 1.2120 - acc: 0.6358 - val_loss: 1.2353 - val_acc: 0.6168\n",
      "Epoch 30/100\n",
      "42000/42000 [==============================] - 1s 29us/sample - loss: 1.1988 - acc: 0.6400 - val_loss: 1.1937 - val_acc: 0.6362\n",
      "Epoch 31/100\n",
      "42000/42000 [==============================] - 1s 30us/sample - loss: 1.1799 - acc: 0.6453 - val_loss: 1.1695 - val_acc: 0.6471\n",
      "Epoch 32/100\n",
      "42000/42000 [==============================] - 1s 30us/sample - loss: 1.1716 - acc: 0.6470 - val_loss: 1.1626 - val_acc: 0.6516\n",
      "Epoch 33/100\n",
      "42000/42000 [==============================] - 1s 30us/sample - loss: 1.1541 - acc: 0.6531 - val_loss: 1.1656 - val_acc: 0.6371\n",
      "Epoch 34/100\n",
      "42000/42000 [==============================] - 1s 29us/sample - loss: 1.1415 - acc: 0.6582 - val_loss: 1.1186 - val_acc: 0.6713\n",
      "Epoch 35/100\n",
      "42000/42000 [==============================] - 1s 30us/sample - loss: 1.1280 - acc: 0.6632 - val_loss: 1.1200 - val_acc: 0.6647\n",
      "Epoch 36/100\n",
      "42000/42000 [==============================] - 1s 30us/sample - loss: 1.1108 - acc: 0.6671 - val_loss: 1.1448 - val_acc: 0.6517\n",
      "Epoch 37/100\n",
      "42000/42000 [==============================] - 1s 30us/sample - loss: 1.1045 - acc: 0.6678 - val_loss: 1.0868 - val_acc: 0.6795\n",
      "Epoch 38/100\n",
      "42000/42000 [==============================] - 1s 30us/sample - loss: 1.0919 - acc: 0.6735 - val_loss: 1.0708 - val_acc: 0.6847\n",
      "Epoch 39/100\n",
      "42000/42000 [==============================] - 1s 29us/sample - loss: 1.0795 - acc: 0.6784 - val_loss: 1.0818 - val_acc: 0.6743\n",
      "Epoch 40/100\n",
      "42000/42000 [==============================] - 1s 30us/sample - loss: 1.0719 - acc: 0.6799 - val_loss: 1.0570 - val_acc: 0.6861\n",
      "Epoch 41/100\n",
      "42000/42000 [==============================] - 1s 30us/sample - loss: 1.0642 - acc: 0.6811 - val_loss: 1.0454 - val_acc: 0.6885\n",
      "Epoch 42/100\n",
      "42000/42000 [==============================] - 1s 30us/sample - loss: 1.0477 - acc: 0.6864 - val_loss: 1.0422 - val_acc: 0.6893\n",
      "Epoch 43/100\n",
      "42000/42000 [==============================] - 1s 30us/sample - loss: 1.0413 - acc: 0.6877 - val_loss: 1.0369 - val_acc: 0.6890\n",
      "Epoch 44/100\n",
      "42000/42000 [==============================] - 1s 30us/sample - loss: 1.0331 - acc: 0.6908 - val_loss: 1.0323 - val_acc: 0.6901\n",
      "Epoch 45/100\n",
      "42000/42000 [==============================] - 1s 30us/sample - loss: 1.0225 - acc: 0.6951 - val_loss: 1.0257 - val_acc: 0.6857\n",
      "Epoch 46/100\n",
      "42000/42000 [==============================] - 1s 30us/sample - loss: 1.0166 - acc: 0.6956 - val_loss: 1.0002 - val_acc: 0.7040\n",
      "Epoch 47/100\n",
      "42000/42000 [==============================] - 1s 29us/sample - loss: 1.0036 - acc: 0.6997 - val_loss: 0.9913 - val_acc: 0.7072\n",
      "Epoch 48/100\n",
      "42000/42000 [==============================] - 1s 30us/sample - loss: 0.9916 - acc: 0.7041 - val_loss: 0.9868 - val_acc: 0.7074\n",
      "Epoch 49/100\n",
      "42000/42000 [==============================] - 1s 30us/sample - loss: 0.9864 - acc: 0.7065 - val_loss: 1.0018 - val_acc: 0.6969\n",
      "Epoch 50/100\n",
      "42000/42000 [==============================] - 1s 30us/sample - loss: 0.9760 - acc: 0.7077 - val_loss: 0.9608 - val_acc: 0.7161\n",
      "Epoch 51/100\n",
      "42000/42000 [==============================] - 1s 29us/sample - loss: 0.9661 - acc: 0.7116 - val_loss: 0.9768 - val_acc: 0.7105\n",
      "Epoch 52/100\n",
      "42000/42000 [==============================] - 1s 31us/sample - loss: 0.9622 - acc: 0.7112 - val_loss: 0.9462 - val_acc: 0.7211\n",
      "Epoch 53/100\n",
      "42000/42000 [==============================] - 1s 30us/sample - loss: 0.9539 - acc: 0.7166 - val_loss: 0.9452 - val_acc: 0.7197\n",
      "Epoch 54/100\n",
      "42000/42000 [==============================] - 1s 31us/sample - loss: 0.9453 - acc: 0.7178 - val_loss: 0.9388 - val_acc: 0.7206\n",
      "Epoch 55/100\n",
      "42000/42000 [==============================] - 1s 30us/sample - loss: 0.9382 - acc: 0.7195 - val_loss: 0.9294 - val_acc: 0.7237\n",
      "Epoch 56/100\n",
      "42000/42000 [==============================] - 1s 30us/sample - loss: 0.9336 - acc: 0.7211 - val_loss: 0.9222 - val_acc: 0.7261\n",
      "Epoch 57/100\n",
      "42000/42000 [==============================] - 1s 29us/sample - loss: 0.9232 - acc: 0.7243 - val_loss: 1.0533 - val_acc: 0.6692\n",
      "Epoch 58/100\n",
      "42000/42000 [==============================] - 1s 30us/sample - loss: 0.9178 - acc: 0.7251 - val_loss: 0.9113 - val_acc: 0.7310\n",
      "Epoch 59/100\n",
      "42000/42000 [==============================] - 1s 29us/sample - loss: 0.9084 - acc: 0.7288 - val_loss: 0.9064 - val_acc: 0.7313\n",
      "Epoch 60/100\n",
      "42000/42000 [==============================] - 1s 30us/sample - loss: 0.9072 - acc: 0.7289 - val_loss: 0.8904 - val_acc: 0.7380\n",
      "Epoch 61/100\n",
      "42000/42000 [==============================] - 1s 30us/sample - loss: 0.8958 - acc: 0.7334 - val_loss: 0.8912 - val_acc: 0.7374\n",
      "Epoch 62/100\n",
      "42000/42000 [==============================] - 1s 30us/sample - loss: 0.8899 - acc: 0.7347 - val_loss: 0.8823 - val_acc: 0.7385\n",
      "Epoch 63/100\n",
      "42000/42000 [==============================] - 1s 30us/sample - loss: 0.8828 - acc: 0.7369 - val_loss: 0.8781 - val_acc: 0.7411\n",
      "Epoch 64/100\n",
      "42000/42000 [==============================] - 1s 30us/sample - loss: 0.8739 - acc: 0.7414 - val_loss: 0.9468 - val_acc: 0.7118\n",
      "Epoch 65/100\n",
      "42000/42000 [==============================] - 1s 30us/sample - loss: 0.8737 - acc: 0.7393 - val_loss: 0.8663 - val_acc: 0.7441\n",
      "Epoch 66/100\n",
      "42000/42000 [==============================] - 1s 30us/sample - loss: 0.8673 - acc: 0.7399 - val_loss: 0.8658 - val_acc: 0.7437\n",
      "Epoch 67/100\n",
      "42000/42000 [==============================] - 1s 30us/sample - loss: 0.8602 - acc: 0.7441 - val_loss: 0.8726 - val_acc: 0.7376\n",
      "Epoch 68/100\n",
      "42000/42000 [==============================] - 1s 30us/sample - loss: 0.8578 - acc: 0.7437 - val_loss: 0.9252 - val_acc: 0.7210\n",
      "Epoch 69/100\n",
      "42000/42000 [==============================] - 1s 30us/sample - loss: 0.8497 - acc: 0.7473 - val_loss: 0.8401 - val_acc: 0.7524\n",
      "Epoch 70/100\n",
      "42000/42000 [==============================] - 1s 30us/sample - loss: 0.8492 - acc: 0.7463 - val_loss: 0.8472 - val_acc: 0.7499\n",
      "Epoch 71/100\n",
      "42000/42000 [==============================] - 1s 30us/sample - loss: 0.8336 - acc: 0.7538 - val_loss: 0.8831 - val_acc: 0.7356\n",
      "Epoch 72/100\n",
      "42000/42000 [==============================] - 1s 31us/sample - loss: 0.8334 - acc: 0.7517 - val_loss: 0.8342 - val_acc: 0.7557\n",
      "Epoch 73/100\n",
      "42000/42000 [==============================] - 1s 30us/sample - loss: 0.8253 - acc: 0.7537 - val_loss: 0.8590 - val_acc: 0.7423\n",
      "Epoch 74/100\n",
      "42000/42000 [==============================] - 1s 31us/sample - loss: 0.8254 - acc: 0.7536 - val_loss: 0.9162 - val_acc: 0.7192\n",
      "Epoch 75/100\n",
      "42000/42000 [==============================] - 1s 31us/sample - loss: 0.8203 - acc: 0.7559 - val_loss: 0.8290 - val_acc: 0.7564\n",
      "Epoch 76/100\n",
      "42000/42000 [==============================] - 1s 31us/sample - loss: 0.8151 - acc: 0.7572 - val_loss: 0.8352 - val_acc: 0.7471\n",
      "Epoch 77/100\n",
      "42000/42000 [==============================] - 1s 30us/sample - loss: 0.8091 - acc: 0.7586 - val_loss: 0.8121 - val_acc: 0.7616\n",
      "Epoch 78/100\n",
      "42000/42000 [==============================] - 1s 30us/sample - loss: 0.8042 - acc: 0.7602 - val_loss: 0.7982 - val_acc: 0.7657\n",
      "Epoch 79/100\n",
      "42000/42000 [==============================] - 1s 30us/sample - loss: 0.7969 - acc: 0.7644 - val_loss: 0.8308 - val_acc: 0.7542\n",
      "Epoch 80/100\n",
      "42000/42000 [==============================] - 1s 31us/sample - loss: 0.7958 - acc: 0.7627 - val_loss: 0.8903 - val_acc: 0.7281\n",
      "Epoch 81/100\n",
      "42000/42000 [==============================] - 1s 30us/sample - loss: 0.7911 - acc: 0.7661 - val_loss: 0.8157 - val_acc: 0.7588\n",
      "Epoch 82/100\n",
      "42000/42000 [==============================] - 1s 30us/sample - loss: 0.7846 - acc: 0.7651 - val_loss: 0.7909 - val_acc: 0.7675\n",
      "Epoch 83/100\n",
      "42000/42000 [==============================] - 1s 30us/sample - loss: 0.7835 - acc: 0.7672 - val_loss: 0.7919 - val_acc: 0.7664\n",
      "Epoch 84/100\n",
      "42000/42000 [==============================] - 1s 30us/sample - loss: 0.7787 - acc: 0.7685 - val_loss: 0.7736 - val_acc: 0.7740\n",
      "Epoch 85/100\n",
      "42000/42000 [==============================] - 1s 31us/sample - loss: 0.7764 - acc: 0.7693 - val_loss: 0.7738 - val_acc: 0.7735\n",
      "Epoch 86/100\n",
      "42000/42000 [==============================] - 1s 30us/sample - loss: 0.7690 - acc: 0.7699 - val_loss: 0.7623 - val_acc: 0.7775\n",
      "Epoch 87/100\n",
      "42000/42000 [==============================] - 1s 30us/sample - loss: 0.7647 - acc: 0.7732 - val_loss: 0.7707 - val_acc: 0.7722\n",
      "Epoch 88/100\n",
      "42000/42000 [==============================] - 1s 30us/sample - loss: 0.7622 - acc: 0.7748 - val_loss: 0.7774 - val_acc: 0.7692\n",
      "Epoch 89/100\n",
      "42000/42000 [==============================] - 1s 30us/sample - loss: 0.7586 - acc: 0.7746 - val_loss: 0.7631 - val_acc: 0.7737\n",
      "Epoch 90/100\n",
      "42000/42000 [==============================] - 1s 30us/sample - loss: 0.7498 - acc: 0.7786 - val_loss: 0.7731 - val_acc: 0.7715\n",
      "Epoch 91/100\n",
      "42000/42000 [==============================] - 1s 30us/sample - loss: 0.7519 - acc: 0.7772 - val_loss: 0.8347 - val_acc: 0.7409\n",
      "Epoch 92/100\n",
      "42000/42000 [==============================] - 1s 30us/sample - loss: 0.7430 - acc: 0.7800 - val_loss: 0.7908 - val_acc: 0.7671\n",
      "Epoch 93/100\n",
      "42000/42000 [==============================] - 1s 30us/sample - loss: 0.7421 - acc: 0.7801 - val_loss: 0.7556 - val_acc: 0.7754\n",
      "Epoch 94/100\n",
      "42000/42000 [==============================] - 1s 30us/sample - loss: 0.7403 - acc: 0.7805 - val_loss: 0.7400 - val_acc: 0.7836\n",
      "Epoch 95/100\n",
      "42000/42000 [==============================] - 1s 31us/sample - loss: 0.7432 - acc: 0.7787 - val_loss: 0.7499 - val_acc: 0.7793\n",
      "Epoch 96/100\n",
      "42000/42000 [==============================] - 1s 30us/sample - loss: 0.7314 - acc: 0.7821 - val_loss: 0.7297 - val_acc: 0.7890\n",
      "Epoch 97/100\n",
      "42000/42000 [==============================] - 1s 30us/sample - loss: 0.7290 - acc: 0.7824 - val_loss: 0.7277 - val_acc: 0.7880\n",
      "Epoch 98/100\n",
      "42000/42000 [==============================] - 1s 30us/sample - loss: 0.7297 - acc: 0.7832 - val_loss: 0.7283 - val_acc: 0.7869\n",
      "Epoch 99/100\n",
      "42000/42000 [==============================] - 1s 30us/sample - loss: 0.7204 - acc: 0.7858 - val_loss: 0.7304 - val_acc: 0.7857\n",
      "Epoch 100/100\n",
      "42000/42000 [==============================] - 1s 30us/sample - loss: 0.7196 - acc: 0.7861 - val_loss: 0.7320 - val_acc: 0.7849\n"
     ]
    }
   ],
   "source": [
    "\n",
    "# compiling the neural network classifier, sgd optimizer\n",
    "sgd = optimizers.SGD(lr = 0.01)\n",
    "model2.compile(optimizer = sgd, loss = 'categorical_crossentropy', metrics = ['accuracy'])\n",
    "\n",
    "# Fitting the neural network for training\n",
    "history = model2.fit(X_train, y_train, validation_data = (X_val, y_val), batch_size = 200, epochs = 100, verbose = 1)"
   ]
  },
  {
   "cell_type": "code",
   "execution_count": 46,
   "metadata": {
    "colab": {
     "base_uri": "https://localhost:8080/",
     "height": 84
    },
    "id": "XmVM3nIbHIUr",
    "outputId": "ab10e163-2ad2-473d-d163-aa5faf9d8eac"
   },
   "outputs": [
    {
     "name": "stdout",
     "output_type": "stream",
     "text": [
      "Evaluate NN model with relu activations\n",
      "--------------------------------------------------------------------------------\n",
      "60000/60000 [==============================] - 3s 53us/sample - loss: 0.7320 - acc: 0.7849\n",
      "Validation accuracy: 78.49\n"
     ]
    }
   ],
   "source": [
    "print('Evaluate NN model with relu activations'); print('--'*40)\n",
    "results2 = model2.evaluate(X_val, y_val)\n",
    "print('Validation accuracy: {}'.format(round(results2[1]*100, 2), '%'))"
   ]
  },
  {
   "cell_type": "code",
   "execution_count": 47,
   "metadata": {
    "colab": {
     "base_uri": "https://localhost:8080/",
     "height": 1000
    },
    "id": "ebvDLiQbHos3",
    "outputId": "49da74d8-16ee-4ebe-a243-806ba8a05515"
   },
   "outputs": [
    {
     "name": "stdout",
     "output_type": "stream",
     "text": [
      "CPU times: user 3 µs, sys: 0 ns, total: 3 µs\n",
      "Wall time: 5.01 µs\n",
      "NN model with relu activations and sgd optimizers - changing learning rate\n",
      "--------------------------------------------------------------------------------\n",
      "Train on 42000 samples, validate on 60000 samples\n",
      "Epoch 1/100\n",
      "42000/42000 [==============================] - 1s 32us/sample - loss: 0.6815 - acc: 0.8010 - val_loss: 0.7018 - val_acc: 0.7960\n",
      "Epoch 2/100\n",
      "42000/42000 [==============================] - 1s 31us/sample - loss: 0.6788 - acc: 0.8014 - val_loss: 0.7011 - val_acc: 0.7959\n",
      "Epoch 3/100\n",
      "42000/42000 [==============================] - 1s 30us/sample - loss: 0.6787 - acc: 0.8015 - val_loss: 0.7001 - val_acc: 0.7961\n",
      "Epoch 4/100\n",
      "42000/42000 [==============================] - 1s 31us/sample - loss: 0.6780 - acc: 0.8025 - val_loss: 0.7005 - val_acc: 0.7962\n",
      "Epoch 5/100\n",
      "42000/42000 [==============================] - 1s 31us/sample - loss: 0.6778 - acc: 0.8022 - val_loss: 0.6997 - val_acc: 0.7964\n",
      "Epoch 6/100\n",
      "42000/42000 [==============================] - 1s 31us/sample - loss: 0.6771 - acc: 0.8020 - val_loss: 0.6997 - val_acc: 0.7964\n",
      "Epoch 7/100\n",
      "42000/42000 [==============================] - 1s 31us/sample - loss: 0.6768 - acc: 0.8027 - val_loss: 0.6999 - val_acc: 0.7965\n",
      "Epoch 8/100\n",
      "42000/42000 [==============================] - 1s 30us/sample - loss: 0.6759 - acc: 0.8022 - val_loss: 0.6991 - val_acc: 0.7963\n",
      "Epoch 9/100\n",
      "42000/42000 [==============================] - 1s 30us/sample - loss: 0.6758 - acc: 0.8031 - val_loss: 0.6984 - val_acc: 0.7962\n",
      "Epoch 10/100\n",
      "42000/42000 [==============================] - 1s 31us/sample - loss: 0.6756 - acc: 0.8026 - val_loss: 0.6987 - val_acc: 0.7973\n",
      "Epoch 11/100\n",
      "42000/42000 [==============================] - 1s 30us/sample - loss: 0.6753 - acc: 0.8015 - val_loss: 0.6979 - val_acc: 0.7973\n",
      "Epoch 12/100\n",
      "42000/42000 [==============================] - 1s 30us/sample - loss: 0.6746 - acc: 0.8033 - val_loss: 0.6990 - val_acc: 0.7971\n",
      "Epoch 13/100\n",
      "42000/42000 [==============================] - 1s 30us/sample - loss: 0.6745 - acc: 0.8028 - val_loss: 0.6967 - val_acc: 0.7975\n",
      "Epoch 14/100\n",
      "42000/42000 [==============================] - 1s 30us/sample - loss: 0.6737 - acc: 0.8027 - val_loss: 0.6971 - val_acc: 0.7964\n",
      "Epoch 15/100\n",
      "42000/42000 [==============================] - 1s 30us/sample - loss: 0.6735 - acc: 0.8031 - val_loss: 0.6967 - val_acc: 0.7968\n",
      "Epoch 16/100\n",
      "42000/42000 [==============================] - 1s 30us/sample - loss: 0.6733 - acc: 0.8041 - val_loss: 0.6961 - val_acc: 0.7966\n",
      "Epoch 17/100\n",
      "42000/42000 [==============================] - 1s 31us/sample - loss: 0.6729 - acc: 0.8030 - val_loss: 0.6955 - val_acc: 0.7976\n",
      "Epoch 18/100\n",
      "42000/42000 [==============================] - 1s 30us/sample - loss: 0.6725 - acc: 0.8036 - val_loss: 0.6959 - val_acc: 0.7969\n",
      "Epoch 19/100\n",
      "42000/42000 [==============================] - 1s 30us/sample - loss: 0.6722 - acc: 0.8028 - val_loss: 0.6960 - val_acc: 0.7970\n",
      "Epoch 20/100\n",
      "42000/42000 [==============================] - 1s 30us/sample - loss: 0.6719 - acc: 0.8033 - val_loss: 0.6947 - val_acc: 0.7978\n",
      "Epoch 21/100\n",
      "42000/42000 [==============================] - 1s 30us/sample - loss: 0.6713 - acc: 0.8035 - val_loss: 0.6950 - val_acc: 0.7974\n",
      "Epoch 22/100\n",
      "42000/42000 [==============================] - 1s 31us/sample - loss: 0.6711 - acc: 0.8045 - val_loss: 0.6945 - val_acc: 0.7978\n",
      "Epoch 23/100\n",
      "42000/42000 [==============================] - 1s 30us/sample - loss: 0.6709 - acc: 0.8036 - val_loss: 0.6934 - val_acc: 0.7981\n",
      "Epoch 24/100\n",
      "42000/42000 [==============================] - 1s 30us/sample - loss: 0.6702 - acc: 0.8045 - val_loss: 0.6942 - val_acc: 0.7985\n",
      "Epoch 25/100\n",
      "42000/42000 [==============================] - 1s 30us/sample - loss: 0.6702 - acc: 0.8041 - val_loss: 0.6934 - val_acc: 0.7978\n",
      "Epoch 26/100\n",
      "42000/42000 [==============================] - 1s 31us/sample - loss: 0.6695 - acc: 0.8047 - val_loss: 0.6937 - val_acc: 0.7981\n",
      "Epoch 27/100\n",
      "42000/42000 [==============================] - 1s 30us/sample - loss: 0.6693 - acc: 0.8046 - val_loss: 0.6929 - val_acc: 0.7980\n",
      "Epoch 28/100\n",
      "42000/42000 [==============================] - 1s 30us/sample - loss: 0.6690 - acc: 0.8047 - val_loss: 0.6924 - val_acc: 0.7988\n",
      "Epoch 29/100\n",
      "42000/42000 [==============================] - 1s 31us/sample - loss: 0.6685 - acc: 0.8054 - val_loss: 0.6918 - val_acc: 0.7979\n",
      "Epoch 30/100\n",
      "42000/42000 [==============================] - 1s 31us/sample - loss: 0.6682 - acc: 0.8046 - val_loss: 0.6927 - val_acc: 0.7983\n",
      "Epoch 31/100\n",
      "42000/42000 [==============================] - 1s 30us/sample - loss: 0.6677 - acc: 0.8051 - val_loss: 0.6916 - val_acc: 0.7982\n",
      "Epoch 32/100\n",
      "42000/42000 [==============================] - 1s 30us/sample - loss: 0.6677 - acc: 0.8052 - val_loss: 0.6918 - val_acc: 0.7983\n",
      "Epoch 33/100\n",
      "42000/42000 [==============================] - 1s 31us/sample - loss: 0.6672 - acc: 0.8052 - val_loss: 0.6903 - val_acc: 0.7988\n",
      "Epoch 34/100\n",
      "42000/42000 [==============================] - 1s 30us/sample - loss: 0.6666 - acc: 0.8057 - val_loss: 0.6903 - val_acc: 0.7987\n",
      "Epoch 35/100\n",
      "42000/42000 [==============================] - 1s 30us/sample - loss: 0.6664 - acc: 0.8059 - val_loss: 0.6896 - val_acc: 0.7986\n",
      "Epoch 36/100\n",
      "42000/42000 [==============================] - 1s 30us/sample - loss: 0.6661 - acc: 0.8051 - val_loss: 0.6897 - val_acc: 0.7994\n",
      "Epoch 37/100\n",
      "42000/42000 [==============================] - 1s 30us/sample - loss: 0.6656 - acc: 0.8057 - val_loss: 0.6896 - val_acc: 0.7988\n",
      "Epoch 38/100\n",
      "42000/42000 [==============================] - 1s 30us/sample - loss: 0.6654 - acc: 0.8060 - val_loss: 0.6892 - val_acc: 0.7995\n",
      "Epoch 39/100\n",
      "42000/42000 [==============================] - 1s 30us/sample - loss: 0.6651 - acc: 0.8061 - val_loss: 0.6885 - val_acc: 0.7998\n",
      "Epoch 40/100\n",
      "42000/42000 [==============================] - 1s 30us/sample - loss: 0.6645 - acc: 0.8073 - val_loss: 0.6882 - val_acc: 0.7991\n",
      "Epoch 41/100\n",
      "42000/42000 [==============================] - 1s 30us/sample - loss: 0.6643 - acc: 0.8063 - val_loss: 0.6880 - val_acc: 0.7993\n",
      "Epoch 42/100\n",
      "42000/42000 [==============================] - 1s 30us/sample - loss: 0.6641 - acc: 0.8061 - val_loss: 0.6886 - val_acc: 0.8000\n",
      "Epoch 43/100\n",
      "42000/42000 [==============================] - 1s 30us/sample - loss: 0.6639 - acc: 0.8063 - val_loss: 0.6878 - val_acc: 0.8008\n",
      "Epoch 44/100\n",
      "42000/42000 [==============================] - 1s 30us/sample - loss: 0.6632 - acc: 0.8066 - val_loss: 0.6887 - val_acc: 0.7990\n",
      "Epoch 45/100\n",
      "42000/42000 [==============================] - 1s 30us/sample - loss: 0.6630 - acc: 0.8063 - val_loss: 0.6881 - val_acc: 0.8001\n",
      "Epoch 46/100\n",
      "42000/42000 [==============================] - 1s 30us/sample - loss: 0.6625 - acc: 0.8070 - val_loss: 0.6870 - val_acc: 0.7998\n",
      "Epoch 47/100\n",
      "42000/42000 [==============================] - 1s 30us/sample - loss: 0.6623 - acc: 0.8067 - val_loss: 0.6860 - val_acc: 0.8001\n",
      "Epoch 48/100\n",
      "42000/42000 [==============================] - 1s 30us/sample - loss: 0.6619 - acc: 0.8066 - val_loss: 0.6860 - val_acc: 0.8002\n",
      "Epoch 49/100\n",
      "42000/42000 [==============================] - 1s 31us/sample - loss: 0.6616 - acc: 0.8068 - val_loss: 0.6858 - val_acc: 0.8001\n",
      "Epoch 50/100\n",
      "42000/42000 [==============================] - 1s 30us/sample - loss: 0.6613 - acc: 0.8067 - val_loss: 0.6859 - val_acc: 0.8013\n",
      "Epoch 51/100\n",
      "42000/42000 [==============================] - 1s 30us/sample - loss: 0.6609 - acc: 0.8071 - val_loss: 0.6854 - val_acc: 0.8008\n",
      "Epoch 52/100\n",
      "42000/42000 [==============================] - 1s 30us/sample - loss: 0.6606 - acc: 0.8077 - val_loss: 0.6849 - val_acc: 0.8016\n",
      "Epoch 53/100\n",
      "42000/42000 [==============================] - 1s 30us/sample - loss: 0.6600 - acc: 0.8068 - val_loss: 0.6856 - val_acc: 0.8001\n",
      "Epoch 54/100\n",
      "42000/42000 [==============================] - 1s 30us/sample - loss: 0.6599 - acc: 0.8072 - val_loss: 0.6845 - val_acc: 0.8013\n",
      "Epoch 55/100\n",
      "42000/42000 [==============================] - 1s 30us/sample - loss: 0.6596 - acc: 0.8083 - val_loss: 0.6840 - val_acc: 0.8005\n",
      "Epoch 56/100\n",
      "42000/42000 [==============================] - 1s 30us/sample - loss: 0.6595 - acc: 0.8074 - val_loss: 0.6841 - val_acc: 0.8011\n",
      "Epoch 57/100\n",
      "42000/42000 [==============================] - 1s 30us/sample - loss: 0.6590 - acc: 0.8077 - val_loss: 0.6831 - val_acc: 0.8018\n",
      "Epoch 58/100\n",
      "42000/42000 [==============================] - 1s 30us/sample - loss: 0.6587 - acc: 0.8076 - val_loss: 0.6827 - val_acc: 0.8017\n",
      "Epoch 59/100\n",
      "42000/42000 [==============================] - 1s 31us/sample - loss: 0.6584 - acc: 0.8083 - val_loss: 0.6827 - val_acc: 0.8018\n",
      "Epoch 60/100\n",
      "42000/42000 [==============================] - 1s 30us/sample - loss: 0.6578 - acc: 0.8081 - val_loss: 0.6823 - val_acc: 0.8017\n",
      "Epoch 61/100\n",
      "42000/42000 [==============================] - 1s 30us/sample - loss: 0.6577 - acc: 0.8088 - val_loss: 0.6825 - val_acc: 0.8020\n",
      "Epoch 62/100\n",
      "42000/42000 [==============================] - 1s 31us/sample - loss: 0.6574 - acc: 0.8094 - val_loss: 0.6828 - val_acc: 0.8012\n",
      "Epoch 63/100\n",
      "42000/42000 [==============================] - 1s 30us/sample - loss: 0.6571 - acc: 0.8080 - val_loss: 0.6815 - val_acc: 0.8015\n",
      "Epoch 64/100\n",
      "42000/42000 [==============================] - 1s 30us/sample - loss: 0.6567 - acc: 0.8088 - val_loss: 0.6813 - val_acc: 0.8019\n",
      "Epoch 65/100\n",
      "42000/42000 [==============================] - 1s 30us/sample - loss: 0.6562 - acc: 0.8090 - val_loss: 0.6805 - val_acc: 0.8026\n",
      "Epoch 66/100\n",
      "42000/42000 [==============================] - 1s 30us/sample - loss: 0.6560 - acc: 0.8090 - val_loss: 0.6803 - val_acc: 0.8022\n",
      "Epoch 67/100\n",
      "42000/42000 [==============================] - 1s 31us/sample - loss: 0.6557 - acc: 0.8085 - val_loss: 0.6807 - val_acc: 0.8021\n",
      "Epoch 68/100\n",
      "42000/42000 [==============================] - 1s 31us/sample - loss: 0.6555 - acc: 0.8090 - val_loss: 0.6797 - val_acc: 0.8026\n",
      "Epoch 69/100\n",
      "42000/42000 [==============================] - 1s 31us/sample - loss: 0.6550 - acc: 0.8090 - val_loss: 0.6802 - val_acc: 0.8019\n",
      "Epoch 70/100\n",
      "42000/42000 [==============================] - 1s 31us/sample - loss: 0.6546 - acc: 0.8089 - val_loss: 0.6795 - val_acc: 0.8023\n",
      "Epoch 71/100\n",
      "42000/42000 [==============================] - 1s 30us/sample - loss: 0.6543 - acc: 0.8094 - val_loss: 0.6804 - val_acc: 0.8025\n",
      "Epoch 72/100\n",
      "42000/42000 [==============================] - 1s 31us/sample - loss: 0.6541 - acc: 0.8088 - val_loss: 0.6783 - val_acc: 0.8030\n",
      "Epoch 73/100\n",
      "42000/42000 [==============================] - 1s 30us/sample - loss: 0.6538 - acc: 0.8093 - val_loss: 0.6790 - val_acc: 0.8024\n",
      "Epoch 74/100\n",
      "42000/42000 [==============================] - 1s 31us/sample - loss: 0.6532 - acc: 0.8096 - val_loss: 0.6781 - val_acc: 0.8034\n",
      "Epoch 75/100\n",
      "42000/42000 [==============================] - 1s 30us/sample - loss: 0.6532 - acc: 0.8095 - val_loss: 0.6788 - val_acc: 0.8026\n",
      "Epoch 76/100\n",
      "42000/42000 [==============================] - 1s 31us/sample - loss: 0.6528 - acc: 0.8095 - val_loss: 0.6777 - val_acc: 0.8033\n",
      "Epoch 77/100\n",
      "42000/42000 [==============================] - 1s 30us/sample - loss: 0.6524 - acc: 0.8099 - val_loss: 0.6785 - val_acc: 0.8031\n",
      "Epoch 78/100\n",
      "42000/42000 [==============================] - 1s 30us/sample - loss: 0.6521 - acc: 0.8103 - val_loss: 0.6770 - val_acc: 0.8033\n",
      "Epoch 79/100\n",
      "42000/42000 [==============================] - 1s 30us/sample - loss: 0.6518 - acc: 0.8095 - val_loss: 0.6766 - val_acc: 0.8035\n",
      "Epoch 80/100\n",
      "42000/42000 [==============================] - 1s 30us/sample - loss: 0.6515 - acc: 0.8110 - val_loss: 0.6758 - val_acc: 0.8036\n",
      "Epoch 81/100\n",
      "42000/42000 [==============================] - 1s 30us/sample - loss: 0.6513 - acc: 0.8106 - val_loss: 0.6763 - val_acc: 0.8036\n",
      "Epoch 82/100\n",
      "42000/42000 [==============================] - 1s 30us/sample - loss: 0.6507 - acc: 0.8095 - val_loss: 0.6777 - val_acc: 0.8044\n",
      "Epoch 83/100\n",
      "42000/42000 [==============================] - 1s 30us/sample - loss: 0.6508 - acc: 0.8100 - val_loss: 0.6754 - val_acc: 0.8039\n",
      "Epoch 84/100\n",
      "42000/42000 [==============================] - 1s 31us/sample - loss: 0.6502 - acc: 0.8116 - val_loss: 0.6756 - val_acc: 0.8032\n",
      "Epoch 85/100\n",
      "42000/42000 [==============================] - 1s 30us/sample - loss: 0.6501 - acc: 0.8102 - val_loss: 0.6751 - val_acc: 0.8034\n",
      "Epoch 86/100\n",
      "42000/42000 [==============================] - 1s 30us/sample - loss: 0.6497 - acc: 0.8111 - val_loss: 0.6746 - val_acc: 0.8040\n",
      "Epoch 87/100\n",
      "42000/42000 [==============================] - 1s 30us/sample - loss: 0.6492 - acc: 0.8104 - val_loss: 0.6742 - val_acc: 0.8048\n",
      "Epoch 88/100\n",
      "42000/42000 [==============================] - 1s 31us/sample - loss: 0.6488 - acc: 0.8110 - val_loss: 0.6748 - val_acc: 0.8033\n",
      "Epoch 89/100\n",
      "42000/42000 [==============================] - 1s 30us/sample - loss: 0.6487 - acc: 0.8106 - val_loss: 0.6734 - val_acc: 0.8042\n",
      "Epoch 90/100\n",
      "42000/42000 [==============================] - 1s 31us/sample - loss: 0.6482 - acc: 0.8102 - val_loss: 0.6747 - val_acc: 0.8043\n",
      "Epoch 91/100\n",
      "42000/42000 [==============================] - 1s 31us/sample - loss: 0.6481 - acc: 0.8110 - val_loss: 0.6731 - val_acc: 0.8041\n",
      "Epoch 92/100\n",
      "42000/42000 [==============================] - 1s 31us/sample - loss: 0.6477 - acc: 0.8111 - val_loss: 0.6732 - val_acc: 0.8047\n",
      "Epoch 93/100\n",
      "42000/42000 [==============================] - 1s 30us/sample - loss: 0.6474 - acc: 0.8109 - val_loss: 0.6728 - val_acc: 0.8048\n",
      "Epoch 94/100\n",
      "42000/42000 [==============================] - 1s 30us/sample - loss: 0.6471 - acc: 0.8112 - val_loss: 0.6731 - val_acc: 0.8039\n",
      "Epoch 95/100\n",
      "42000/42000 [==============================] - 1s 30us/sample - loss: 0.6467 - acc: 0.8113 - val_loss: 0.6725 - val_acc: 0.8049\n",
      "Epoch 96/100\n",
      "42000/42000 [==============================] - 1s 31us/sample - loss: 0.6465 - acc: 0.8113 - val_loss: 0.6718 - val_acc: 0.8045\n",
      "Epoch 97/100\n",
      "42000/42000 [==============================] - 1s 30us/sample - loss: 0.6461 - acc: 0.8117 - val_loss: 0.6714 - val_acc: 0.8052\n",
      "Epoch 98/100\n",
      "42000/42000 [==============================] - 1s 30us/sample - loss: 0.6457 - acc: 0.8112 - val_loss: 0.6718 - val_acc: 0.8052\n",
      "Epoch 99/100\n",
      "42000/42000 [==============================] - 1s 31us/sample - loss: 0.6455 - acc: 0.8118 - val_loss: 0.6709 - val_acc: 0.8052\n",
      "Epoch 100/100\n",
      "42000/42000 [==============================] - 1s 30us/sample - loss: 0.6452 - acc: 0.8120 - val_loss: 0.6708 - val_acc: 0.8049\n"
     ]
    }
   ],
   "source": [
    "%time\n",
    "print('NN model with relu activations and sgd optimizers - changing learning rate'); print('--'*40)\n",
    "# compiling the neural network classifier, sgd optimizer\n",
    "sgd = optimizers.SGD(lr = 0.001)\n",
    "model2.compile(optimizer = sgd, loss = 'categorical_crossentropy', metrics = ['accuracy'])\n",
    "\n",
    "# Fitting the neural network for training\n",
    "history = model2.fit(X_train, y_train, validation_data = (X_val, y_val), batch_size = 200, epochs = 100, verbose = 1)"
   ]
  },
  {
   "cell_type": "code",
   "execution_count": 48,
   "metadata": {
    "colab": {
     "base_uri": "https://localhost:8080/",
     "height": 84
    },
    "id": "7doUXI5BHtog",
    "outputId": "6c9a48b4-2ec5-4ccc-a45b-62b8dcd7af76"
   },
   "outputs": [
    {
     "name": "stdout",
     "output_type": "stream",
     "text": [
      "Evaluate NN model with relu activations\n",
      "--------------------------------------------------------------------------------\n",
      "60000/60000 [==============================] - 3s 53us/sample - loss: 0.6708 - acc: 0.8049\n",
      "Validation accuracy: 80.49\n"
     ]
    }
   ],
   "source": [
    "print('Evaluate NN model with relu activations'); print('--'*40)\n",
    "results2 = model2.evaluate(X_val, y_val)\n",
    "print('Validation accuracy: {}'.format(round(results2[1]*100, 2), '%'))"
   ]
  },
  {
   "cell_type": "code",
   "execution_count": 49,
   "metadata": {
    "colab": {
     "base_uri": "https://localhost:8080/",
     "height": 1000
    },
    "id": "KUQSJ1T2IPoy",
    "outputId": "0a772ab1-05fb-481b-d91c-e427161316c2"
   },
   "outputs": [
    {
     "name": "stdout",
     "output_type": "stream",
     "text": [
      "CPU times: user 3 µs, sys: 0 ns, total: 3 µs\n",
      "Wall time: 7.63 µs\n",
      "NN model with relu activations and adam optimizer\n",
      "--------------------------------------------------------------------------------\n",
      "Train on 42000 samples, validate on 60000 samples\n",
      "Epoch 1/100\n",
      "42000/42000 [==============================] - 1s 34us/sample - loss: 3.0436 - acc: 0.1231 - val_loss: 2.2302 - val_acc: 0.1424\n",
      "Epoch 2/100\n",
      "42000/42000 [==============================] - 1s 31us/sample - loss: 2.1184 - acc: 0.1864 - val_loss: 2.0724 - val_acc: 0.2036\n",
      "Epoch 3/100\n",
      "42000/42000 [==============================] - 1s 31us/sample - loss: 2.0230 - acc: 0.2262 - val_loss: 1.9843 - val_acc: 0.2479\n",
      "Epoch 4/100\n",
      "42000/42000 [==============================] - 1s 31us/sample - loss: 2.0024 - acc: 0.2386 - val_loss: 1.9564 - val_acc: 0.2605\n",
      "Epoch 5/100\n",
      "42000/42000 [==============================] - 1s 31us/sample - loss: 1.9699 - acc: 0.2533 - val_loss: 1.9342 - val_acc: 0.2728\n",
      "Epoch 6/100\n",
      "42000/42000 [==============================] - 1s 31us/sample - loss: 1.9498 - acc: 0.2639 - val_loss: 1.9350 - val_acc: 0.2790\n",
      "Epoch 7/100\n",
      "42000/42000 [==============================] - 1s 31us/sample - loss: 1.9360 - acc: 0.2753 - val_loss: 1.9123 - val_acc: 0.2893\n",
      "Epoch 8/100\n",
      "42000/42000 [==============================] - 1s 31us/sample - loss: 1.8470 - acc: 0.3281 - val_loss: 1.6644 - val_acc: 0.4123\n",
      "Epoch 9/100\n",
      "42000/42000 [==============================] - 1s 31us/sample - loss: 1.6524 - acc: 0.4269 - val_loss: 1.5921 - val_acc: 0.4556\n",
      "Epoch 10/100\n",
      "42000/42000 [==============================] - 1s 31us/sample - loss: 1.5856 - acc: 0.4557 - val_loss: 1.5122 - val_acc: 0.4870\n",
      "Epoch 11/100\n",
      "42000/42000 [==============================] - 1s 31us/sample - loss: 1.5728 - acc: 0.4578 - val_loss: 1.5097 - val_acc: 0.4888\n",
      "Epoch 12/100\n",
      "42000/42000 [==============================] - 1s 31us/sample - loss: 1.5333 - acc: 0.4781 - val_loss: 1.5677 - val_acc: 0.4581\n",
      "Epoch 13/100\n",
      "42000/42000 [==============================] - 1s 31us/sample - loss: 1.5170 - acc: 0.4826 - val_loss: 1.5599 - val_acc: 0.4597\n",
      "Epoch 14/100\n",
      "42000/42000 [==============================] - 1s 31us/sample - loss: 1.5111 - acc: 0.4823 - val_loss: 1.4919 - val_acc: 0.4889\n",
      "Epoch 15/100\n",
      "42000/42000 [==============================] - 1s 31us/sample - loss: 1.4957 - acc: 0.4902 - val_loss: 1.5973 - val_acc: 0.4570\n",
      "Epoch 16/100\n",
      "42000/42000 [==============================] - 1s 31us/sample - loss: 1.4868 - acc: 0.4939 - val_loss: 1.4471 - val_acc: 0.5080\n",
      "Epoch 17/100\n",
      "42000/42000 [==============================] - 1s 31us/sample - loss: 1.4678 - acc: 0.4994 - val_loss: 1.4299 - val_acc: 0.5175\n",
      "Epoch 18/100\n",
      "42000/42000 [==============================] - 1s 31us/sample - loss: 1.4924 - acc: 0.4915 - val_loss: 1.4803 - val_acc: 0.4969\n",
      "Epoch 19/100\n",
      "42000/42000 [==============================] - 1s 31us/sample - loss: 1.4684 - acc: 0.5030 - val_loss: 1.4832 - val_acc: 0.4931\n",
      "Epoch 20/100\n",
      "42000/42000 [==============================] - 1s 31us/sample - loss: 1.4563 - acc: 0.5079 - val_loss: 1.4428 - val_acc: 0.5122\n",
      "Epoch 21/100\n",
      "42000/42000 [==============================] - 1s 31us/sample - loss: 1.4527 - acc: 0.5083 - val_loss: 1.5490 - val_acc: 0.4722\n",
      "Epoch 22/100\n",
      "42000/42000 [==============================] - 1s 31us/sample - loss: 1.4615 - acc: 0.5041 - val_loss: 1.5038 - val_acc: 0.4801\n",
      "Epoch 23/100\n",
      "42000/42000 [==============================] - 1s 31us/sample - loss: 1.4607 - acc: 0.5054 - val_loss: 1.4362 - val_acc: 0.5187\n",
      "Epoch 24/100\n",
      "42000/42000 [==============================] - 1s 31us/sample - loss: 1.4374 - acc: 0.5171 - val_loss: 1.3977 - val_acc: 0.5328\n",
      "Epoch 25/100\n",
      "42000/42000 [==============================] - 1s 31us/sample - loss: 1.4318 - acc: 0.5173 - val_loss: 1.4008 - val_acc: 0.5310\n",
      "Epoch 26/100\n",
      "42000/42000 [==============================] - 1s 31us/sample - loss: 1.4564 - acc: 0.5062 - val_loss: 1.4422 - val_acc: 0.5103\n",
      "Epoch 27/100\n",
      "42000/42000 [==============================] - 1s 31us/sample - loss: 1.4310 - acc: 0.5175 - val_loss: 1.4980 - val_acc: 0.4860\n",
      "Epoch 28/100\n",
      "42000/42000 [==============================] - 1s 31us/sample - loss: 1.4577 - acc: 0.5095 - val_loss: 1.4371 - val_acc: 0.5131\n",
      "Epoch 29/100\n",
      "42000/42000 [==============================] - 1s 31us/sample - loss: 1.4430 - acc: 0.5124 - val_loss: 1.5505 - val_acc: 0.4752\n",
      "Epoch 30/100\n",
      "42000/42000 [==============================] - 1s 31us/sample - loss: 1.4393 - acc: 0.5136 - val_loss: 1.4188 - val_acc: 0.5220\n",
      "Epoch 31/100\n",
      "42000/42000 [==============================] - 1s 31us/sample - loss: 1.4247 - acc: 0.5214 - val_loss: 1.3945 - val_acc: 0.5336\n",
      "Epoch 32/100\n",
      "42000/42000 [==============================] - 1s 31us/sample - loss: 1.4452 - acc: 0.5130 - val_loss: 1.4266 - val_acc: 0.5192\n",
      "Epoch 33/100\n",
      "42000/42000 [==============================] - 1s 31us/sample - loss: 1.4394 - acc: 0.5174 - val_loss: 1.4342 - val_acc: 0.5137\n",
      "Epoch 34/100\n",
      "42000/42000 [==============================] - 1s 32us/sample - loss: 1.4304 - acc: 0.5190 - val_loss: 1.4106 - val_acc: 0.5265\n",
      "Epoch 35/100\n",
      "42000/42000 [==============================] - 1s 31us/sample - loss: 1.4253 - acc: 0.5211 - val_loss: 1.4120 - val_acc: 0.5249\n",
      "Epoch 36/100\n",
      "42000/42000 [==============================] - 1s 31us/sample - loss: 1.4321 - acc: 0.5182 - val_loss: 1.4420 - val_acc: 0.5110\n",
      "Epoch 37/100\n",
      "42000/42000 [==============================] - 1s 31us/sample - loss: 1.4318 - acc: 0.5178 - val_loss: 1.4137 - val_acc: 0.5242\n",
      "Epoch 38/100\n",
      "42000/42000 [==============================] - 1s 31us/sample - loss: 1.4212 - acc: 0.5216 - val_loss: 1.4145 - val_acc: 0.5302\n",
      "Epoch 39/100\n",
      "42000/42000 [==============================] - 1s 31us/sample - loss: 1.4179 - acc: 0.5239 - val_loss: 1.4237 - val_acc: 0.5220\n",
      "Epoch 40/100\n",
      "42000/42000 [==============================] - 1s 32us/sample - loss: 1.4311 - acc: 0.5196 - val_loss: 1.4161 - val_acc: 0.5212\n",
      "Epoch 41/100\n",
      "42000/42000 [==============================] - 1s 31us/sample - loss: 1.4109 - acc: 0.5278 - val_loss: 1.4345 - val_acc: 0.5155\n",
      "Epoch 42/100\n",
      "42000/42000 [==============================] - 1s 31us/sample - loss: 1.4294 - acc: 0.5217 - val_loss: 1.4247 - val_acc: 0.5253\n",
      "Epoch 43/100\n",
      "42000/42000 [==============================] - 1s 31us/sample - loss: 1.4186 - acc: 0.5240 - val_loss: 1.4113 - val_acc: 0.5249\n",
      "Epoch 44/100\n",
      "42000/42000 [==============================] - 1s 31us/sample - loss: 1.4249 - acc: 0.5214 - val_loss: 1.3965 - val_acc: 0.5342\n",
      "Epoch 45/100\n",
      "42000/42000 [==============================] - 1s 31us/sample - loss: 1.4219 - acc: 0.5231 - val_loss: 1.4127 - val_acc: 0.5259\n",
      "Epoch 46/100\n",
      "42000/42000 [==============================] - 1s 31us/sample - loss: 1.4111 - acc: 0.5274 - val_loss: 1.5017 - val_acc: 0.4868\n",
      "Epoch 47/100\n",
      "42000/42000 [==============================] - 1s 31us/sample - loss: 1.4123 - acc: 0.5273 - val_loss: 1.3839 - val_acc: 0.5398\n",
      "Epoch 48/100\n",
      "42000/42000 [==============================] - 1s 31us/sample - loss: 1.4170 - acc: 0.5263 - val_loss: 1.4203 - val_acc: 0.5233\n",
      "Epoch 49/100\n",
      "42000/42000 [==============================] - 1s 31us/sample - loss: 1.4179 - acc: 0.5247 - val_loss: 1.4036 - val_acc: 0.5313\n",
      "Epoch 50/100\n",
      "42000/42000 [==============================] - 1s 32us/sample - loss: 1.4187 - acc: 0.5239 - val_loss: 1.3810 - val_acc: 0.5394\n",
      "Epoch 51/100\n",
      "42000/42000 [==============================] - 1s 32us/sample - loss: 1.4166 - acc: 0.5252 - val_loss: 1.3976 - val_acc: 0.5329\n",
      "Epoch 52/100\n",
      "42000/42000 [==============================] - 1s 31us/sample - loss: 1.4280 - acc: 0.5211 - val_loss: 1.3779 - val_acc: 0.5411\n",
      "Epoch 53/100\n",
      "42000/42000 [==============================] - 1s 31us/sample - loss: 1.4223 - acc: 0.5252 - val_loss: 1.4133 - val_acc: 0.5237\n",
      "Epoch 54/100\n",
      "42000/42000 [==============================] - 1s 31us/sample - loss: 1.4223 - acc: 0.5218 - val_loss: 1.4265 - val_acc: 0.5224\n",
      "Epoch 55/100\n",
      "42000/42000 [==============================] - 1s 31us/sample - loss: 1.4209 - acc: 0.5232 - val_loss: 1.4519 - val_acc: 0.5166\n",
      "Epoch 56/100\n",
      "42000/42000 [==============================] - 1s 31us/sample - loss: 1.4277 - acc: 0.5202 - val_loss: 1.3907 - val_acc: 0.5382\n",
      "Epoch 57/100\n",
      "42000/42000 [==============================] - 1s 31us/sample - loss: 1.4355 - acc: 0.5203 - val_loss: 1.4515 - val_acc: 0.5095\n",
      "Epoch 58/100\n",
      "42000/42000 [==============================] - 1s 31us/sample - loss: 1.4153 - acc: 0.5270 - val_loss: 1.4314 - val_acc: 0.5181\n",
      "Epoch 59/100\n",
      "42000/42000 [==============================] - 1s 31us/sample - loss: 1.4183 - acc: 0.5229 - val_loss: 1.3811 - val_acc: 0.5422\n",
      "Epoch 60/100\n",
      "42000/42000 [==============================] - 1s 32us/sample - loss: 1.4219 - acc: 0.5232 - val_loss: 1.4426 - val_acc: 0.5154\n",
      "Epoch 61/100\n",
      "42000/42000 [==============================] - 1s 32us/sample - loss: 1.4117 - acc: 0.5277 - val_loss: 1.4248 - val_acc: 0.5224\n",
      "Epoch 62/100\n",
      "42000/42000 [==============================] - 1s 31us/sample - loss: 1.4113 - acc: 0.5264 - val_loss: 1.3733 - val_acc: 0.5433\n",
      "Epoch 63/100\n",
      "42000/42000 [==============================] - 1s 31us/sample - loss: 1.4166 - acc: 0.5233 - val_loss: 1.3922 - val_acc: 0.5363\n",
      "Epoch 64/100\n",
      "42000/42000 [==============================] - 1s 32us/sample - loss: 1.4136 - acc: 0.5263 - val_loss: 1.3954 - val_acc: 0.5342\n",
      "Epoch 65/100\n",
      "42000/42000 [==============================] - 1s 31us/sample - loss: 1.4204 - acc: 0.5242 - val_loss: 1.3933 - val_acc: 0.5329\n",
      "Epoch 66/100\n",
      "42000/42000 [==============================] - 1s 31us/sample - loss: 1.4108 - acc: 0.5269 - val_loss: 1.3872 - val_acc: 0.5372\n",
      "Epoch 67/100\n",
      "42000/42000 [==============================] - 1s 31us/sample - loss: 1.4100 - acc: 0.5270 - val_loss: 1.4374 - val_acc: 0.5107\n",
      "Epoch 68/100\n",
      "42000/42000 [==============================] - 1s 31us/sample - loss: 1.4193 - acc: 0.5243 - val_loss: 1.3852 - val_acc: 0.5412\n",
      "Epoch 69/100\n",
      "42000/42000 [==============================] - 1s 31us/sample - loss: 1.4257 - acc: 0.5225 - val_loss: 1.4114 - val_acc: 0.5260\n",
      "Epoch 70/100\n",
      "42000/42000 [==============================] - 1s 32us/sample - loss: 1.4103 - acc: 0.5282 - val_loss: 1.3965 - val_acc: 0.5326\n",
      "Epoch 71/100\n",
      "42000/42000 [==============================] - 1s 31us/sample - loss: 1.4092 - acc: 0.5305 - val_loss: 1.4427 - val_acc: 0.5150\n",
      "Epoch 72/100\n",
      "42000/42000 [==============================] - 1s 31us/sample - loss: 1.4241 - acc: 0.5240 - val_loss: 1.4445 - val_acc: 0.5146\n",
      "Epoch 73/100\n",
      "42000/42000 [==============================] - 1s 31us/sample - loss: 1.4261 - acc: 0.5202 - val_loss: 1.4633 - val_acc: 0.5085\n",
      "Epoch 74/100\n",
      "42000/42000 [==============================] - 1s 31us/sample - loss: 1.4157 - acc: 0.5265 - val_loss: 1.3825 - val_acc: 0.5391\n",
      "Epoch 75/100\n",
      "42000/42000 [==============================] - 1s 31us/sample - loss: 1.4241 - acc: 0.5212 - val_loss: 1.3762 - val_acc: 0.5425\n",
      "Epoch 76/100\n",
      "42000/42000 [==============================] - 1s 32us/sample - loss: 1.4223 - acc: 0.5233 - val_loss: 1.4219 - val_acc: 0.5243\n",
      "Epoch 77/100\n",
      "42000/42000 [==============================] - 1s 31us/sample - loss: 1.4208 - acc: 0.5225 - val_loss: 1.4139 - val_acc: 0.5224\n",
      "Epoch 78/100\n",
      "42000/42000 [==============================] - 1s 31us/sample - loss: 1.4022 - acc: 0.5330 - val_loss: 1.4395 - val_acc: 0.5201\n",
      "Epoch 79/100\n",
      "42000/42000 [==============================] - 1s 31us/sample - loss: 1.4196 - acc: 0.5231 - val_loss: 1.4046 - val_acc: 0.5271\n",
      "Epoch 80/100\n",
      "42000/42000 [==============================] - 1s 31us/sample - loss: 1.4125 - acc: 0.5275 - val_loss: 1.4459 - val_acc: 0.5211\n",
      "Epoch 81/100\n",
      "42000/42000 [==============================] - 1s 31us/sample - loss: 1.4156 - acc: 0.5249 - val_loss: 1.3945 - val_acc: 0.5355\n",
      "Epoch 82/100\n",
      "42000/42000 [==============================] - 1s 32us/sample - loss: 1.4161 - acc: 0.5284 - val_loss: 1.4162 - val_acc: 0.5266\n",
      "Epoch 83/100\n",
      "42000/42000 [==============================] - 1s 32us/sample - loss: 1.4188 - acc: 0.5266 - val_loss: 1.4237 - val_acc: 0.5228\n",
      "Epoch 84/100\n",
      "42000/42000 [==============================] - 1s 31us/sample - loss: 1.4145 - acc: 0.5256 - val_loss: 1.4522 - val_acc: 0.5089\n",
      "Epoch 85/100\n",
      "42000/42000 [==============================] - 1s 31us/sample - loss: 1.4189 - acc: 0.5246 - val_loss: 1.4155 - val_acc: 0.5270\n",
      "Epoch 86/100\n",
      "42000/42000 [==============================] - 1s 31us/sample - loss: 1.4118 - acc: 0.5265 - val_loss: 1.4155 - val_acc: 0.5220\n",
      "Epoch 87/100\n",
      "42000/42000 [==============================] - 1s 32us/sample - loss: 1.4233 - acc: 0.5231 - val_loss: 1.3956 - val_acc: 0.5346\n",
      "Epoch 88/100\n",
      "42000/42000 [==============================] - 1s 31us/sample - loss: 1.4154 - acc: 0.5251 - val_loss: 1.3895 - val_acc: 0.5384\n",
      "Epoch 89/100\n",
      "42000/42000 [==============================] - 1s 31us/sample - loss: 1.4192 - acc: 0.5246 - val_loss: 1.3804 - val_acc: 0.5422\n",
      "Epoch 90/100\n",
      "42000/42000 [==============================] - 1s 32us/sample - loss: 1.4126 - acc: 0.5252 - val_loss: 1.3705 - val_acc: 0.5468\n",
      "Epoch 91/100\n",
      "42000/42000 [==============================] - 1s 31us/sample - loss: 1.4185 - acc: 0.5245 - val_loss: 1.4099 - val_acc: 0.5283\n",
      "Epoch 92/100\n",
      "42000/42000 [==============================] - 1s 31us/sample - loss: 1.4292 - acc: 0.5191 - val_loss: 1.4186 - val_acc: 0.5204\n",
      "Epoch 93/100\n",
      "42000/42000 [==============================] - 1s 31us/sample - loss: 1.4120 - acc: 0.5272 - val_loss: 1.4178 - val_acc: 0.5237\n",
      "Epoch 94/100\n",
      "42000/42000 [==============================] - 1s 31us/sample - loss: 1.4234 - acc: 0.5218 - val_loss: 1.4052 - val_acc: 0.5306\n",
      "Epoch 95/100\n",
      "42000/42000 [==============================] - 1s 31us/sample - loss: 1.4139 - acc: 0.5275 - val_loss: 1.4256 - val_acc: 0.5177\n",
      "Epoch 96/100\n",
      "42000/42000 [==============================] - 1s 31us/sample - loss: 1.4142 - acc: 0.5267 - val_loss: 1.3901 - val_acc: 0.5349\n",
      "Epoch 97/100\n",
      "42000/42000 [==============================] - 1s 31us/sample - loss: 1.4123 - acc: 0.5262 - val_loss: 1.4165 - val_acc: 0.5268\n",
      "Epoch 98/100\n",
      "42000/42000 [==============================] - 1s 31us/sample - loss: 1.4029 - acc: 0.5306 - val_loss: 1.5225 - val_acc: 0.4887\n",
      "Epoch 99/100\n",
      "42000/42000 [==============================] - 1s 31us/sample - loss: 1.4174 - acc: 0.5286 - val_loss: 1.4025 - val_acc: 0.5347\n",
      "Epoch 100/100\n",
      "42000/42000 [==============================] - 1s 32us/sample - loss: 1.4077 - acc: 0.5293 - val_loss: 1.3817 - val_acc: 0.5420\n"
     ]
    }
   ],
   "source": [
    "%time\n",
    "print('NN model with relu activations and adam optimizer'); print('--'*40)\n",
    "# compiling the neural network classifier, adam optimizer\n",
    "adam = optimizers.Adam(lr = 0.01)\n",
    "model2.compile(optimizer = adam, loss = 'categorical_crossentropy', metrics = ['accuracy'])\n",
    "\n",
    "# Fitting the neural network for training\n",
    "history = model2.fit(X_train, y_train, validation_data = (X_val, y_val), batch_size = 200, epochs = 100, verbose = 1)"
   ]
  },
  {
   "cell_type": "code",
   "execution_count": 50,
   "metadata": {
    "colab": {
     "base_uri": "https://localhost:8080/",
     "height": 84
    },
    "id": "nSt1yUCHIZEX",
    "outputId": "b39f9927-12b1-4275-fba3-4adfc6e11467"
   },
   "outputs": [
    {
     "name": "stdout",
     "output_type": "stream",
     "text": [
      "Evaluate NN model with relu activations\n",
      "--------------------------------------------------------------------------------\n",
      "60000/60000 [==============================] - 3s 54us/sample - loss: 1.3817 - acc: 0.5420\n",
      "Validation accuracy: 54.2\n"
     ]
    }
   ],
   "source": [
    "print('Evaluate NN model with relu activations'); print('--'*40)\n",
    "results2 = model2.evaluate(X_val, y_val)\n",
    "print('Validation accuracy: {}'.format(round(results2[1]*100, 2), '%'))"
   ]
  },
  {
   "cell_type": "code",
   "execution_count": 51,
   "metadata": {
    "colab": {
     "base_uri": "https://localhost:8080/",
     "height": 1000
    },
    "id": "tRl61wUGI8O4",
    "outputId": "83a58a48-ab5d-439a-f377-3861da51c3a6"
   },
   "outputs": [
    {
     "name": "stdout",
     "output_type": "stream",
     "text": [
      "CPU times: user 2 µs, sys: 0 ns, total: 2 µs\n",
      "Wall time: 4.77 µs\n",
      "NN model with relu activations and adam optimizer\n",
      "--------------------------------------------------------------------------------\n",
      "Train on 42000 samples, validate on 60000 samples\n",
      "Epoch 1/100\n",
      "42000/42000 [==============================] - 1s 34us/sample - loss: 1.3544 - acc: 0.5510 - val_loss: 1.3527 - val_acc: 0.5520\n",
      "Epoch 2/100\n",
      "42000/42000 [==============================] - 1s 31us/sample - loss: 1.3513 - acc: 0.5515 - val_loss: 1.3503 - val_acc: 0.5526\n",
      "Epoch 3/100\n",
      "42000/42000 [==============================] - 1s 31us/sample - loss: 1.3492 - acc: 0.5531 - val_loss: 1.3490 - val_acc: 0.5528\n",
      "Epoch 4/100\n",
      "42000/42000 [==============================] - 1s 31us/sample - loss: 1.3480 - acc: 0.5526 - val_loss: 1.3485 - val_acc: 0.5535\n",
      "Epoch 5/100\n",
      "42000/42000 [==============================] - 1s 31us/sample - loss: 1.3483 - acc: 0.5524 - val_loss: 1.3532 - val_acc: 0.5511\n",
      "Epoch 6/100\n",
      "42000/42000 [==============================] - 1s 31us/sample - loss: 1.3502 - acc: 0.5516 - val_loss: 1.3527 - val_acc: 0.5519\n",
      "Epoch 7/100\n",
      "42000/42000 [==============================] - 1s 31us/sample - loss: 1.3470 - acc: 0.5535 - val_loss: 1.3482 - val_acc: 0.5535\n",
      "Epoch 8/100\n",
      "42000/42000 [==============================] - 1s 31us/sample - loss: 1.3484 - acc: 0.5535 - val_loss: 1.3486 - val_acc: 0.5531\n",
      "Epoch 9/100\n",
      "42000/42000 [==============================] - 1s 31us/sample - loss: 1.3456 - acc: 0.5532 - val_loss: 1.3580 - val_acc: 0.5482\n",
      "Epoch 10/100\n",
      "42000/42000 [==============================] - 1s 31us/sample - loss: 1.3474 - acc: 0.5535 - val_loss: 1.3500 - val_acc: 0.5523\n",
      "Epoch 11/100\n",
      "42000/42000 [==============================] - 1s 31us/sample - loss: 1.3443 - acc: 0.5543 - val_loss: 1.3482 - val_acc: 0.5529\n",
      "Epoch 12/100\n",
      "42000/42000 [==============================] - 1s 31us/sample - loss: 1.3461 - acc: 0.5541 - val_loss: 1.3500 - val_acc: 0.5527\n",
      "Epoch 13/100\n",
      "42000/42000 [==============================] - 1s 31us/sample - loss: 1.3475 - acc: 0.5527 - val_loss: 1.3519 - val_acc: 0.5506\n",
      "Epoch 14/100\n",
      "42000/42000 [==============================] - 1s 31us/sample - loss: 1.3468 - acc: 0.5539 - val_loss: 1.3552 - val_acc: 0.5519\n",
      "Epoch 15/100\n",
      "42000/42000 [==============================] - 1s 31us/sample - loss: 1.3457 - acc: 0.5537 - val_loss: 1.3487 - val_acc: 0.5532\n",
      "Epoch 16/100\n",
      "42000/42000 [==============================] - 1s 31us/sample - loss: 1.3448 - acc: 0.5533 - val_loss: 1.3501 - val_acc: 0.5519\n",
      "Epoch 17/100\n",
      "42000/42000 [==============================] - 1s 31us/sample - loss: 1.3460 - acc: 0.5528 - val_loss: 1.3516 - val_acc: 0.5526\n",
      "Epoch 18/100\n",
      "42000/42000 [==============================] - 1s 31us/sample - loss: 1.3453 - acc: 0.5542 - val_loss: 1.3466 - val_acc: 0.5535\n",
      "Epoch 19/100\n",
      "42000/42000 [==============================] - 1s 31us/sample - loss: 1.3438 - acc: 0.5553 - val_loss: 1.3475 - val_acc: 0.5529\n",
      "Epoch 20/100\n",
      "42000/42000 [==============================] - 1s 31us/sample - loss: 1.3446 - acc: 0.5540 - val_loss: 1.3480 - val_acc: 0.5535\n",
      "Epoch 21/100\n",
      "42000/42000 [==============================] - 1s 31us/sample - loss: 1.3458 - acc: 0.5533 - val_loss: 1.3474 - val_acc: 0.5529\n",
      "Epoch 22/100\n",
      "42000/42000 [==============================] - 1s 32us/sample - loss: 1.3472 - acc: 0.5542 - val_loss: 1.3481 - val_acc: 0.5541\n",
      "Epoch 23/100\n",
      "42000/42000 [==============================] - 1s 31us/sample - loss: 1.3443 - acc: 0.5537 - val_loss: 1.3474 - val_acc: 0.5536\n",
      "Epoch 24/100\n",
      "42000/42000 [==============================] - 1s 31us/sample - loss: 1.3423 - acc: 0.5544 - val_loss: 1.3455 - val_acc: 0.5551\n",
      "Epoch 25/100\n",
      "42000/42000 [==============================] - 1s 32us/sample - loss: 1.3434 - acc: 0.5549 - val_loss: 1.3501 - val_acc: 0.5527\n",
      "Epoch 26/100\n",
      "42000/42000 [==============================] - 1s 31us/sample - loss: 1.3441 - acc: 0.5545 - val_loss: 1.3491 - val_acc: 0.5522\n",
      "Epoch 27/100\n",
      "42000/42000 [==============================] - 1s 31us/sample - loss: 1.3452 - acc: 0.5522 - val_loss: 1.3508 - val_acc: 0.5510\n",
      "Epoch 28/100\n",
      "42000/42000 [==============================] - 1s 31us/sample - loss: 1.3428 - acc: 0.5537 - val_loss: 1.3466 - val_acc: 0.5543\n",
      "Epoch 29/100\n",
      "42000/42000 [==============================] - 1s 31us/sample - loss: 1.3414 - acc: 0.5557 - val_loss: 1.3627 - val_acc: 0.5467\n",
      "Epoch 30/100\n",
      "42000/42000 [==============================] - 1s 31us/sample - loss: 1.3423 - acc: 0.5542 - val_loss: 1.3452 - val_acc: 0.5544\n",
      "Epoch 31/100\n",
      "42000/42000 [==============================] - 1s 31us/sample - loss: 1.3421 - acc: 0.5551 - val_loss: 1.3563 - val_acc: 0.5491\n",
      "Epoch 32/100\n",
      "42000/42000 [==============================] - 1s 31us/sample - loss: 1.3439 - acc: 0.5544 - val_loss: 1.3508 - val_acc: 0.5517\n",
      "Epoch 33/100\n",
      "42000/42000 [==============================] - 1s 31us/sample - loss: 1.3448 - acc: 0.5540 - val_loss: 1.3554 - val_acc: 0.5499\n",
      "Epoch 34/100\n",
      "42000/42000 [==============================] - 1s 31us/sample - loss: 1.3420 - acc: 0.5564 - val_loss: 1.3448 - val_acc: 0.5555\n",
      "Epoch 35/100\n",
      "42000/42000 [==============================] - 1s 31us/sample - loss: 1.3437 - acc: 0.5540 - val_loss: 1.3425 - val_acc: 0.5564\n",
      "Epoch 36/100\n",
      "42000/42000 [==============================] - 1s 31us/sample - loss: 1.3426 - acc: 0.5555 - val_loss: 1.3488 - val_acc: 0.5534\n",
      "Epoch 37/100\n",
      "42000/42000 [==============================] - 1s 31us/sample - loss: 1.3425 - acc: 0.5549 - val_loss: 1.3457 - val_acc: 0.5541\n",
      "Epoch 38/100\n",
      "42000/42000 [==============================] - 1s 31us/sample - loss: 1.3432 - acc: 0.5552 - val_loss: 1.3457 - val_acc: 0.5530\n",
      "Epoch 39/100\n",
      "42000/42000 [==============================] - 1s 31us/sample - loss: 1.3401 - acc: 0.5556 - val_loss: 1.3521 - val_acc: 0.5529\n",
      "Epoch 40/100\n",
      "42000/42000 [==============================] - 1s 32us/sample - loss: 1.3402 - acc: 0.5558 - val_loss: 1.3433 - val_acc: 0.5562\n",
      "Epoch 41/100\n",
      "42000/42000 [==============================] - 1s 32us/sample - loss: 1.3414 - acc: 0.5552 - val_loss: 1.3430 - val_acc: 0.5556\n",
      "Epoch 42/100\n",
      "42000/42000 [==============================] - 1s 31us/sample - loss: 1.3391 - acc: 0.5566 - val_loss: 1.3537 - val_acc: 0.5501\n",
      "Epoch 43/100\n",
      "42000/42000 [==============================] - 1s 31us/sample - loss: 1.3415 - acc: 0.5549 - val_loss: 1.3463 - val_acc: 0.5540\n",
      "Epoch 44/100\n",
      "42000/42000 [==============================] - 1s 31us/sample - loss: 1.3429 - acc: 0.5550 - val_loss: 1.3589 - val_acc: 0.5486\n",
      "Epoch 45/100\n",
      "42000/42000 [==============================] - 1s 32us/sample - loss: 1.3411 - acc: 0.5565 - val_loss: 1.3437 - val_acc: 0.5554\n",
      "Epoch 46/100\n",
      "42000/42000 [==============================] - 1s 31us/sample - loss: 1.3422 - acc: 0.5552 - val_loss: 1.3493 - val_acc: 0.5529\n",
      "Epoch 47/100\n",
      "42000/42000 [==============================] - 1s 31us/sample - loss: 1.3409 - acc: 0.5541 - val_loss: 1.3430 - val_acc: 0.5551\n",
      "Epoch 48/100\n",
      "42000/42000 [==============================] - 1s 32us/sample - loss: 1.3420 - acc: 0.5559 - val_loss: 1.3394 - val_acc: 0.5569\n",
      "Epoch 49/100\n",
      "42000/42000 [==============================] - 1s 32us/sample - loss: 1.3407 - acc: 0.5554 - val_loss: 1.3469 - val_acc: 0.5543\n",
      "Epoch 50/100\n",
      "42000/42000 [==============================] - 1s 32us/sample - loss: 1.3425 - acc: 0.5548 - val_loss: 1.3541 - val_acc: 0.5523\n",
      "Epoch 51/100\n",
      "42000/42000 [==============================] - 1s 31us/sample - loss: 1.3395 - acc: 0.5563 - val_loss: 1.3440 - val_acc: 0.5549\n",
      "Epoch 52/100\n",
      "42000/42000 [==============================] - 1s 32us/sample - loss: 1.3402 - acc: 0.5550 - val_loss: 1.3473 - val_acc: 0.5526\n",
      "Epoch 53/100\n",
      "42000/42000 [==============================] - 1s 31us/sample - loss: 1.3418 - acc: 0.5559 - val_loss: 1.3473 - val_acc: 0.5540\n",
      "Epoch 54/100\n",
      "42000/42000 [==============================] - 1s 31us/sample - loss: 1.3404 - acc: 0.5557 - val_loss: 1.3438 - val_acc: 0.5566\n",
      "Epoch 55/100\n",
      "42000/42000 [==============================] - 1s 31us/sample - loss: 1.3387 - acc: 0.5556 - val_loss: 1.3430 - val_acc: 0.5560\n",
      "Epoch 56/100\n",
      "42000/42000 [==============================] - 1s 31us/sample - loss: 1.3386 - acc: 0.5577 - val_loss: 1.3471 - val_acc: 0.5539\n",
      "Epoch 57/100\n",
      "42000/42000 [==============================] - 1s 31us/sample - loss: 1.3397 - acc: 0.5572 - val_loss: 1.3423 - val_acc: 0.5563\n",
      "Epoch 58/100\n",
      "42000/42000 [==============================] - 1s 31us/sample - loss: 1.3408 - acc: 0.5547 - val_loss: 1.3480 - val_acc: 0.5535\n",
      "Epoch 59/100\n",
      "42000/42000 [==============================] - 1s 31us/sample - loss: 1.3418 - acc: 0.5545 - val_loss: 1.3472 - val_acc: 0.5541\n",
      "Epoch 60/100\n",
      "42000/42000 [==============================] - 1s 32us/sample - loss: 1.3401 - acc: 0.5561 - val_loss: 1.3518 - val_acc: 0.5517\n",
      "Epoch 61/100\n",
      "42000/42000 [==============================] - 1s 31us/sample - loss: 1.3394 - acc: 0.5564 - val_loss: 1.3402 - val_acc: 0.5573\n",
      "Epoch 62/100\n",
      "42000/42000 [==============================] - 1s 32us/sample - loss: 1.3381 - acc: 0.5564 - val_loss: 1.3417 - val_acc: 0.5565\n",
      "Epoch 63/100\n",
      "42000/42000 [==============================] - 1s 31us/sample - loss: 1.3391 - acc: 0.5572 - val_loss: 1.3417 - val_acc: 0.5563\n",
      "Epoch 64/100\n",
      "42000/42000 [==============================] - 1s 32us/sample - loss: 1.3386 - acc: 0.5574 - val_loss: 1.3463 - val_acc: 0.5543\n",
      "Epoch 65/100\n",
      "42000/42000 [==============================] - 1s 31us/sample - loss: 1.3383 - acc: 0.5562 - val_loss: 1.3456 - val_acc: 0.5540\n",
      "Epoch 66/100\n",
      "42000/42000 [==============================] - 1s 31us/sample - loss: 1.3393 - acc: 0.5574 - val_loss: 1.3580 - val_acc: 0.5485\n",
      "Epoch 67/100\n",
      "42000/42000 [==============================] - 1s 31us/sample - loss: 1.3399 - acc: 0.5575 - val_loss: 1.3424 - val_acc: 0.5569\n",
      "Epoch 68/100\n",
      "42000/42000 [==============================] - 1s 32us/sample - loss: 1.3373 - acc: 0.5552 - val_loss: 1.3421 - val_acc: 0.5567\n",
      "Epoch 69/100\n",
      "42000/42000 [==============================] - 1s 32us/sample - loss: 1.3380 - acc: 0.5576 - val_loss: 1.3543 - val_acc: 0.5518\n",
      "Epoch 70/100\n",
      "42000/42000 [==============================] - 1s 32us/sample - loss: 1.3393 - acc: 0.5575 - val_loss: 1.3404 - val_acc: 0.5567\n",
      "Epoch 71/100\n",
      "42000/42000 [==============================] - 1s 33us/sample - loss: 1.3368 - acc: 0.5575 - val_loss: 1.3424 - val_acc: 0.5560\n",
      "Epoch 72/100\n",
      "42000/42000 [==============================] - 1s 33us/sample - loss: 1.3371 - acc: 0.5568 - val_loss: 1.3438 - val_acc: 0.5562\n",
      "Epoch 73/100\n",
      "42000/42000 [==============================] - 1s 33us/sample - loss: 1.3398 - acc: 0.5571 - val_loss: 1.3387 - val_acc: 0.5585\n",
      "Epoch 74/100\n",
      "42000/42000 [==============================] - 1s 33us/sample - loss: 1.3406 - acc: 0.5559 - val_loss: 1.3374 - val_acc: 0.5587\n",
      "Epoch 75/100\n",
      "42000/42000 [==============================] - 1s 33us/sample - loss: 1.3381 - acc: 0.5587 - val_loss: 1.3380 - val_acc: 0.5587\n",
      "Epoch 76/100\n",
      "42000/42000 [==============================] - 1s 33us/sample - loss: 1.3370 - acc: 0.5570 - val_loss: 1.3426 - val_acc: 0.5562\n",
      "Epoch 77/100\n",
      "42000/42000 [==============================] - 1s 33us/sample - loss: 1.3360 - acc: 0.5566 - val_loss: 1.3386 - val_acc: 0.5583\n",
      "Epoch 78/100\n",
      "42000/42000 [==============================] - 1s 32us/sample - loss: 1.3357 - acc: 0.5589 - val_loss: 1.3404 - val_acc: 0.5572\n",
      "Epoch 79/100\n",
      "42000/42000 [==============================] - 1s 31us/sample - loss: 1.3367 - acc: 0.5587 - val_loss: 1.3681 - val_acc: 0.5458\n",
      "Epoch 80/100\n",
      "42000/42000 [==============================] - 1s 31us/sample - loss: 1.3392 - acc: 0.5560 - val_loss: 1.3402 - val_acc: 0.5563\n",
      "Epoch 81/100\n",
      "42000/42000 [==============================] - 1s 32us/sample - loss: 1.3370 - acc: 0.5575 - val_loss: 1.3386 - val_acc: 0.5584\n",
      "Epoch 82/100\n",
      "42000/42000 [==============================] - 1s 31us/sample - loss: 1.3361 - acc: 0.5585 - val_loss: 1.3647 - val_acc: 0.5461\n",
      "Epoch 83/100\n",
      "42000/42000 [==============================] - 1s 31us/sample - loss: 1.3375 - acc: 0.5572 - val_loss: 1.3369 - val_acc: 0.5591\n",
      "Epoch 84/100\n",
      "42000/42000 [==============================] - 1s 31us/sample - loss: 1.3386 - acc: 0.5570 - val_loss: 1.3389 - val_acc: 0.5567\n",
      "Epoch 85/100\n",
      "42000/42000 [==============================] - 1s 32us/sample - loss: 1.3381 - acc: 0.5573 - val_loss: 1.3462 - val_acc: 0.5544\n",
      "Epoch 86/100\n",
      "42000/42000 [==============================] - 1s 32us/sample - loss: 1.3363 - acc: 0.5577 - val_loss: 1.3383 - val_acc: 0.5588\n",
      "Epoch 87/100\n",
      "42000/42000 [==============================] - 1s 31us/sample - loss: 1.3357 - acc: 0.5588 - val_loss: 1.3456 - val_acc: 0.5550\n",
      "Epoch 88/100\n",
      "42000/42000 [==============================] - 1s 32us/sample - loss: 1.3364 - acc: 0.5582 - val_loss: 1.3526 - val_acc: 0.5530\n",
      "Epoch 89/100\n",
      "42000/42000 [==============================] - 1s 32us/sample - loss: 1.3353 - acc: 0.5581 - val_loss: 1.3370 - val_acc: 0.5577\n",
      "Epoch 90/100\n",
      "42000/42000 [==============================] - 1s 31us/sample - loss: 1.3372 - acc: 0.5572 - val_loss: 1.3378 - val_acc: 0.5585\n",
      "Epoch 91/100\n",
      "42000/42000 [==============================] - 1s 31us/sample - loss: 1.3357 - acc: 0.5598 - val_loss: 1.3391 - val_acc: 0.5573\n",
      "Epoch 92/100\n",
      "42000/42000 [==============================] - 1s 32us/sample - loss: 1.3353 - acc: 0.5578 - val_loss: 1.3405 - val_acc: 0.5577\n",
      "Epoch 93/100\n",
      "42000/42000 [==============================] - 1s 31us/sample - loss: 1.3351 - acc: 0.5597 - val_loss: 1.3418 - val_acc: 0.5568\n",
      "Epoch 94/100\n",
      "42000/42000 [==============================] - 1s 31us/sample - loss: 1.3361 - acc: 0.5573 - val_loss: 1.3363 - val_acc: 0.5583\n",
      "Epoch 95/100\n",
      "42000/42000 [==============================] - 1s 31us/sample - loss: 1.3365 - acc: 0.5574 - val_loss: 1.3385 - val_acc: 0.5574\n",
      "Epoch 96/100\n",
      "42000/42000 [==============================] - 1s 32us/sample - loss: 1.3346 - acc: 0.5584 - val_loss: 1.3361 - val_acc: 0.5587\n",
      "Epoch 97/100\n",
      "42000/42000 [==============================] - 1s 31us/sample - loss: 1.3359 - acc: 0.5578 - val_loss: 1.3539 - val_acc: 0.5503\n",
      "Epoch 98/100\n",
      "42000/42000 [==============================] - 1s 32us/sample - loss: 1.3351 - acc: 0.5588 - val_loss: 1.3420 - val_acc: 0.5576\n",
      "Epoch 99/100\n",
      "42000/42000 [==============================] - 1s 32us/sample - loss: 1.3346 - acc: 0.5596 - val_loss: 1.3372 - val_acc: 0.5597\n",
      "Epoch 100/100\n",
      "42000/42000 [==============================] - 1s 32us/sample - loss: 1.3367 - acc: 0.5566 - val_loss: 1.3384 - val_acc: 0.5584\n"
     ]
    }
   ],
   "source": [
    "%time\n",
    "print('NN model with relu activations and adam optimizer'); print('--'*40)\n",
    "# compiling the neural network classifier, adam optimizer\n",
    "adam = optimizers.Adam(lr = 0.001)\n",
    "model2.compile(optimizer = adam, loss = 'categorical_crossentropy', metrics = ['accuracy'])\n",
    "\n",
    "# Fitting the neural network for training\n",
    "history = model2.fit(X_train, y_train, validation_data = (X_val, y_val), batch_size = 200, epochs = 100, verbose = 1)"
   ]
  },
  {
   "cell_type": "code",
   "execution_count": 52,
   "metadata": {
    "colab": {
     "base_uri": "https://localhost:8080/",
     "height": 84
    },
    "id": "W8xGbkOmJFqA",
    "outputId": "a2c2083a-fe82-4e0c-b5e5-ae91bfa04a89"
   },
   "outputs": [
    {
     "name": "stdout",
     "output_type": "stream",
     "text": [
      "Evaluate NN model with relu activations\n",
      "--------------------------------------------------------------------------------\n",
      "60000/60000 [==============================] - 3s 55us/sample - loss: 1.3384 - acc: 0.5584\n",
      "Validation accuracy: 55.84\n"
     ]
    }
   ],
   "source": [
    "print('Evaluate NN model with relu activations'); print('--'*40)\n",
    "results2 = model2.evaluate(X_val, y_val)\n",
    "print('Validation accuracy: {}'.format(round(results2[1]*100, 2), '%'))"
   ]
  },
  {
   "cell_type": "markdown",
   "metadata": {
    "id": "jz0bve4CKF7B"
   },
   "source": [
    "**Observation - NN model with relu activations**\n",
    "\n",
    "- Improves the scores considerably compared to Sigmoid activations.\n",
    "\n",
    "- Best accuracy achieved till now is using relu activations, SGD optimizer (above Adam optimizer), changing learning rate to 0.001\n",
    "\n",
    "\n",
    "\n",
    "**Prediction on test dataset using relu activations, Adam optimizers**"
   ]
  },
  {
   "cell_type": "code",
   "execution_count": 53,
   "metadata": {
    "id": "6NVwXrAHK4_S"
   },
   "outputs": [],
   "source": [
    "# Initialize the neural network classifier\n",
    "model3 = Sequential()\n",
    "\n",
    "# Input Layer - adding input layer and activation functions relu\n",
    "model3.add(Dense(256, input_shape = (1024, )))\n",
    "# Adding activation function\n",
    "model3.add(Activation('relu'))\n",
    "\n",
    "#Hidden Layer 1 - adding first hidden layer\n",
    "model3.add(Dense(128))\n",
    "# Adding activation function\n",
    "model3.add(Activation('relu'))\n",
    "\n",
    "#Hidden Layer 2 - Adding second hidden layer\n",
    "model3.add(Dense(64))\n",
    "# Adding activation function\n",
    "model3.add(Activation('relu'))\n",
    "\n",
    "# Output Layer - adding output layer which is of 10 nodes (digits)\n",
    "model3.add(Dense(10))\n",
    "# Adding activation function - softmax for multiclass classification\n",
    "model3.add(Activation('softmax'))"
   ]
  },
  {
   "cell_type": "code",
   "execution_count": 54,
   "metadata": {
    "colab": {
     "base_uri": "https://localhost:8080/",
     "height": 1000
    },
    "id": "rRHZhjDSLQjU",
    "outputId": "cffc105a-505a-4274-830b-e642ed110292"
   },
   "outputs": [
    {
     "name": "stdout",
     "output_type": "stream",
     "text": [
      "Train on 42000 samples, validate on 60000 samples\n",
      "Epoch 1/100\n",
      "42000/42000 [==============================] - 2s 37us/sample - loss: 2.2835 - acc: 0.1350 - val_loss: 2.1228 - val_acc: 0.2428\n",
      "Epoch 2/100\n",
      "42000/42000 [==============================] - 1s 34us/sample - loss: 1.7629 - acc: 0.3865 - val_loss: 1.4984 - val_acc: 0.4983\n",
      "Epoch 3/100\n",
      "42000/42000 [==============================] - 1s 34us/sample - loss: 1.3719 - acc: 0.5508 - val_loss: 1.2253 - val_acc: 0.6167\n",
      "Epoch 4/100\n",
      "42000/42000 [==============================] - 1s 34us/sample - loss: 1.2032 - acc: 0.6195 - val_loss: 1.1142 - val_acc: 0.6461\n",
      "Epoch 5/100\n",
      "42000/42000 [==============================] - 1s 33us/sample - loss: 1.1020 - acc: 0.6560 - val_loss: 1.1006 - val_acc: 0.6554\n",
      "Epoch 6/100\n",
      "42000/42000 [==============================] - 1s 33us/sample - loss: 1.0085 - acc: 0.6914 - val_loss: 0.9612 - val_acc: 0.7051\n",
      "Epoch 7/100\n",
      "42000/42000 [==============================] - 1s 34us/sample - loss: 0.9561 - acc: 0.7057 - val_loss: 0.9210 - val_acc: 0.7171\n",
      "Epoch 8/100\n",
      "42000/42000 [==============================] - 1s 33us/sample - loss: 0.9129 - acc: 0.7191 - val_loss: 0.8829 - val_acc: 0.7283\n",
      "Epoch 9/100\n",
      "42000/42000 [==============================] - 1s 34us/sample - loss: 0.8826 - acc: 0.7286 - val_loss: 0.8552 - val_acc: 0.7357\n",
      "Epoch 10/100\n",
      "42000/42000 [==============================] - 1s 34us/sample - loss: 0.8457 - acc: 0.7389 - val_loss: 0.8717 - val_acc: 0.7290\n",
      "Epoch 11/100\n",
      "42000/42000 [==============================] - 1s 33us/sample - loss: 0.8192 - acc: 0.7492 - val_loss: 0.7918 - val_acc: 0.7582\n",
      "Epoch 12/100\n",
      "42000/42000 [==============================] - 1s 34us/sample - loss: 0.7857 - acc: 0.7590 - val_loss: 0.7627 - val_acc: 0.7674\n",
      "Epoch 13/100\n",
      "42000/42000 [==============================] - 1s 34us/sample - loss: 0.7652 - acc: 0.7653 - val_loss: 0.7550 - val_acc: 0.7697\n",
      "Epoch 14/100\n",
      "42000/42000 [==============================] - 1s 33us/sample - loss: 0.7521 - acc: 0.7700 - val_loss: 0.7378 - val_acc: 0.7746\n",
      "Epoch 15/100\n",
      "42000/42000 [==============================] - 1s 33us/sample - loss: 0.7361 - acc: 0.7727 - val_loss: 0.7241 - val_acc: 0.7775\n",
      "Epoch 16/100\n",
      "42000/42000 [==============================] - 1s 34us/sample - loss: 0.7134 - acc: 0.7828 - val_loss: 0.7381 - val_acc: 0.7753\n",
      "Epoch 17/100\n",
      "42000/42000 [==============================] - 1s 34us/sample - loss: 0.7001 - acc: 0.7865 - val_loss: 0.7082 - val_acc: 0.7829\n",
      "Epoch 18/100\n",
      "42000/42000 [==============================] - 1s 33us/sample - loss: 0.6857 - acc: 0.7899 - val_loss: 0.6547 - val_acc: 0.8033\n",
      "Epoch 19/100\n",
      "42000/42000 [==============================] - 1s 33us/sample - loss: 0.6573 - acc: 0.7994 - val_loss: 0.6715 - val_acc: 0.7939\n",
      "Epoch 20/100\n",
      "42000/42000 [==============================] - 1s 34us/sample - loss: 0.6460 - acc: 0.8035 - val_loss: 0.6218 - val_acc: 0.8133\n",
      "Epoch 21/100\n",
      "42000/42000 [==============================] - 1s 35us/sample - loss: 0.6356 - acc: 0.8065 - val_loss: 0.6247 - val_acc: 0.8104\n",
      "Epoch 22/100\n",
      "42000/42000 [==============================] - 1s 34us/sample - loss: 0.6207 - acc: 0.8092 - val_loss: 0.6296 - val_acc: 0.8113\n",
      "Epoch 23/100\n",
      "42000/42000 [==============================] - 1s 34us/sample - loss: 0.6100 - acc: 0.8109 - val_loss: 0.6499 - val_acc: 0.8031\n",
      "Epoch 24/100\n",
      "42000/42000 [==============================] - 1s 34us/sample - loss: 0.6063 - acc: 0.8150 - val_loss: 0.6130 - val_acc: 0.8158\n",
      "Epoch 25/100\n",
      "42000/42000 [==============================] - 1s 34us/sample - loss: 0.5978 - acc: 0.8161 - val_loss: 0.6074 - val_acc: 0.8156\n",
      "Epoch 26/100\n",
      "42000/42000 [==============================] - 1s 34us/sample - loss: 0.5909 - acc: 0.8172 - val_loss: 0.6174 - val_acc: 0.8132\n",
      "Epoch 27/100\n",
      "42000/42000 [==============================] - 1s 34us/sample - loss: 0.5791 - acc: 0.8207 - val_loss: 0.6080 - val_acc: 0.8135\n",
      "Epoch 28/100\n",
      "42000/42000 [==============================] - 1s 34us/sample - loss: 0.5660 - acc: 0.8263 - val_loss: 0.5625 - val_acc: 0.8310\n",
      "Epoch 29/100\n",
      "42000/42000 [==============================] - 1s 34us/sample - loss: 0.5594 - acc: 0.8287 - val_loss: 0.5602 - val_acc: 0.8319\n",
      "Epoch 30/100\n",
      "42000/42000 [==============================] - 1s 34us/sample - loss: 0.5622 - acc: 0.8266 - val_loss: 0.5874 - val_acc: 0.8190\n",
      "Epoch 31/100\n",
      "42000/42000 [==============================] - 1s 34us/sample - loss: 0.5387 - acc: 0.8337 - val_loss: 0.5742 - val_acc: 0.8251\n",
      "Epoch 32/100\n",
      "42000/42000 [==============================] - 1s 34us/sample - loss: 0.5388 - acc: 0.8349 - val_loss: 0.5469 - val_acc: 0.8349\n",
      "Epoch 33/100\n",
      "42000/42000 [==============================] - 1s 34us/sample - loss: 0.5406 - acc: 0.8323 - val_loss: 0.5513 - val_acc: 0.8334\n",
      "Epoch 34/100\n",
      "42000/42000 [==============================] - 1s 34us/sample - loss: 0.5169 - acc: 0.8404 - val_loss: 0.5466 - val_acc: 0.8348\n",
      "Epoch 35/100\n",
      "42000/42000 [==============================] - 1s 34us/sample - loss: 0.5228 - acc: 0.8395 - val_loss: 0.5574 - val_acc: 0.8296\n",
      "Epoch 36/100\n",
      "42000/42000 [==============================] - 1s 34us/sample - loss: 0.5127 - acc: 0.8416 - val_loss: 0.5496 - val_acc: 0.8335\n",
      "Epoch 37/100\n",
      "42000/42000 [==============================] - 1s 34us/sample - loss: 0.5102 - acc: 0.8420 - val_loss: 0.5048 - val_acc: 0.8494\n",
      "Epoch 38/100\n",
      "42000/42000 [==============================] - 1s 34us/sample - loss: 0.5022 - acc: 0.8434 - val_loss: 0.5371 - val_acc: 0.8385\n",
      "Epoch 39/100\n",
      "42000/42000 [==============================] - 1s 34us/sample - loss: 0.4900 - acc: 0.8473 - val_loss: 0.5220 - val_acc: 0.8414\n",
      "Epoch 40/100\n",
      "42000/42000 [==============================] - 1s 33us/sample - loss: 0.4865 - acc: 0.8471 - val_loss: 0.5313 - val_acc: 0.8378\n",
      "Epoch 41/100\n",
      "42000/42000 [==============================] - 1s 34us/sample - loss: 0.4753 - acc: 0.8519 - val_loss: 0.5207 - val_acc: 0.8425\n",
      "Epoch 42/100\n",
      "42000/42000 [==============================] - 1s 33us/sample - loss: 0.4799 - acc: 0.8509 - val_loss: 0.5088 - val_acc: 0.8462\n",
      "Epoch 43/100\n",
      "42000/42000 [==============================] - 1s 35us/sample - loss: 0.4692 - acc: 0.8541 - val_loss: 0.5058 - val_acc: 0.8476\n",
      "Epoch 44/100\n",
      "42000/42000 [==============================] - 1s 34us/sample - loss: 0.4765 - acc: 0.8522 - val_loss: 0.5663 - val_acc: 0.8251\n",
      "Epoch 45/100\n",
      "42000/42000 [==============================] - 1s 35us/sample - loss: 0.4714 - acc: 0.8516 - val_loss: 0.4879 - val_acc: 0.8522\n",
      "Epoch 46/100\n",
      "42000/42000 [==============================] - 1s 34us/sample - loss: 0.4612 - acc: 0.8551 - val_loss: 0.5190 - val_acc: 0.8417\n",
      "Epoch 47/100\n",
      "42000/42000 [==============================] - 1s 34us/sample - loss: 0.4538 - acc: 0.8593 - val_loss: 0.4926 - val_acc: 0.8515\n",
      "Epoch 48/100\n",
      "42000/42000 [==============================] - 1s 34us/sample - loss: 0.4495 - acc: 0.8592 - val_loss: 0.5023 - val_acc: 0.8475\n",
      "Epoch 49/100\n",
      "42000/42000 [==============================] - 1s 34us/sample - loss: 0.4520 - acc: 0.8584 - val_loss: 0.4826 - val_acc: 0.8558\n",
      "Epoch 50/100\n",
      "42000/42000 [==============================] - 1s 34us/sample - loss: 0.4394 - acc: 0.8628 - val_loss: 0.4907 - val_acc: 0.8526\n",
      "Epoch 51/100\n",
      "42000/42000 [==============================] - 1s 34us/sample - loss: 0.4406 - acc: 0.8609 - val_loss: 0.4971 - val_acc: 0.8479\n",
      "Epoch 52/100\n",
      "42000/42000 [==============================] - 1s 34us/sample - loss: 0.4302 - acc: 0.8655 - val_loss: 0.5105 - val_acc: 0.8440\n",
      "Epoch 53/100\n",
      "42000/42000 [==============================] - 1s 34us/sample - loss: 0.4339 - acc: 0.8640 - val_loss: 0.4824 - val_acc: 0.8548\n",
      "Epoch 54/100\n",
      "42000/42000 [==============================] - 1s 34us/sample - loss: 0.4227 - acc: 0.8673 - val_loss: 0.4644 - val_acc: 0.8623\n",
      "Epoch 55/100\n",
      "42000/42000 [==============================] - 1s 34us/sample - loss: 0.4224 - acc: 0.8681 - val_loss: 0.4801 - val_acc: 0.8535\n",
      "Epoch 56/100\n",
      "42000/42000 [==============================] - 1s 34us/sample - loss: 0.4155 - acc: 0.8696 - val_loss: 0.4879 - val_acc: 0.8543\n",
      "Epoch 57/100\n",
      "42000/42000 [==============================] - 1s 34us/sample - loss: 0.4075 - acc: 0.8720 - val_loss: 0.5084 - val_acc: 0.8450\n",
      "Epoch 58/100\n",
      "42000/42000 [==============================] - 1s 34us/sample - loss: 0.4178 - acc: 0.8675 - val_loss: 0.4496 - val_acc: 0.8663\n",
      "Epoch 59/100\n",
      "42000/42000 [==============================] - 1s 34us/sample - loss: 0.4165 - acc: 0.8688 - val_loss: 0.4607 - val_acc: 0.8608\n",
      "Epoch 60/100\n",
      "42000/42000 [==============================] - 1s 33us/sample - loss: 0.4082 - acc: 0.8715 - val_loss: 0.4789 - val_acc: 0.8537\n",
      "Epoch 61/100\n",
      "42000/42000 [==============================] - 1s 33us/sample - loss: 0.3947 - acc: 0.8778 - val_loss: 0.4393 - val_acc: 0.8693\n",
      "Epoch 62/100\n",
      "42000/42000 [==============================] - 1s 34us/sample - loss: 0.3914 - acc: 0.8786 - val_loss: 0.4674 - val_acc: 0.8592\n",
      "Epoch 63/100\n",
      "42000/42000 [==============================] - 1s 34us/sample - loss: 0.3937 - acc: 0.8759 - val_loss: 0.4538 - val_acc: 0.8623\n",
      "Epoch 64/100\n",
      "42000/42000 [==============================] - 1s 34us/sample - loss: 0.3917 - acc: 0.8766 - val_loss: 0.4473 - val_acc: 0.8667\n",
      "Epoch 65/100\n",
      "42000/42000 [==============================] - 1s 34us/sample - loss: 0.3855 - acc: 0.8779 - val_loss: 0.4506 - val_acc: 0.8655\n",
      "Epoch 66/100\n",
      "42000/42000 [==============================] - 1s 34us/sample - loss: 0.3815 - acc: 0.8798 - val_loss: 0.4496 - val_acc: 0.8656\n",
      "Epoch 67/100\n",
      "42000/42000 [==============================] - 1s 34us/sample - loss: 0.3769 - acc: 0.8823 - val_loss: 0.4353 - val_acc: 0.8691\n",
      "Epoch 68/100\n",
      "42000/42000 [==============================] - 1s 34us/sample - loss: 0.3803 - acc: 0.8789 - val_loss: 0.4666 - val_acc: 0.8576\n",
      "Epoch 69/100\n",
      "42000/42000 [==============================] - 1s 34us/sample - loss: 0.3822 - acc: 0.8776 - val_loss: 0.4307 - val_acc: 0.8724\n",
      "Epoch 70/100\n",
      "42000/42000 [==============================] - 1s 34us/sample - loss: 0.3742 - acc: 0.8815 - val_loss: 0.4504 - val_acc: 0.8665\n",
      "Epoch 71/100\n",
      "42000/42000 [==============================] - 1s 34us/sample - loss: 0.3725 - acc: 0.8826 - val_loss: 0.4314 - val_acc: 0.8723\n",
      "Epoch 72/100\n",
      "42000/42000 [==============================] - 1s 34us/sample - loss: 0.3686 - acc: 0.8846 - val_loss: 0.4636 - val_acc: 0.8619\n",
      "Epoch 73/100\n",
      "42000/42000 [==============================] - 1s 34us/sample - loss: 0.3739 - acc: 0.8818 - val_loss: 0.4185 - val_acc: 0.8777\n",
      "Epoch 74/100\n",
      "42000/42000 [==============================] - 1s 34us/sample - loss: 0.3646 - acc: 0.8850 - val_loss: 0.4240 - val_acc: 0.8741\n",
      "Epoch 75/100\n",
      "42000/42000 [==============================] - 1s 34us/sample - loss: 0.3610 - acc: 0.8839 - val_loss: 0.4322 - val_acc: 0.8720\n",
      "Epoch 76/100\n",
      "42000/42000 [==============================] - 1s 34us/sample - loss: 0.3531 - acc: 0.8875 - val_loss: 0.4758 - val_acc: 0.8566\n",
      "Epoch 77/100\n",
      "42000/42000 [==============================] - 1s 34us/sample - loss: 0.3569 - acc: 0.8866 - val_loss: 0.4130 - val_acc: 0.8775\n",
      "Epoch 78/100\n",
      "42000/42000 [==============================] - 1s 34us/sample - loss: 0.3471 - acc: 0.8895 - val_loss: 0.4102 - val_acc: 0.8778\n",
      "Epoch 79/100\n",
      "42000/42000 [==============================] - 1s 34us/sample - loss: 0.3510 - acc: 0.8877 - val_loss: 0.4415 - val_acc: 0.8690\n",
      "Epoch 80/100\n",
      "42000/42000 [==============================] - 1s 34us/sample - loss: 0.3452 - acc: 0.8884 - val_loss: 0.4068 - val_acc: 0.8814\n",
      "Epoch 81/100\n",
      "42000/42000 [==============================] - 1s 34us/sample - loss: 0.3537 - acc: 0.8878 - val_loss: 0.4188 - val_acc: 0.8768\n",
      "Epoch 82/100\n",
      "42000/42000 [==============================] - 1s 34us/sample - loss: 0.3458 - acc: 0.8895 - val_loss: 0.4576 - val_acc: 0.8641\n",
      "Epoch 83/100\n",
      "42000/42000 [==============================] - 1s 34us/sample - loss: 0.3419 - acc: 0.8902 - val_loss: 0.4283 - val_acc: 0.8730\n",
      "Epoch 84/100\n",
      "42000/42000 [==============================] - 1s 34us/sample - loss: 0.3366 - acc: 0.8919 - val_loss: 0.4184 - val_acc: 0.8766\n",
      "Epoch 85/100\n",
      "42000/42000 [==============================] - 1s 34us/sample - loss: 0.3537 - acc: 0.8874 - val_loss: 0.4809 - val_acc: 0.8561\n",
      "Epoch 86/100\n",
      "42000/42000 [==============================] - 1s 35us/sample - loss: 0.3386 - acc: 0.8915 - val_loss: 0.4387 - val_acc: 0.8716\n",
      "Epoch 87/100\n",
      "42000/42000 [==============================] - 1s 35us/sample - loss: 0.3352 - acc: 0.8924 - val_loss: 0.4181 - val_acc: 0.8771\n",
      "Epoch 88/100\n",
      "42000/42000 [==============================] - 2s 36us/sample - loss: 0.3431 - acc: 0.8891 - val_loss: 0.4160 - val_acc: 0.8786\n",
      "Epoch 89/100\n",
      "42000/42000 [==============================] - 2s 36us/sample - loss: 0.3280 - acc: 0.8953 - val_loss: 0.4156 - val_acc: 0.8783\n",
      "Epoch 90/100\n",
      "42000/42000 [==============================] - 2s 36us/sample - loss: 0.3191 - acc: 0.8970 - val_loss: 0.4300 - val_acc: 0.8741\n",
      "Epoch 91/100\n",
      "42000/42000 [==============================] - 1s 35us/sample - loss: 0.3211 - acc: 0.8978 - val_loss: 0.4105 - val_acc: 0.8830\n",
      "Epoch 92/100\n",
      "42000/42000 [==============================] - 2s 36us/sample - loss: 0.3191 - acc: 0.8975 - val_loss: 0.4441 - val_acc: 0.8691\n",
      "Epoch 93/100\n",
      "42000/42000 [==============================] - 2s 36us/sample - loss: 0.3120 - acc: 0.8991 - val_loss: 0.4011 - val_acc: 0.8842\n",
      "Epoch 94/100\n",
      "42000/42000 [==============================] - 2s 37us/sample - loss: 0.3162 - acc: 0.8990 - val_loss: 0.4168 - val_acc: 0.8788\n",
      "Epoch 95/100\n",
      "42000/42000 [==============================] - 1s 34us/sample - loss: 0.3146 - acc: 0.8997 - val_loss: 0.3934 - val_acc: 0.8869\n",
      "Epoch 96/100\n",
      "42000/42000 [==============================] - 1s 34us/sample - loss: 0.3137 - acc: 0.8994 - val_loss: 0.4162 - val_acc: 0.8801\n",
      "Epoch 97/100\n",
      "42000/42000 [==============================] - 1s 34us/sample - loss: 0.3139 - acc: 0.8995 - val_loss: 0.3990 - val_acc: 0.8839\n",
      "Epoch 98/100\n",
      "42000/42000 [==============================] - 1s 34us/sample - loss: 0.3097 - acc: 0.8989 - val_loss: 0.3967 - val_acc: 0.8868\n",
      "Epoch 99/100\n",
      "42000/42000 [==============================] - 1s 34us/sample - loss: 0.3101 - acc: 0.9012 - val_loss: 0.4124 - val_acc: 0.8802\n",
      "Epoch 100/100\n",
      "42000/42000 [==============================] - 1s 34us/sample - loss: 0.3002 - acc: 0.9035 - val_loss: 0.4284 - val_acc: 0.8768\n"
     ]
    }
   ],
   "source": [
    "# compiling the neural network classifier, adam optimizer\n",
    "adam = optimizers.Adam(lr = 0.001)\n",
    "model3.compile(optimizer = adam, loss = 'categorical_crossentropy', metrics = ['accuracy'])\n",
    "\n",
    "# Fitting the neural network for training\n",
    "history = model3.fit(X_train, y_train, validation_data = (X_val, y_val), batch_size = 200, epochs = 100, verbose = 1)"
   ]
  },
  {
   "cell_type": "code",
   "execution_count": 55,
   "metadata": {
    "colab": {
     "base_uri": "https://localhost:8080/",
     "height": 84
    },
    "id": "VpvYTYz7LVgv",
    "outputId": "91d04319-f1a7-4c4e-87f6-d32369aa1507"
   },
   "outputs": [
    {
     "name": "stdout",
     "output_type": "stream",
     "text": [
      "NN with batch normalization\n",
      "--------------------------------------------------------------------------------\n",
      "60000/60000 [==============================] - 3s 58us/sample - loss: 0.4284 - acc: 0.8768\n",
      "Validation accuracy: 87.68\n"
     ]
    }
   ],
   "source": [
    "\n",
    "print('NN with batch normalization'); print('--'*40)\n",
    "results3 = model3.evaluate(X_val, y_val)\n",
    "print('Validation accuracy: {}'.format(round(results3[1]*100, 2), '%'))"
   ]
  },
  {
   "cell_type": "code",
   "execution_count": 56,
   "metadata": {
    "colab": {
     "base_uri": "https://localhost:8080/",
     "height": 84
    },
    "id": "lDSA0RPFL7Jt",
    "outputId": "15de5982-9dd9-40de-91bc-6e9c48be56f1"
   },
   "outputs": [
    {
     "name": "stdout",
     "output_type": "stream",
     "text": [
      "Testing the model on test dataset\n",
      "18000/18000 [==============================] - 1s 57us/sample - loss: 0.6978 - acc: 0.8243\n",
      "Test loss : 0.6978000909752315\n",
      "Test accuracy : 0.82427776\n"
     ]
    }
   ],
   "source": [
    "print('Testing the model on test dataset')\n",
    "predictions = model3.predict_classes(X_test)\n",
    "score = model3.evaluate(X_test, y_test)\n",
    "print('Test loss :', score[0])\n",
    "print('Test accuracy :', score[1])"
   ]
  },
  {
   "cell_type": "code",
   "execution_count": 57,
   "metadata": {
    "colab": {
     "base_uri": "https://localhost:8080/",
     "height": 336
    },
    "id": "o3JAwdPGL_F1",
    "outputId": "01ad0a7e-beed-4e5b-bbfe-4c1c8cf37019"
   },
   "outputs": [
    {
     "name": "stdout",
     "output_type": "stream",
     "text": [
      "Classification Report\n",
      "--------------------------------------------------------------------------------\n",
      "              precision    recall  f1-score   support\n",
      "\n",
      "           0       0.89      0.83      0.86      1814\n",
      "           1       0.77      0.87      0.82      1828\n",
      "           2       0.83      0.85      0.84      1803\n",
      "           3       0.82      0.77      0.79      1719\n",
      "           4       0.82      0.89      0.85      1812\n",
      "           5       0.81      0.81      0.81      1768\n",
      "           6       0.87      0.77      0.82      1832\n",
      "           7       0.84      0.88      0.86      1808\n",
      "           8       0.79      0.76      0.78      1812\n",
      "           9       0.81      0.81      0.81      1804\n",
      "\n",
      "    accuracy                           0.82     18000\n",
      "   macro avg       0.83      0.82      0.82     18000\n",
      "weighted avg       0.83      0.82      0.82     18000\n",
      "\n"
     ]
    }
   ],
   "source": [
    "print('Classification Report'); print('--'*40)\n",
    "print(classification_report(y_test_o, predictions))"
   ]
  },
  {
   "cell_type": "code",
   "execution_count": 58,
   "metadata": {
    "colab": {
     "base_uri": "https://localhost:8080/",
     "height": 472
    },
    "id": "FPMrodBOMBtX",
    "outputId": "66be5dde-c689-41b2-a859-b00828b60bca"
   },
   "outputs": [
    {
     "name": "stdout",
     "output_type": "stream",
     "text": [
      "Visualizing the confusion matrix\n"
     ]
    },
    {
     "data": {
      "text/plain": [
       "<matplotlib.axes._subplots.AxesSubplot at 0x7fa88bdc35c0>"
      ]
     },
     "execution_count": 58,
     "metadata": {
      "tags": []
     },
     "output_type": "execute_result"
    },
    {
     "data": {
      "image/png": "[encoded data removed]",
      "text/plain": [
       "<Figure size 1080x518.4 with 2 Axes>"
      ]
     },
     "metadata": {
      "needs_background": "light",
      "tags": []
     },
     "output_type": "display_data"
    }
   ],
   "source": [
    "print('Visualizing the confusion matrix')\n",
    "plt.figure(figsize = (15, 7.2))\n",
    "sns.heatmap(confusion_matrix(y_test_o, predictions), annot = True)"
   ]
  },
  {
   "cell_type": "code",
   "execution_count": 59,
   "metadata": {
    "colab": {
     "base_uri": "https://localhost:8080/",
     "height": 575
    },
    "id": "wTNdWEBcMFT7",
    "outputId": "59a477ec-f85b-4410-ff22-2079548b0648"
   },
   "outputs": [
    {
     "data": {
      "image/png": "[encoded data removed]",
      "text/plain": [
       "<Figure size 432x288 with 1 Axes>"
      ]
     },
     "metadata": {
      "needs_background": "light",
      "tags": []
     },
     "output_type": "display_data"
    },
    {
     "data": {
      "image/png": "[encoded data removed]",
      "text/plain": [
       "<Figure size 432x288 with 1 Axes>"
      ]
     },
     "metadata": {
      "needs_background": "light",
      "tags": []
     },
     "output_type": "display_data"
    }
   ],
   "source": [
    "# summarize history for accuracy\n",
    "plt.plot(history.history['acc'])\n",
    "plt.plot(history.history['val_acc'])\n",
    "plt.title('Model3 Accuracy')\n",
    "plt.ylabel('accuracy')\n",
    "plt.xlabel('epoch')\n",
    "plt.legend(['Train', 'Validation'], loc = 'upper left')\n",
    "plt.show()\n",
    "# summarize history for loss\n",
    "plt.plot(history.history['loss'])\n",
    "plt.plot(history.history['val_loss'])\n",
    "plt.title('Model3 Loss')\n",
    "plt.ylabel('loss')\n",
    "plt.xlabel('epoch')\n",
    "plt.legend(['Train', 'Validation'], loc = 'upper left')\n",
    "plt.show()"
   ]
  },
  {
   "cell_type": "code",
   "execution_count": 66,
   "metadata": {
    "colab": {
     "base_uri": "https://localhost:8080/",
     "height": 279
    },
    "id": "b5Sypg2AMJvB",
    "outputId": "be9e2bb2-f847-4e68-862d-a5408b8bf86b"
   },
   "outputs": [
    {
     "data": {
      "text/plain": [
       "<matplotlib.image.AxesImage at 0x7fa876f0ff60>"
      ]
     },
     "execution_count": 66,
     "metadata": {
      "tags": []
     },
     "output_type": "execute_result"
    },
    {
     "data": {
      "image/png": "[encoded data removed]",
      "text/plain": [
       "<Figure size 432x288 with 1 Axes>"
      ]
     },
     "metadata": {
      "needs_background": "light",
      "tags": []
     },
     "output_type": "display_data"
    }
   ],
   "source": [
    "plt.imshow(X_test[5].reshape(32, 32), cmap = 'gray')\n"
   ]
  },
  {
   "cell_type": "code",
   "execution_count": 67,
   "metadata": {
    "colab": {
     "base_uri": "https://localhost:8080/",
     "height": 34
    },
    "id": "ciGJEDtoMxf_",
    "outputId": "b2927621-9a9f-461d-a779-dd46280ee903"
   },
   "outputs": [
    {
     "data": {
      "text/plain": [
       "9"
      ]
     },
     "execution_count": 67,
     "metadata": {
      "tags": []
     },
     "output_type": "execute_result"
    }
   ],
   "source": [
    "model3.predict_classes(X_test)[5]"
   ]
  },
  {
   "cell_type": "code",
   "execution_count": 61,
   "metadata": {
    "colab": {
     "base_uri": "https://localhost:8080/",
     "height": 279
    },
    "id": "yp2T6IrgMOto",
    "outputId": "b52b2713-0aab-4e34-941f-266c476f58c6"
   },
   "outputs": [
    {
     "data": {
      "text/plain": [
       "<matplotlib.image.AxesImage at 0x7fa88c438588>"
      ]
     },
     "execution_count": 61,
     "metadata": {
      "tags": []
     },
     "output_type": "execute_result"
    },
    {
     "data": {
      "image/png": "[encoded data removed]",
      "text/plain": [
       "<Figure size 432x288 with 1 Axes>"
      ]
     },
     "metadata": {
      "needs_background": "light",
      "tags": []
     },
     "output_type": "display_data"
    }
   ],
   "source": [
    "#Showing the image\n",
    "plt.imshow(X_test[20].reshape(32, 32), cmap = 'gray')"
   ]
  },
  {
   "cell_type": "code",
   "execution_count": 63,
   "metadata": {
    "colab": {
     "base_uri": "https://localhost:8080/",
     "height": 34
    },
    "id": "lkAV37RSMSwS",
    "outputId": "04ab9d96-8f46-4e79-9126-8e885a16afd7"
   },
   "outputs": [
    {
     "data": {
      "text/plain": [
       "0"
      ]
     },
     "execution_count": 63,
     "metadata": {
      "tags": []
     },
     "output_type": "execute_result"
    }
   ],
   "source": [
    "model3.predict_classes(X_test)[20]"
   ]
  },
  {
   "cell_type": "code",
   "execution_count": 64,
   "metadata": {
    "colab": {
     "base_uri": "https://localhost:8080/",
     "height": 279
    },
    "id": "Ue4G9bOkMgNP",
    "outputId": "3e49ef99-9307-4e16-d4a1-69f699dd54c1"
   },
   "outputs": [
    {
     "data": {
      "text/plain": [
       "<matplotlib.image.AxesImage at 0x7fa876faeb70>"
      ]
     },
     "execution_count": 64,
     "metadata": {
      "tags": []
     },
     "output_type": "execute_result"
    },
    {
     "data": {
      "image/png": "[encoded data removed]",
      "text/plain": [
       "<Figure size 432x288 with 1 Axes>"
      ]
     },
     "metadata": {
      "needs_background": "light",
      "tags": []
     },
     "output_type": "display_data"
    }
   ],
   "source": [
    "plt.imshow(X_test[10].reshape(32, 32), cmap = 'gray')"
   ]
  },
  {
   "cell_type": "code",
   "execution_count": 65,
   "metadata": {
    "colab": {
     "base_uri": "https://localhost:8080/",
     "height": 34
    },
    "id": "RiYq-p-2Mira",
    "outputId": "5f40adb9-2823-474d-eff9-845023c19af7"
   },
   "outputs": [
    {
     "data": {
      "text/plain": [
       "8"
      ]
     },
     "execution_count": 65,
     "metadata": {
      "tags": []
     },
     "output_type": "execute_result"
    }
   ],
   "source": [
    "model3.predict_classes(X_test)[10]"
   ]
  }
 ],
 "metadata": {
  "accelerator": "GPU",
  "colab": {
   "name": "Untitled1.ipynb",
   "provenance": []
  },
  "kernelspec": {
   "display_name": "Python 3",
   "language": "python",
   "name": "python3"
  },
  "language_info": {
   "codemirror_mode": {
    "name": "ipython",
    "version": 3
   },
   "file_extension": ".py",
   "mimetype": "text/x-python",
   "name": "python",
   "nbconvert_exporter": "python",
   "pygments_lexer": "ipython3",
   "version": "3.7.4"
  }
 },
 "nbformat": 4,
 "nbformat_minor": 1
}
